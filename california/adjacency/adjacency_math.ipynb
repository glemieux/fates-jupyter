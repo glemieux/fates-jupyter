{
 "cells": [
  {
   "cell_type": "markdown",
   "metadata": {},
   "source": [
    "# Adjacency matrix math"
   ]
  },
  {
   "cell_type": "markdown",
   "metadata": {},
   "source": [
    "## Dietz et all paper"
   ]
  },
  {
   "cell_type": "markdown",
   "metadata": {},
   "source": [
    "Generate a random array of areas (age x patch)"
   ]
  },
  {
   "cell_type": "code",
   "execution_count": 16,
   "metadata": {},
   "outputs": [
    {
     "data": {
      "text/plain": [
       "10×20 Array{Float64,2}:\n",
       " 8.0  10.0   4.0   3.0  10.0   7.0   6.0  …  1.0   4.0  9.0  5.0  6.0   4.0\n",
       " 6.0  10.0   1.0   7.0   5.0   7.0   7.0     3.0   1.0  5.0  7.0  9.0   2.0\n",
       " 7.0   9.0   3.0   4.0   2.0   8.0   2.0     9.0   1.0  9.0  7.0  5.0  10.0\n",
       " 3.0   7.0   6.0   1.0   3.0  10.0  10.0     3.0   5.0  3.0  2.0  5.0  10.0\n",
       " 9.0   2.0   9.0   1.0   4.0   2.0   5.0     2.0   5.0  4.0  9.0  3.0   6.0\n",
       " 7.0   1.0   2.0   5.0   2.0   1.0   3.0  …  2.0   7.0  5.0  9.0  2.0   9.0\n",
       " 3.0  10.0   8.0   4.0   8.0   5.0   1.0     8.0   4.0  1.0  8.0  5.0   8.0\n",
       " 8.0   9.0  10.0   2.0   1.0   8.0  10.0     1.0  10.0  5.0  8.0  7.0   5.0\n",
       " 4.0   4.0   3.0   4.0   8.0   7.0   6.0     7.0   6.0  7.0  3.0  6.0   6.0\n",
       " 7.0   6.0   4.0  10.0   2.0   6.0   5.0     1.0   3.0  1.0  1.0  2.0   6.0"
      ]
     },
     "execution_count": 16,
     "metadata": {},
     "output_type": "execute_result"
    }
   ],
   "source": [
    "areas_age_patch = rand(1.0:10.0, (10,20))"
   ]
  },
  {
   "cell_type": "markdown",
   "metadata": {},
   "source": [
    "Calculate the _fraction of areas for each age class_"
   ]
  },
  {
   "cell_type": "code",
   "execution_count": 20,
   "metadata": {},
   "outputs": [
    {
     "data": {
      "text/plain": [
       "10-element Array{Float64,1}:\n",
       " 0.113345521023766\n",
       " 0.10603290676416818\n",
       " 0.09597806215722121\n",
       " 0.10237659963436929\n",
       " 0.08226691042047529\n",
       " 0.08775137111517367\n",
       " 0.10420475319926875\n",
       " 0.11151736745886655\n",
       " 0.10877513711151736\n",
       " 0.08775137111517368"
      ]
     },
     "execution_count": 20,
     "metadata": {},
     "output_type": "execute_result"
    }
   ],
   "source": [
    "fracarea_age = sum.(eachrow(areas_age_patch./sum(areas_age_patch)))"
   ]
  },
  {
   "cell_type": "markdown",
   "metadata": {},
   "source": [
    "Generate a random vector of _probability of disturbance initiation_"
   ]
  },
  {
   "cell_type": "code",
   "execution_count": 22,
   "metadata": {},
   "outputs": [
    {
     "data": {
      "text/plain": [
       "10-element Array{Float64,1}:\n",
       " 0.7132765570312911\n",
       " 0.7459773564231225\n",
       " 0.23896500723265746\n",
       " 0.3895479077461912\n",
       " 0.19361586160013067\n",
       " 0.9212398488967886\n",
       " 0.6972295698746003\n",
       " 0.5570830175945638\n",
       " 0.4930659191993949\n",
       " 0.4811556774105499"
      ]
     },
     "execution_count": 22,
     "metadata": {},
     "output_type": "execute_result"
    }
   ],
   "source": [
    "p_0 = rand(10)"
   ]
  },
  {
   "cell_type": "markdown",
   "metadata": {},
   "source": [
    "Calculate the _initial disturbance area_.  I think this is actually initial disturbance area _fraction_."
   ]
  },
  {
   "cell_type": "code",
   "execution_count": 23,
   "metadata": {},
   "outputs": [
    {
     "data": {
      "text/plain": [
       "10-element Array{Float64,1}:\n",
       " 0.08084670299074963\n",
       " 0.0790981474817936\n",
       " 0.022935398317576815\n",
       " 0.03988059018973804\n",
       " 0.015928178742241093\n",
       " 0.08084005986662861\n",
       " 0.07265463525201503\n",
       " 0.062124431578187186\n",
       " 0.05363331296593052\n",
       " 0.042222070412625955"
      ]
     },
     "execution_count": 23,
     "metadata": {},
     "output_type": "execute_result"
    }
   ],
   "source": [
    "I_1 = p_0.*fracarea_age"
   ]
  },
  {
   "cell_type": "markdown",
   "metadata": {},
   "source": [
    "Generate an **initial adjacency matrix `A_0`**.  Right now this is random; make this a geometric decay distribution later."
   ]
  },
  {
   "cell_type": "code",
   "execution_count": 56,
   "metadata": {},
   "outputs": [],
   "source": [
    "A_0 = rand(Float64,(10,10));"
   ]
  },
  {
   "cell_type": "markdown",
   "metadata": {},
   "source": [
    "Set a scalar parameter for a simple **probability of spread across age class `p_s`**"
   ]
  },
  {
   "cell_type": "code",
   "execution_count": 24,
   "metadata": {},
   "outputs": [
    {
     "data": {
      "text/plain": [
       "0.1"
      ]
     },
     "execution_count": 24,
     "metadata": {},
     "output_type": "execute_result"
    }
   ],
   "source": [
    "p_s = 0.1"
   ]
  },
  {
   "cell_type": "markdown",
   "metadata": {},
   "source": [
    "Calculate **probability of distribution spread to h patches, `I`**"
   ]
  },
  {
   "cell_type": "code",
   "execution_count": 71,
   "metadata": {},
   "outputs": [],
   "source": [
    "I = Array{Float64}(undef,(10,10))\n",
    "for h = 1:10\n",
    "    I[h,:] = ((p_s*A_0).^h)*I_1\n",
    "end"
   ]
  },
  {
   "cell_type": "markdown",
   "metadata": {},
   "source": [
    "Calculate **overall disturbance rate, `D`**"
   ]
  },
  {
   "cell_type": "code",
   "execution_count": 72,
   "metadata": {},
   "outputs": [
    {
     "data": {
      "text/plain": [
       "10-element Array{Float64,1}:\n",
       " 0.26351614045409855\n",
       " 0.017004249553559846\n",
       " 0.0012640568532815996\n",
       " 0.00010140352509934662\n",
       " 8.511737616967833e-6\n",
       " 7.360454371828044e-7\n",
       " 6.500972629421475e-8\n",
       " 5.833993083449059e-9\n",
       " 5.30108604245238e-10\n",
       " 4.865416792630755e-11"
      ]
     },
     "execution_count": 72,
     "metadata": {},
     "output_type": "execute_result"
    }
   ],
   "source": [
    "D = sum.(eachrow(I))"
   ]
  },
  {
   "cell_type": "markdown",
   "metadata": {},
   "source": [
    "Calculate **size distribution, `p(h)`**"
   ]
  },
  {
   "cell_type": "code",
   "execution_count": null,
   "metadata": {},
   "outputs": [],
   "source": [
    "function p(h,I)\n",
    "    \n",
    "end"
   ]
  },
  {
   "cell_type": "markdown",
   "metadata": {},
   "source": [
    "## Initial explorations"
   ]
  },
  {
   "cell_type": "markdown",
   "metadata": {},
   "source": [
    "Generate a random array of patches areas.  We'll say that the dimensions are patch age x patch 'number'.  There may not be an equivalent number of patches for each age bin (row) in reality.  The maximum number of age rows would be defined by `nlevage`."
   ]
  },
  {
   "cell_type": "code",
   "execution_count": 1,
   "metadata": {},
   "outputs": [
    {
     "data": {
      "text/plain": [
       "3×5 Array{Float64,2}:\n",
       " 5.0  9.0  3.0  4.0  4.0\n",
       " 2.0  9.0  5.0  9.0  9.0\n",
       " 8.0  7.0  7.0  4.0  2.0"
      ]
     },
     "execution_count": 1,
     "metadata": {},
     "output_type": "execute_result"
    }
   ],
   "source": [
    "areas = rand(1.0:10.0, (3,5))"
   ]
  },
  {
   "cell_type": "markdown",
   "metadata": {},
   "source": [
    "Calculate the total area in each given patch age bin.  This is equivalent to `ed_site_type%area_by_age` (which doesn't appear to have a direct history variable output)."
   ]
  },
  {
   "cell_type": "code",
   "execution_count": 5,
   "metadata": {},
   "outputs": [
    {
     "data": {
      "text/plain": [
       "3×1 Array{Float64,2}:\n",
       " 25.0\n",
       " 34.0\n",
       " 28.0"
      ]
     },
     "execution_count": 5,
     "metadata": {},
     "output_type": "execute_result"
    }
   ],
   "source": [
    "area_age = sum(areas, dims=2)\n",
    "# area_age1 = sum.(eachrow(areas))"
   ]
  },
  {
   "cell_type": "markdown",
   "metadata": {},
   "source": [
    "Calulcate the total patch area for the given site.  This is equivalent to the history variable `FATES_PATCHAREA_AP`."
   ]
  },
  {
   "cell_type": "code",
   "execution_count": 6,
   "metadata": {},
   "outputs": [
    {
     "data": {
      "text/plain": [
       "87.0"
      ]
     },
     "execution_count": 6,
     "metadata": {},
     "output_type": "execute_result"
    }
   ],
   "source": [
    "area_tot = sum(areas)"
   ]
  },
  {
   "cell_type": "markdown",
   "metadata": {},
   "source": [
    "Calculate the patch area fraction within the age bin its associated with.  Confirm that the values sum to unity."
   ]
  },
  {
   "cell_type": "code",
   "execution_count": 7,
   "metadata": {},
   "outputs": [
    {
     "name": "stdout",
     "output_type": "stream",
     "text": [
      "1.0\n",
      "1.0\n",
      "1.0\n"
     ]
    }
   ],
   "source": [
    "# I'm pretty sure Julia has a way to easily broadcast this in one line instead of using a for loop.  Or maybe use a map?\n",
    "agefrac = Array{Float64}(undef,size(areas))\n",
    "for i = 1:size(areas)[1]\n",
    "    agefrac[i,:] = (areas[i,:].*inv(area_age[i]))'\n",
    "    println(sum(agefrac[i,:]))\n",
    "end\n",
    "# inv.(area_age).*collect(eachcol(areas))' # eachcol will create iterator over columns"
   ]
  },
  {
   "cell_type": "code",
   "execution_count": 8,
   "metadata": {},
   "outputs": [
    {
     "data": {
      "text/plain": [
       "3×5 Array{Float64,2}:\n",
       " 0.2        0.36      0.12      0.16      0.16\n",
       " 0.0588235  0.264706  0.147059  0.264706  0.264706\n",
       " 0.285714   0.25      0.25      0.142857  0.0714286"
      ]
     },
     "execution_count": 8,
     "metadata": {},
     "output_type": "execute_result"
    }
   ],
   "source": [
    "agefrac"
   ]
  },
  {
   "cell_type": "markdown",
   "metadata": {},
   "source": [
    "***How do we use the agefrac to determine a value for self-similar adjacency?***"
   ]
  },
  {
   "cell_type": "code",
   "execution_count": 9,
   "metadata": {},
   "outputs": [
    {
     "data": {
      "text/plain": [
       "3×5 Array{Float64,2}:\n",
       " 0.0574713  0.103448   0.0344828  0.045977  0.045977\n",
       " 0.0229885  0.103448   0.0574713  0.103448  0.103448\n",
       " 0.091954   0.0804598  0.0804598  0.045977  0.0229885"
      ]
     },
     "execution_count": 9,
     "metadata": {},
     "output_type": "execute_result"
    }
   ],
   "source": [
    "# Individual fraction of the total area for a given patch\n",
    "totfrac = areas.*inv.(area_tot)"
   ]
  },
  {
   "cell_type": "markdown",
   "metadata": {},
   "source": [
    "***How do we use the totfrac to determine a value for non-similar adjacency?***"
   ]
  },
  {
   "cell_type": "code",
   "execution_count": 10,
   "metadata": {},
   "outputs": [
    {
     "data": {
      "text/plain": [
       "3×1 Array{Float64,2}:\n",
       " 0.28735632183908044\n",
       " 0.3908045977011494\n",
       " 0.32183908045977017"
      ]
     },
     "execution_count": 10,
     "metadata": {},
     "output_type": "execute_result"
    }
   ],
   "source": [
    "# The fraction of the total area for a given patch age\n",
    "sum(totfrac,dims=2)"
   ]
  },
  {
   "cell_type": "code",
   "execution_count": 11,
   "metadata": {},
   "outputs": [
    {
     "data": {
      "text/plain": [
       "1.0"
      ]
     },
     "execution_count": 11,
     "metadata": {},
     "output_type": "execute_result"
    }
   ],
   "source": [
    "# The fraction of the total area for a given patch age\n",
    "sum(sum(totfrac,dims=2))"
   ]
  },
  {
   "cell_type": "markdown",
   "metadata": {},
   "source": [
    "Since the size of patches varies, we will need to determine variance in the sizes"
   ]
  },
  {
   "cell_type": "code",
   "execution_count": 13,
   "metadata": {},
   "outputs": [
    {
     "data": {
      "text/plain": [
       "(2.0, CartesianIndex(2, 1))"
      ]
     },
     "execution_count": 13,
     "metadata": {},
     "output_type": "execute_result"
    }
   ],
   "source": [
    "findmin(areas)"
   ]
  },
  {
   "cell_type": "code",
   "execution_count": 14,
   "metadata": {},
   "outputs": [
    {
     "data": {
      "text/plain": [
       "(9.0, CartesianIndex(1, 2))"
      ]
     },
     "execution_count": 14,
     "metadata": {},
     "output_type": "execute_result"
    }
   ],
   "source": [
    "findmax(areas)"
   ]
  },
  {
   "cell_type": "code",
   "execution_count": 18,
   "metadata": {},
   "outputs": [],
   "source": [
    "using Statistics"
   ]
  },
  {
   "cell_type": "code",
   "execution_count": 19,
   "metadata": {},
   "outputs": [
    {
     "data": {
      "text/plain": [
       "5.0"
      ]
     },
     "execution_count": 19,
     "metadata": {},
     "output_type": "execute_result"
    }
   ],
   "source": [
    "mean(areas[1,:])"
   ]
  },
  {
   "cell_type": "code",
   "execution_count": 23,
   "metadata": {},
   "outputs": [
    {
     "data": {
      "text/plain": [
       "3×5 Array{Float64,2}:\n",
       " 5.0  9.0  3.0  4.0  4.0\n",
       " 2.0  9.0  5.0  9.0  9.0\n",
       " 8.0  7.0  7.0  4.0  2.0"
      ]
     },
     "execution_count": 23,
     "metadata": {},
     "output_type": "execute_result"
    }
   ],
   "source": [
    "areas"
   ]
  },
  {
   "cell_type": "code",
   "execution_count": null,
   "metadata": {},
   "outputs": [],
   "source": []
  }
 ],
 "metadata": {
  "kernelspec": {
   "display_name": "Julia 1.5.1",
   "language": "julia",
   "name": "julia-1.5"
  },
  "language_info": {
   "file_extension": ".jl",
   "mimetype": "application/julia",
   "name": "julia",
   "version": "1.5.1"
  }
 },
 "nbformat": 4,
 "nbformat_minor": 4
}

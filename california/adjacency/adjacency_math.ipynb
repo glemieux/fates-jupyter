{
 "cells": [
  {
   "cell_type": "markdown",
   "metadata": {},
   "source": [
    "# Adjacency matrix math"
   ]
  },
  {
   "cell_type": "markdown",
   "metadata": {},
   "source": [
    "Generate a random array of patches areas.  We'll say that the dimensions are patch age x patch 'number'.  There may not be an equivalent number of patches for each age bin (row) in reality.  The maximum number of age rows would be defined by `nlevage`."
   ]
  },
  {
   "cell_type": "code",
   "execution_count": 1,
   "metadata": {},
   "outputs": [
    {
     "data": {
      "text/plain": [
       "3×5 Array{Float64,2}:\n",
       " 5.0  1.0  1.0   8.0   4.0\n",
       " 7.0  6.0  9.0   8.0  10.0\n",
       " 7.0  3.0  1.0  10.0   9.0"
      ]
     },
     "execution_count": 1,
     "metadata": {},
     "output_type": "execute_result"
    }
   ],
   "source": [
    "areas = rand(1.0:10.0, (3,5))"
   ]
  },
  {
   "cell_type": "markdown",
   "metadata": {},
   "source": [
    "Calculate the total area in each given patch age bin.  This is equivalent to `ed_site_type%area_by_age` (which doesn't appear to have a direct history variable output)."
   ]
  },
  {
   "cell_type": "code",
   "execution_count": 81,
   "metadata": {},
   "outputs": [
    {
     "data": {
      "text/plain": [
       "3×1 Array{Float64,2}:\n",
       " 19.0\n",
       " 40.0\n",
       " 30.0"
      ]
     },
     "execution_count": 81,
     "metadata": {},
     "output_type": "execute_result"
    }
   ],
   "source": [
    "area_age = sum(areas, dims=2)"
   ]
  },
  {
   "cell_type": "markdown",
   "metadata": {},
   "source": [
    "Calulcate the total patch area for the given site.  This is equivalent to the history variable `FATES_PATCHAREA_AP`."
   ]
  },
  {
   "cell_type": "code",
   "execution_count": 80,
   "metadata": {},
   "outputs": [
    {
     "data": {
      "text/plain": [
       "3-element Array{Float64,1}:\n",
       " 19.0\n",
       " 40.0\n",
       " 30.0"
      ]
     },
     "execution_count": 80,
     "metadata": {},
     "output_type": "execute_result"
    }
   ],
   "source": [
    "area_age1 = sum.(eachrow(areas))"
   ]
  },
  {
   "cell_type": "code",
   "execution_count": 3,
   "metadata": {},
   "outputs": [
    {
     "data": {
      "text/plain": [
       "89.0"
      ]
     },
     "execution_count": 3,
     "metadata": {},
     "output_type": "execute_result"
    }
   ],
   "source": [
    "area_tot = sum(areas)"
   ]
  },
  {
   "cell_type": "markdown",
   "metadata": {},
   "source": [
    "Calculate the patch area fraction within the age bin its associated with.  Confirm that the values sum to unity."
   ]
  },
  {
   "cell_type": "code",
   "execution_count": 101,
   "metadata": {},
   "outputs": [
    {
     "name": "stdout",
     "output_type": "stream",
     "text": [
      "1.0\n",
      "1.0\n",
      "1.0\n"
     ]
    }
   ],
   "source": [
    "# I'm pretty sure Julia has a way to easily broadcast this in one line instead of using a for loop.  Or maybe use a map?\n",
    "agefrac = Array{Float64}(undef,size(areas))\n",
    "for i = 1:size(areas)[1]\n",
    "    agefrac[i,:] = (areas[i,:].*inv(area_age[i]))'\n",
    "    println(sum(agefrac[i,:]))\n",
    "end\n",
    "# inv.(area_age).*collect(eachcol(areas))' # eachcol will create iterator over columns"
   ]
  },
  {
   "cell_type": "code",
   "execution_count": 100,
   "metadata": {},
   "outputs": [
    {
     "data": {
      "text/plain": [
       "3×5 Array{Float64,2}:\n",
       " 0.263158  0.0526316  0.0526316  0.421053  0.210526\n",
       " 0.175     0.15       0.225      0.2       0.25\n",
       " 0.233333  0.1        0.0333333  0.333333  0.3"
      ]
     },
     "execution_count": 100,
     "metadata": {},
     "output_type": "execute_result"
    }
   ],
   "source": [
    "agefrac"
   ]
  },
  {
   "cell_type": "markdown",
   "metadata": {},
   "source": [
    "***How do we use the agefrac to determine a value for self-similar adjacency?***"
   ]
  },
  {
   "cell_type": "code",
   "execution_count": 134,
   "metadata": {},
   "outputs": [
    {
     "data": {
      "text/plain": [
       "3×5 Array{Float64,2}:\n",
       " 0.0561798  0.011236   0.011236  0.0898876  0.0449438\n",
       " 0.0786517  0.0674157  0.101124  0.0898876  0.11236\n",
       " 0.0786517  0.0337079  0.011236  0.11236    0.101124"
      ]
     },
     "execution_count": 134,
     "metadata": {},
     "output_type": "execute_result"
    }
   ],
   "source": [
    "# Individual fraction of the total area for a given patch\n",
    "totfrac = areas.*inv.(area_tot)"
   ]
  },
  {
   "cell_type": "markdown",
   "metadata": {},
   "source": [
    "***How do we use the totfrac to determine a value for non-similar adjacency?***"
   ]
  },
  {
   "cell_type": "code",
   "execution_count": 133,
   "metadata": {},
   "outputs": [
    {
     "data": {
      "text/plain": [
       "3×1 Array{Float64,2}:\n",
       " 0.21348314606741572\n",
       " 0.449438202247191\n",
       " 0.33707865168539325"
      ]
     },
     "execution_count": 133,
     "metadata": {},
     "output_type": "execute_result"
    }
   ],
   "source": [
    "# The fraction of the total area for a given patch age\n",
    "sum(totfrac,dims=2)"
   ]
  },
  {
   "cell_type": "code",
   "execution_count": null,
   "metadata": {},
   "outputs": [],
   "source": []
  }
 ],
 "metadata": {
  "kernelspec": {
   "display_name": "Julia 1.5.1",
   "language": "julia",
   "name": "julia-1.5"
  },
  "language_info": {
   "file_extension": ".jl",
   "mimetype": "application/julia",
   "name": "julia",
   "version": "1.5.1"
  }
 },
 "nbformat": 4,
 "nbformat_minor": 4
}

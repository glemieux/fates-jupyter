{
 "cells": [
  {
   "cell_type": "markdown",
   "metadata": {},
   "source": [
    "# Adjacency matrix math"
   ]
  },
  {
   "cell_type": "code",
   "execution_count": 1,
   "metadata": {},
   "outputs": [],
   "source": [
    "using LinearAlgebra\n",
    "using Plots\n",
    "using Statistics\n",
    "using ColorSchemes\n",
    "# using PlotlyJS"
   ]
  },
  {
   "cell_type": "markdown",
   "metadata": {},
   "source": [
    "Define exponential decay and geometric decay series functions"
   ]
  },
  {
   "cell_type": "code",
   "execution_count": 2,
   "metadata": {},
   "outputs": [
    {
     "data": {
      "text/plain": [
       "f (generic function with 1 method)"
      ]
     },
     "execution_count": 2,
     "metadata": {},
     "output_type": "execute_result"
    }
   ],
   "source": [
    "# geometric series\n",
    "g(a,r,n) = a*r.^collect(0:n);\n",
    "\n",
    "# unit decay series\n",
    "f(a,n) = g(a,1-a,n)"
   ]
  },
  {
   "cell_type": "code",
   "execution_count": 3,
   "metadata": {},
   "outputs": [
    {
     "data": {
      "text/plain": [
       "adjacency (generic function with 1 method)"
      ]
     },
     "execution_count": 3,
     "metadata": {},
     "output_type": "execute_result"
    }
   ],
   "source": [
    "function adjacency(a00,r,d)\n",
    "    \n",
    "    # Initialize the return array\n",
    "    A = zeros(Float64,d,d)\n",
    "    \n",
    "    # Define the ageclass 0 adjacencies row vector to follow a unit decay series, i.e. sums to 1\n",
    "    a0 = f(a00,d-1)\n",
    "    a0[d] = a0[d] + (1-sum(a0)) # put the remainder of the finite series into the last bin\n",
    "    \n",
    "    # Construct the upper diagonal matrix using a geometric decay of 'r'\n",
    "    for i = 1:d\n",
    "        A = A + diagm(i-1 => g(a0[i],r,d-i))\n",
    "    end\n",
    "    \n",
    "    # Fill in the lower diagonal matrix one diagonal at a time\n",
    "    for i = 1:d-1\n",
    "        A = A + diagm(-i => g(1-sum(A[i+1,:]),r,d-(i+1)))\n",
    "    end\n",
    "    \n",
    "    return A\n",
    "end"
   ]
  },
  {
   "cell_type": "markdown",
   "metadata": {},
   "source": [
    "Calculate the adjacency matrix"
   ]
  },
  {
   "cell_type": "code",
   "execution_count": 4,
   "metadata": {},
   "outputs": [],
   "source": [
    "A = adjacency(0.6,0.8,10);"
   ]
  },
  {
   "cell_type": "markdown",
   "metadata": {},
   "source": [
    "Try and match the paper's gradient"
   ]
  },
  {
   "cell_type": "code",
   "execution_count": 5,
   "metadata": {},
   "outputs": [],
   "source": [
    "dietz = cgrad([:green, :yellow, :orange, :white],[0.1,0.15,0.3,1.0]);"
   ]
  },
  {
   "cell_type": "markdown",
   "metadata": {},
   "source": [
    "Plot the adjacency matrix"
   ]
  },
  {
   "cell_type": "code",
   "execution_count": null,
   "metadata": {},
   "outputs": [],
   "source": [
    "# gr()\n",
    "heatmap(1:10, 1:10, A, c = dietz, yflip=true)\n",
    "fontsize = 8\n",
    "\n",
    "# PyPlotte the matrix, make sure to reverse the indexing of text output since y axis is flipped!\n",
    "ann = [(i,j,text(round(A[j,i],digits=3), fontsize)) for i in 1:10 for j in 1:10]\n",
    "annotate!(ann)"
   ]
  },
  {
   "cell_type": "markdown",
   "metadata": {},
   "source": [
    "Plot the adjacency of each age class to the next age class (i.e. the geometric decay rate of the row)"
   ]
  },
  {
   "cell_type": "code",
   "execution_count": null,
   "metadata": {},
   "outputs": [],
   "source": [
    "plt = plot(diag(A))\n",
    "for i = 1:10\n",
    "    plt = plot!(i:10,A[i,i:end])\n",
    "end\n",
    "display(plt)"
   ]
  },
  {
   "cell_type": "markdown",
   "metadata": {},
   "source": [
    "## Dietz et all paper"
   ]
  },
  {
   "cell_type": "markdown",
   "metadata": {},
   "source": [
    "Generate a random array of areas (age x patch)"
   ]
  },
  {
   "cell_type": "code",
   "execution_count": 3,
   "metadata": {},
   "outputs": [],
   "source": [
    "areas_age_patch = rand(1.0:10.0, (10,20));"
   ]
  },
  {
   "cell_type": "markdown",
   "metadata": {},
   "source": [
    "Calculate the _fraction of areas for each age class_, $a$.  Site level variable.  Available via fates."
   ]
  },
  {
   "cell_type": "code",
   "execution_count": 8,
   "metadata": {},
   "outputs": [],
   "source": [
    "fracarea_age = sum.(eachrow(areas_age_patch./sum(areas_age_patch)));"
   ]
  },
  {
   "cell_type": "markdown",
   "metadata": {},
   "source": [
    "Generate a random vector of _probability of disturbance initiation_, $p_0$.  Site level variable.  Future parameter value?  Perhaps we could initiate this based on fractional areas?  How about based on the fraction of patches that meet the ignition threshold?"
   ]
  },
  {
   "cell_type": "code",
   "execution_count": 5,
   "metadata": {},
   "outputs": [],
   "source": [
    "p_0 = rand(10);"
   ]
  },
  {
   "cell_type": "markdown",
   "metadata": {},
   "source": [
    "Calculate the _initial disturbance area_, $I_1$.  I think this is actually initial disturbance area _fraction_."
   ]
  },
  {
   "cell_type": "code",
   "execution_count": 6,
   "metadata": {},
   "outputs": [],
   "source": [
    "I_1 = p_0.*fracarea_age;"
   ]
  },
  {
   "cell_type": "markdown",
   "metadata": {},
   "source": [
    "Generate an *initial adjacency matrix*, $A_0$.  Right now this is random; make this a geometric decay distribution.  We initially were thinking about setting this based on the age/area fraction for the site.  Perhaps it's simpler to just use a 'standard' initialization based on the expected decay and let the dynamics update it over time?"
   ]
  },
  {
   "cell_type": "code",
   "execution_count": 10,
   "metadata": {},
   "outputs": [],
   "source": [
    "A_0 = rand(Float64,(10,10));"
   ]
  },
  {
   "cell_type": "markdown",
   "metadata": {},
   "source": [
    "Set a scalar parameter for a simple *probability of spread across age class*, $p_s$"
   ]
  },
  {
   "cell_type": "code",
   "execution_count": 11,
   "metadata": {},
   "outputs": [
    {
     "data": {
      "text/plain": [
       "0.1"
      ]
     },
     "execution_count": 11,
     "metadata": {},
     "output_type": "execute_result"
    }
   ],
   "source": [
    "p_s = 0.1"
   ]
  },
  {
   "cell_type": "markdown",
   "metadata": {},
   "source": [
    "Calculate *probability of distribution spread to h patches*, $I$. This is a site-level variable."
   ]
  },
  {
   "cell_type": "code",
   "execution_count": 12,
   "metadata": {},
   "outputs": [],
   "source": [
    "I = Array{Float64}(undef,(10,10))\n",
    "for h = 1:10\n",
    "    I[h,:] = ((p_s*A_0).^h)*I_1\n",
    "end"
   ]
  },
  {
   "cell_type": "markdown",
   "metadata": {},
   "source": [
    "Calculate *overall disturbance rate*, $D$.  This is a site-level variable."
   ]
  },
  {
   "cell_type": "code",
   "execution_count": 14,
   "metadata": {},
   "outputs": [],
   "source": [
    "D = sum.(eachrow(I));"
   ]
  },
  {
   "cell_type": "markdown",
   "metadata": {},
   "source": [
    "Calculate *size distribution*, $p(h)$"
   ]
  },
  {
   "cell_type": "code",
   "execution_count": null,
   "metadata": {},
   "outputs": [],
   "source": [
    "function p(h,I)\n",
    "    \n",
    "end"
   ]
  },
  {
   "cell_type": "markdown",
   "metadata": {},
   "source": [
    "## Initial explorations"
   ]
  },
  {
   "cell_type": "markdown",
   "metadata": {},
   "source": [
    "Generate a random array of patches areas.  We'll say that the dimensions are patch age x patch 'number'.  There may not be an equivalent number of patches for each age bin (row) in reality.  The maximum number of age rows would be defined by `nlevage`."
   ]
  },
  {
   "cell_type": "code",
   "execution_count": 1,
   "metadata": {},
   "outputs": [
    {
     "data": {
      "text/plain": [
       "3×5 Array{Float64,2}:\n",
       " 5.0  9.0  3.0  4.0  4.0\n",
       " 2.0  9.0  5.0  9.0  9.0\n",
       " 8.0  7.0  7.0  4.0  2.0"
      ]
     },
     "execution_count": 1,
     "metadata": {},
     "output_type": "execute_result"
    }
   ],
   "source": [
    "areas = rand(1.0:10.0, (3,5))"
   ]
  },
  {
   "cell_type": "markdown",
   "metadata": {},
   "source": [
    "Calculate the total area in each given patch age bin.  This is equivalent to `ed_site_type%area_by_age` (which doesn't appear to have a direct history variable output)."
   ]
  },
  {
   "cell_type": "code",
   "execution_count": 5,
   "metadata": {},
   "outputs": [
    {
     "data": {
      "text/plain": [
       "3×1 Array{Float64,2}:\n",
       " 25.0\n",
       " 34.0\n",
       " 28.0"
      ]
     },
     "execution_count": 5,
     "metadata": {},
     "output_type": "execute_result"
    }
   ],
   "source": [
    "area_age = sum(areas, dims=2)\n",
    "# area_age1 = sum.(eachrow(areas))"
   ]
  },
  {
   "cell_type": "markdown",
   "metadata": {},
   "source": [
    "Calulcate the total patch area for the given site.  This is equivalent to the history variable `FATES_PATCHAREA_AP`."
   ]
  },
  {
   "cell_type": "code",
   "execution_count": 6,
   "metadata": {},
   "outputs": [
    {
     "data": {
      "text/plain": [
       "87.0"
      ]
     },
     "execution_count": 6,
     "metadata": {},
     "output_type": "execute_result"
    }
   ],
   "source": [
    "area_tot = sum(areas)"
   ]
  },
  {
   "cell_type": "markdown",
   "metadata": {},
   "source": [
    "Calculate the patch area fraction within the age bin its associated with.  Confirm that the values sum to unity."
   ]
  },
  {
   "cell_type": "code",
   "execution_count": 7,
   "metadata": {},
   "outputs": [
    {
     "name": "stdout",
     "output_type": "stream",
     "text": [
      "1.0\n",
      "1.0\n",
      "1.0\n"
     ]
    }
   ],
   "source": [
    "# I'm pretty sure Julia has a way to easily broadcast this in one line instead of using a for loop.  Or maybe use a map?\n",
    "agefrac = Array{Float64}(undef,size(areas))\n",
    "for i = 1:size(areas)[1]\n",
    "    agefrac[i,:] = (areas[i,:].*inv(area_age[i]))'\n",
    "    println(sum(agefrac[i,:]))\n",
    "end\n",
    "# inv.(area_age).*collect(eachcol(areas))' # eachcol will create iterator over columns"
   ]
  },
  {
   "cell_type": "code",
   "execution_count": 8,
   "metadata": {},
   "outputs": [
    {
     "data": {
      "text/plain": [
       "3×5 Array{Float64,2}:\n",
       " 0.2        0.36      0.12      0.16      0.16\n",
       " 0.0588235  0.264706  0.147059  0.264706  0.264706\n",
       " 0.285714   0.25      0.25      0.142857  0.0714286"
      ]
     },
     "execution_count": 8,
     "metadata": {},
     "output_type": "execute_result"
    }
   ],
   "source": [
    "agefrac"
   ]
  },
  {
   "cell_type": "markdown",
   "metadata": {},
   "source": [
    "***How do we use the agefrac to determine a value for self-similar adjacency?***"
   ]
  },
  {
   "cell_type": "code",
   "execution_count": 9,
   "metadata": {},
   "outputs": [
    {
     "data": {
      "text/plain": [
       "3×5 Array{Float64,2}:\n",
       " 0.0574713  0.103448   0.0344828  0.045977  0.045977\n",
       " 0.0229885  0.103448   0.0574713  0.103448  0.103448\n",
       " 0.091954   0.0804598  0.0804598  0.045977  0.0229885"
      ]
     },
     "execution_count": 9,
     "metadata": {},
     "output_type": "execute_result"
    }
   ],
   "source": [
    "# Individual fraction of the total area for a given patch\n",
    "totfrac = areas.*inv.(area_tot)"
   ]
  },
  {
   "cell_type": "markdown",
   "metadata": {},
   "source": [
    "***How do we use the totfrac to determine a value for non-similar adjacency?***"
   ]
  },
  {
   "cell_type": "code",
   "execution_count": 10,
   "metadata": {},
   "outputs": [
    {
     "data": {
      "text/plain": [
       "3×1 Array{Float64,2}:\n",
       " 0.28735632183908044\n",
       " 0.3908045977011494\n",
       " 0.32183908045977017"
      ]
     },
     "execution_count": 10,
     "metadata": {},
     "output_type": "execute_result"
    }
   ],
   "source": [
    "# The fraction of the total area for a given patch age\n",
    "sum(totfrac,dims=2)"
   ]
  },
  {
   "cell_type": "code",
   "execution_count": 11,
   "metadata": {},
   "outputs": [
    {
     "data": {
      "text/plain": [
       "1.0"
      ]
     },
     "execution_count": 11,
     "metadata": {},
     "output_type": "execute_result"
    }
   ],
   "source": [
    "# The fraction of the total area for a given patch age\n",
    "sum(sum(totfrac,dims=2))"
   ]
  },
  {
   "cell_type": "markdown",
   "metadata": {},
   "source": [
    "Since the size of patches varies, we will need to determine variance in the sizes"
   ]
  },
  {
   "cell_type": "code",
   "execution_count": 13,
   "metadata": {},
   "outputs": [
    {
     "data": {
      "text/plain": [
       "(2.0, CartesianIndex(2, 1))"
      ]
     },
     "execution_count": 13,
     "metadata": {},
     "output_type": "execute_result"
    }
   ],
   "source": [
    "findmin(areas)"
   ]
  },
  {
   "cell_type": "code",
   "execution_count": 14,
   "metadata": {},
   "outputs": [
    {
     "data": {
      "text/plain": [
       "(9.0, CartesianIndex(1, 2))"
      ]
     },
     "execution_count": 14,
     "metadata": {},
     "output_type": "execute_result"
    }
   ],
   "source": [
    "findmax(areas)"
   ]
  },
  {
   "cell_type": "code",
   "execution_count": 18,
   "metadata": {},
   "outputs": [],
   "source": [
    "using Statistics"
   ]
  },
  {
   "cell_type": "code",
   "execution_count": 19,
   "metadata": {},
   "outputs": [
    {
     "data": {
      "text/plain": [
       "5.0"
      ]
     },
     "execution_count": 19,
     "metadata": {},
     "output_type": "execute_result"
    }
   ],
   "source": [
    "mean(areas[1,:])"
   ]
  },
  {
   "cell_type": "code",
   "execution_count": 23,
   "metadata": {},
   "outputs": [
    {
     "data": {
      "text/plain": [
       "3×5 Array{Float64,2}:\n",
       " 5.0  9.0  3.0  4.0  4.0\n",
       " 2.0  9.0  5.0  9.0  9.0\n",
       " 8.0  7.0  7.0  4.0  2.0"
      ]
     },
     "execution_count": 23,
     "metadata": {},
     "output_type": "execute_result"
    }
   ],
   "source": [
    "areas"
   ]
  },
  {
   "cell_type": "code",
   "execution_count": null,
   "metadata": {},
   "outputs": [],
   "source": []
  }
 ],
 "metadata": {
  "kernelspec": {
   "display_name": "Julia 1.5.1",
   "language": "julia",
   "name": "julia-1.5"
  },
  "language_info": {
   "file_extension": ".jl",
   "mimetype": "application/julia",
   "name": "julia",
   "version": "1.5.1"
  }
 },
 "nbformat": 4,
 "nbformat_minor": 4
}

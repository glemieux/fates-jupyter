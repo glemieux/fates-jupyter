{
 "cells": [
  {
   "cell_type": "markdown",
   "metadata": {},
   "source": [
    "# ctsm5.1.dev020 merge test and baseline comparison "
   ]
  },
  {
   "cell_type": "markdown",
   "metadata": {},
   "source": [
    "This notebook compares the results of merging in ctsm5.1.dev020 tag into fates_main_api with the baseline.  The standard regression tests were run and resulted in some differences, so this test consists of an 10 year f45 grid with the default fates setup and history variables.  The relevant pull request is here: [https://github.com/ESCOMP/CTSM/pull/1257](https://github.com/ESCOMP/CTSM/pull/1257)"
   ]
  },
  {
   "cell_type": "markdown",
   "metadata": {},
   "source": [
    "## Import libraries"
   ]
  },
  {
   "cell_type": "code",
   "execution_count": 1,
   "metadata": {},
   "outputs": [],
   "source": [
    "import numpy as np\n",
    "import xarray as xr\n",
    "import matplotlib.pyplot as plt\n",
    "import cartopy.crs as ccrs"
   ]
  },
  {
   "cell_type": "markdown",
   "metadata": {},
   "source": [
    "## Load history output data"
   ]
  },
  {
   "cell_type": "code",
   "execution_count": 2,
   "metadata": {},
   "outputs": [],
   "source": [
    "filename_history_test = 'data/ctsm5.1.dev020-f45test.nc' # Test data\n",
    "filename_history_base = 'data/ctsm1.0.dev113-f45test.nc' # Baseline data\n",
    "data_test = xr.open_dataset(filename_history_test)\n",
    "data_base = xr.open_dataset(filename_history_base)"
   ]
  },
  {
   "cell_type": "markdown",
   "metadata": {},
   "source": [
    "## Select data subsets"
   ]
  },
  {
   "cell_type": "markdown",
   "metadata": {},
   "source": [
    "Above ground coarse woody debris"
   ]
  },
  {
   "cell_type": "code",
   "execution_count": 3,
   "metadata": {},
   "outputs": [],
   "source": [
    "litter_cwd_ag_test = data_test.LITTER_CWD_AG_ELEM.sel(fates_levelem=0)\n",
    "litter_cwd_ag_base = data_base.LITTER_CWD_AG_ELEM.sel(fates_levelem=0)\n",
    "litter_cwd_ag_diff = litter_cwd_ag_test - litter_cwd_ag_base"
   ]
  },
  {
   "cell_type": "markdown",
   "metadata": {},
   "source": [
    "Below ground coarse woody debris"
   ]
  },
  {
   "cell_type": "code",
   "execution_count": 4,
   "metadata": {},
   "outputs": [],
   "source": [
    "litter_cwd_bg_test = data_test.LITTER_CWD_BG_ELEM.sel(fates_levelem=0)\n",
    "litter_cwd_bg_base = data_base.LITTER_CWD_BG_ELEM.sel(fates_levelem=0)\n",
    "litter_cwd_bg_diff = litter_cwd_bg_test - litter_cwd_bg_base"
   ]
  },
  {
   "cell_type": "markdown",
   "metadata": {},
   "source": [
    "Above ground fines (leaf)"
   ]
  },
  {
   "cell_type": "code",
   "execution_count": 5,
   "metadata": {},
   "outputs": [],
   "source": [
    "litter_fines_ag_test = data_test.LITTER_FINES_AG_ELEM.sel(fates_levelem=0)\n",
    "litter_fines_ag_base = data_base.LITTER_FINES_AG_ELEM.sel(fates_levelem=0)\n",
    "litter_fines_ag_diff = litter_fines_ag_test - litter_fines_ag_base"
   ]
  },
  {
   "cell_type": "markdown",
   "metadata": {},
   "source": [
    "Below ground fines (root)"
   ]
  },
  {
   "cell_type": "code",
   "execution_count": 6,
   "metadata": {},
   "outputs": [],
   "source": [
    "litter_fines_bg_test = data_test.LITTER_FINES_BG_ELEM.sel(fates_levelem=0)\n",
    "litter_fines_bg_base = data_base.LITTER_FINES_BG_ELEM.sel(fates_levelem=0)\n",
    "litter_fines_bg_diff = litter_fines_bg_test - litter_fines_bg_base"
   ]
  },
  {
   "cell_type": "markdown",
   "metadata": {},
   "source": [
    "Fuel intensity"
   ]
  },
  {
   "cell_type": "code",
   "execution_count": 7,
   "metadata": {},
   "outputs": [],
   "source": [
    "fuel_intensity_test = data_test.FIRE_INTENSITY\n",
    "fuel_intensity_base = data_base.FIRE_INTENSITY\n",
    "fuel_intensity_diff = fuel_intensity_test - fuel_intensity_base"
   ]
  },
  {
   "cell_type": "markdown",
   "metadata": {},
   "source": [
    "Fuel surface/volume"
   ]
  },
  {
   "cell_type": "code",
   "execution_count": 8,
   "metadata": {},
   "outputs": [],
   "source": [
    "fuel_sav_test = data_test.FIRE_FUEL_SAV\n",
    "fuel_sav_base = data_base.FIRE_FUEL_SAV\n",
    "fuel_sav_diff = fuel_sav_test - fuel_sav_base"
   ]
  },
  {
   "cell_type": "markdown",
   "metadata": {},
   "source": [
    "Effective Fuel moisture"
   ]
  },
  {
   "cell_type": "code",
   "execution_count": 9,
   "metadata": {},
   "outputs": [],
   "source": [
    "fuel_eff_moist_test = data_test.FIRE_FUEL_EFF_MOIST\n",
    "fuel_eff_moist_base = data_base.FIRE_FUEL_EFF_MOIST\n",
    "fuel_eff_moist_diff = fuel_eff_moist_test - fuel_eff_moist_base"
   ]
  },
  {
   "cell_type": "markdown",
   "metadata": {},
   "source": [
    "Fuel bulk density"
   ]
  },
  {
   "cell_type": "code",
   "execution_count": 10,
   "metadata": {},
   "outputs": [],
   "source": [
    "fuel_bulkd_test = data_test.FIRE_FUEL_BULKD\n",
    "fuel_bulkd_base = data_base.FIRE_FUEL_BULKD\n",
    "fuel_bulkd_diff = fuel_bulkd_test - fuel_bulkd_base"
   ]
  },
  {
   "cell_type": "markdown",
   "metadata": {},
   "source": [
    "Fuel moisture (MEF)"
   ]
  },
  {
   "cell_type": "code",
   "execution_count": 11,
   "metadata": {},
   "outputs": [],
   "source": [
    "fuel_mef_test = data_test.FIRE_FUEL_MEF\n",
    "fuel_mef_base = data_base.FIRE_FUEL_MEF\n",
    "fuel_mef_diff = fuel_mef_test - fuel_mef_base"
   ]
  },
  {
   "cell_type": "markdown",
   "metadata": {},
   "source": [
    "Ground fuel within each patch age bin"
   ]
  },
  {
   "cell_type": "code",
   "execution_count": 12,
   "metadata": {},
   "outputs": [],
   "source": [
    "# divide this by patch_area_by_age to get fuel per?\n",
    "sum_fuel_pa_test = data_test.SUM_FUEL_BY_PATCH_AGE\n",
    "sum_fuel_pa_base = data_base.SUM_FUEL_BY_PATCH_AGE\n",
    "sum_fuel_pa_diff = sum_fuel_pa_test - sum_fuel_pa_base"
   ]
  },
  {
   "cell_type": "markdown",
   "metadata": {},
   "source": [
    "Total ground fuel"
   ]
  },
  {
   "cell_type": "code",
   "execution_count": 13,
   "metadata": {},
   "outputs": [],
   "source": [
    "sum_fuel_test = data_test.SUM_FUEL\n",
    "sum_fuel_base = data_base.SUM_FUEL\n",
    "sum_fuel_diff = sum_fuel_test - sum_fuel_base"
   ]
  },
  {
   "cell_type": "markdown",
   "metadata": {},
   "source": [
    "Corrected fire intensity"
   ]
  },
  {
   "cell_type": "code",
   "execution_count": 14,
   "metadata": {},
   "outputs": [],
   "source": [
    "fire_intensity_corr_test = data_test.FIRE_INTENSITY_AREA_PRODUCT / data_test.FIRE_AREA\n",
    "fire_intensity_corr_base = data_base.FIRE_INTENSITY_AREA_PRODUCT / data_base.FIRE_AREA\n",
    "fire_intensity_corr_diff = fire_intensity_corr_test - fire_intensity_corr_base"
   ]
  },
  {
   "cell_type": "markdown",
   "metadata": {},
   "source": [
    "Fuel moisture (size-resolved)"
   ]
  },
  {
   "cell_type": "code",
   "execution_count": 15,
   "metadata": {},
   "outputs": [],
   "source": [
    "fuel_moist_test = data_test.FUEL_MOISTURE_NFSC\n",
    "fuel_moist_base = data_base.FUEL_MOISTURE_NFSC\n",
    "fuel_moist_diff = fuel_moist_test - fuel_moist_base"
   ]
  },
  {
   "cell_type": "markdown",
   "metadata": {},
   "source": [
    "Number of patches"
   ]
  },
  {
   "cell_type": "code",
   "execution_count": null,
   "metadata": {},
   "outputs": [],
   "source": [
    "npatches_test = data_test.ED_NPATCHES\n",
    "npatches_base = data_base.ED_NPATCHES\n",
    "npatches_diff = npatches_test - npatches_base"
   ]
  },
  {
   "cell_type": "markdown",
   "metadata": {},
   "source": [
    "## Plot the data"
   ]
  },
  {
   "cell_type": "markdown",
   "metadata": {},
   "source": [
    "### Global plots"
   ]
  },
  {
   "cell_type": "markdown",
   "metadata": {},
   "source": [
    "Above ground coarse woody debris"
   ]
  },
  {
   "cell_type": "code",
   "execution_count": null,
   "metadata": {},
   "outputs": [],
   "source": [
    "# tstop_idx = 0\n",
    "tstop_idx = 119\n",
    "f, (ax1, ax2, ax3) = plt.subplots(1, 3, figsize=(26, 4))\n",
    "litter_cwd_ag_base.isel(time=tstop_idx).plot(ax=ax1);\n",
    "litter_cwd_ag_test.isel(time=tstop_idx).plot(ax=ax2);\n",
    "litter_cwd_ag_diff.isel(time=tstop_idx).plot(ax=ax3);\n",
    "ax1.set_title('fates_main_api');\n",
    "ax2.set_title('ctsm5.1.dev020-merge')\n",
    "ax3.set_title('Difference');"
   ]
  },
  {
   "cell_type": "code",
   "execution_count": null,
   "metadata": {},
   "outputs": [],
   "source": [
    "# diff ratio based on max scale\n",
    "6000/40000"
   ]
  },
  {
   "cell_type": "markdown",
   "metadata": {},
   "source": [
    "Number of patches"
   ]
  },
  {
   "cell_type": "code",
   "execution_count": null,
   "metadata": {},
   "outputs": [],
   "source": [
    "# tstop_idx = 0\n",
    "tstop_idx = 119\n",
    "f, (ax1, ax2, ax3) = plt.subplots(1, 3, figsize=(26, 4))\n",
    "npatches_base.isel(time=tstop_idx).plot(ax=ax1);\n",
    "npatches_test.isel(time=tstop_idx).plot(ax=ax2);\n",
    "npatches_diff.isel(time=tstop_idx).plot(ax=ax3);\n",
    "ax1.set_title('fates_main_api');\n",
    "ax2.set_title('ctsm5.1.dev020-merge')\n",
    "ax3.set_title('Difference');"
   ]
  },
  {
   "cell_type": "code",
   "execution_count": null,
   "metadata": {},
   "outputs": [],
   "source": [
    "# diff ratio based on max scale\n",
    ".04/10"
   ]
  },
  {
   "cell_type": "markdown",
   "metadata": {},
   "source": [
    "Below ground coarse woody debris"
   ]
  },
  {
   "cell_type": "code",
   "execution_count": null,
   "metadata": {},
   "outputs": [],
   "source": [
    "# tstop_idx = 0\n",
    "tstop_idx = 119\n",
    "f, (ax1, ax2, ax3) = plt.subplots(1, 3, figsize=(26, 4))\n",
    "litter_cwd_bg_base.isel(time=tstop_idx).plot(ax=ax1)\n",
    "litter_cwd_bg_test.isel(time=tstop_idx).plot(ax=ax2)\n",
    "litter_cwd_bg_diff.isel(time=tstop_idx).plot(ax=ax3)\n",
    "ax1.set_title('fates_main_api');\n",
    "ax2.set_title('ctsm5.1.dev020-merge')\n",
    "ax3.set_title('Difference');"
   ]
  },
  {
   "cell_type": "code",
   "execution_count": null,
   "metadata": {},
   "outputs": [],
   "source": [
    "# diff ratio based on max scale\n",
    "4000/30000"
   ]
  },
  {
   "cell_type": "markdown",
   "metadata": {},
   "source": [
    "Above ground fines (leaf)"
   ]
  },
  {
   "cell_type": "code",
   "execution_count": null,
   "metadata": {},
   "outputs": [],
   "source": [
    "# tstop_idx = 0\n",
    "tstop_idx = 119\n",
    "f, (ax1, ax2, ax3) = plt.subplots(1, 3, figsize=(26, 4))\n",
    "litter_fines_ag_base.isel(time=tstop_idx).plot(ax=ax1)\n",
    "litter_fines_ag_test.isel(time=tstop_idx).plot(ax=ax2)\n",
    "litter_fines_ag_diff.isel(time=tstop_idx).plot(ax=ax3)\n",
    "ax1.set_title('fates_main_api');\n",
    "ax2.set_title('ctsm5.1.dev020-merge');\n",
    "ax3.set_title('Difference');"
   ]
  },
  {
   "cell_type": "code",
   "execution_count": null,
   "metadata": {},
   "outputs": [],
   "source": [
    "# diff ratio based on max scale\n",
    "4000/50000"
   ]
  },
  {
   "cell_type": "markdown",
   "metadata": {},
   "source": [
    "Below ground fines (root)"
   ]
  },
  {
   "cell_type": "code",
   "execution_count": null,
   "metadata": {},
   "outputs": [],
   "source": [
    "# tstop_idx = 0\n",
    "tstop_idx = 119\n",
    "f, (ax1, ax2, ax3) = plt.subplots(1, 3, figsize=(26, 4))\n",
    "litter_fines_bg_base.isel(time=tstop_idx).plot(ax=ax1)\n",
    "litter_fines_bg_test.isel(time=tstop_idx).plot(ax=ax2)\n",
    "litter_fines_bg_diff.isel(time=tstop_idx).plot(ax=ax3)\n",
    "ax1.set_title('fates_main_api');\n",
    "ax2.set_title('ctsm5.1.dev020-merge');\n",
    "ax3.set_title('Difference');"
   ]
  },
  {
   "cell_type": "code",
   "execution_count": null,
   "metadata": {},
   "outputs": [],
   "source": [
    "# diff ratio based on max scale\n",
    "2000/25000"
   ]
  },
  {
   "cell_type": "markdown",
   "metadata": {},
   "source": [
    "Fuel intensity"
   ]
  },
  {
   "cell_type": "code",
   "execution_count": null,
   "metadata": {},
   "outputs": [],
   "source": [
    "# tstop_idx = 0\n",
    "tstop_idx = 119\n",
    "f, (ax1, ax2, ax3) = plt.subplots(1, 3, figsize=(26, 4))\n",
    "fuel_intensity_base.isel(time=tstop_idx).plot(ax=ax1)\n",
    "fuel_intensity_test.isel(time=tstop_idx).plot(ax=ax2)\n",
    "fuel_intensity_diff.isel(time=tstop_idx).plot(ax=ax3)\n",
    "ax1.set_title('fates_main_api');\n",
    "ax2.set_title('ctsm5.1.dev020-merge')\n",
    "ax3.set_title('Difference')"
   ]
  },
  {
   "cell_type": "code",
   "execution_count": null,
   "metadata": {},
   "outputs": [],
   "source": [
    "# diff ratio based on max scale\n",
    "75/500"
   ]
  },
  {
   "cell_type": "markdown",
   "metadata": {},
   "source": [
    "Fuel surface/volume"
   ]
  },
  {
   "cell_type": "code",
   "execution_count": null,
   "metadata": {},
   "outputs": [],
   "source": [
    "# tstop_idx = 0\n",
    "tstop_idx = 119\n",
    "f, (ax1, ax2, ax3) = plt.subplots(1, 3, figsize=(26, 4))\n",
    "fuel_sav_base.isel(time=tstop_idx).plot(ax=ax1)\n",
    "fuel_sav_test.isel(time=tstop_idx).plot(ax=ax2)\n",
    "fuel_sav_diff.isel(time=tstop_idx).plot(ax=ax3)\n",
    "ax1.set_title('fates_main_api');\n",
    "ax2.set_title('ctsm5.1.dev020-merge')\n",
    "ax3.set_title('Difference');"
   ]
  },
  {
   "cell_type": "code",
   "execution_count": null,
   "metadata": {},
   "outputs": [],
   "source": [
    "# diff ratio based on max scale\n",
    "6/60"
   ]
  },
  {
   "cell_type": "markdown",
   "metadata": {},
   "source": [
    "Effective Fuel moisture"
   ]
  },
  {
   "cell_type": "code",
   "execution_count": null,
   "metadata": {},
   "outputs": [],
   "source": [
    "# tstop_idx = 0\n",
    "tstop_idx = 119\n",
    "f, (ax1, ax2, ax3) = plt.subplots(1, 3, figsize=(26, 4))\n",
    "fuel_eff_moist_base.isel(time=tstop_idx).plot(ax=ax1)\n",
    "fuel_eff_moist_test.isel(time=tstop_idx).plot(ax=ax2)\n",
    "fuel_eff_moist_diff.isel(time=tstop_idx).plot(ax=ax3)\n",
    "ax1.set_title('fates_main_api');\n",
    "ax2.set_title('ctsm5.1.dev020-merge')\n",
    "ax3.set_title('Difference');"
   ]
  },
  {
   "cell_type": "code",
   "execution_count": null,
   "metadata": {},
   "outputs": [],
   "source": [
    "# diff ratio based on max scale\n",
    ".08/1"
   ]
  },
  {
   "cell_type": "markdown",
   "metadata": {},
   "source": [
    "Fuel bulk density"
   ]
  },
  {
   "cell_type": "code",
   "execution_count": null,
   "metadata": {},
   "outputs": [],
   "source": [
    "# tstop_idx = 0\n",
    "tstop_idx = 119\n",
    "f, (ax1, ax2, ax3) = plt.subplots(1, 3, figsize=(26, 4))\n",
    "fuel_bulkd_base.isel(time=tstop_idx).plot(ax=ax1)\n",
    "fuel_bulkd_test.isel(time=tstop_idx).plot(ax=ax2)\n",
    "fuel_bulkd_diff.isel(time=tstop_idx).plot(ax=ax3)\n",
    "ax1.set_title('fates_main_api');\n",
    "ax2.set_title('ctsm5.1.dev020-merge')\n",
    "ax3.set_title('Difference')"
   ]
  },
  {
   "cell_type": "code",
   "execution_count": null,
   "metadata": {},
   "outputs": [],
   "source": [
    "# diff ratio based on max scale\n",
    "1.5/12"
   ]
  },
  {
   "cell_type": "markdown",
   "metadata": {},
   "source": [
    "Fuel moisture (MEF)"
   ]
  },
  {
   "cell_type": "code",
   "execution_count": null,
   "metadata": {},
   "outputs": [],
   "source": [
    "# tstop_idx = 0\n",
    "tstop_idx = 119\n",
    "f, (ax1, ax2, ax3) = plt.subplots(1, 3, figsize=(26, 4))\n",
    "fuel_mef_base.isel(time=tstop_idx).plot(ax=ax1)\n",
    "fuel_mef_test.isel(time=tstop_idx).plot(ax=ax2)\n",
    "fuel_mef_diff.isel(time=tstop_idx).plot(ax=ax3)\n",
    "ax1.set_title('fates_main_api');\n",
    "ax2.set_title('ctsm5.1.dev020-merge')\n",
    "ax3.set_title('Difference')"
   ]
  },
  {
   "cell_type": "code",
   "execution_count": null,
   "metadata": {},
   "outputs": [],
   "source": [
    "# diff ratio based on max scale\n",
    ".01/.4"
   ]
  },
  {
   "cell_type": "markdown",
   "metadata": {},
   "source": [
    "Ground fuel within each patch age bin"
   ]
  },
  {
   "cell_type": "code",
   "execution_count": null,
   "metadata": {},
   "outputs": [],
   "source": [
    "# tstop_idx = 0\n",
    "tstop_idx = 119\n",
    "fg = sum_fuel_pa_diff.isel(time=tstop_idx).plot(transform=ccrs.PlateCarree(),\n",
    "                            col='fates_levage', col_wrap = 4, figsize=(32,8),\n",
    "                            subplot_kws={'projection': ccrs.PlateCarree()})\n",
    "for ax in fg.axes.flat:\n",
    "    ax.coastlines()"
   ]
  },
  {
   "cell_type": "markdown",
   "metadata": {},
   "source": [
    "Ground fuel within each patch age bin (ctsm5.1.dev020-merge)"
   ]
  },
  {
   "cell_type": "code",
   "execution_count": null,
   "metadata": {},
   "outputs": [],
   "source": [
    "# tstop_idx = 0\n",
    "tstop_idx = 119\n",
    "f, (ax1, ax2, ax3) = plt.subplots(1, 3, figsize=(26, 4))\n",
    "sum_fuel_pa_base.isel(time=tstop_idx,fates_levage=3).plot(ax=ax1)\n",
    "sum_fuel_pa_test.isel(time=tstop_idx,fates_levage=3).plot(ax=ax2)\n",
    "sum_fuel_pa_diff.isel(time=tstop_idx,fates_levage=3).plot(ax=ax3)\n",
    "ax1.set_title('fates_main_api fates_levage=3');\n",
    "ax2.set_title('ctsm5.1.dev020-merge')\n",
    "ax3.set_title('Difference');"
   ]
  },
  {
   "cell_type": "code",
   "execution_count": null,
   "metadata": {},
   "outputs": [],
   "source": [
    "# diff ratio based on max scale\n",
    "1500/4000"
   ]
  },
  {
   "cell_type": "markdown",
   "metadata": {},
   "source": [
    "Total ground fuel"
   ]
  },
  {
   "cell_type": "code",
   "execution_count": null,
   "metadata": {},
   "outputs": [],
   "source": [
    "# tstop_idx = 0\n",
    "tstop_idx = 119\n",
    "f, (ax1, ax2, ax3) = plt.subplots(1, 3, figsize=(26, 4))\n",
    "sum_fuel_base.isel(time=tstop_idx).plot(ax=ax1)\n",
    "sum_fuel_test.isel(time=tstop_idx).plot(ax=ax2)\n",
    "sum_fuel_diff.isel(time=tstop_idx).plot(ax=ax3)\n",
    "ax1.set_title('fates_main_api');\n",
    "ax2.set_title('ctsm5.1.dev020-merge')\n",
    "ax3.set_title('Difference');"
   ]
  },
  {
   "cell_type": "code",
   "execution_count": null,
   "metadata": {},
   "outputs": [],
   "source": [
    "# diff ratio based on max scale\n",
    "600/5000"
   ]
  },
  {
   "cell_type": "markdown",
   "metadata": {},
   "source": [
    "Corrected fire intensity"
   ]
  },
  {
   "cell_type": "code",
   "execution_count": null,
   "metadata": {},
   "outputs": [],
   "source": [
    "# tstop_idx = 0\n",
    "tstop_idx = 119\n",
    "f, (ax1, ax2, ax3) = plt.subplots(1, 3, figsize=(26, 4))\n",
    "fire_intensity_corr_base.isel(time=tstop_idx).plot(ax=ax1)\n",
    "fire_intensity_corr_test.isel(time=tstop_idx).plot(ax=ax2)\n",
    "fire_intensity_corr_diff.isel(time=tstop_idx).plot(ax=ax3)\n",
    "ax1.set_title('fates_main_api');\n",
    "ax2.set_title('ctsm5.1.dev020-merge')\n",
    "ax3.set_title('Difference');"
   ]
  },
  {
   "cell_type": "code",
   "execution_count": null,
   "metadata": {},
   "outputs": [],
   "source": [
    "# diff ratio based on max scale\n",
    "1000/5000"
   ]
  },
  {
   "cell_type": "markdown",
   "metadata": {},
   "source": [
    "Fuel moisture"
   ]
  },
  {
   "cell_type": "code",
   "execution_count": null,
   "metadata": {},
   "outputs": [],
   "source": [
    "# tstop_idx = 0\n",
    "tstop_idx = 119\n",
    "fg = fuel_moist_diff.isel(time=tstop_idx).plot(transform=ccrs.PlateCarree(),\n",
    "                            col='fates_levfuel', col_wrap = 3, figsize = (32,8),\n",
    "                            subplot_kws={'projection': ccrs.PlateCarree()})\n",
    "for ax in fg.axes.flat:\n",
    "    ax.coastlines()"
   ]
  },
  {
   "cell_type": "markdown",
   "metadata": {},
   "source": [
    "Fuel moisture (Difference)"
   ]
  },
  {
   "cell_type": "code",
   "execution_count": null,
   "metadata": {},
   "outputs": [],
   "source": [
    "# tstop_idx = 0\n",
    "tstop_idx = 119\n",
    "f, (ax1, ax2, ax3) = plt.subplots(1, 3, figsize=(26, 4))\n",
    "sum_fuel_pa_base.isel(time=tstop_idx,fates_levage=0).plot(ax=ax1)\n",
    "sum_fuel_pa_test.isel(time=tstop_idx,fates_levage=0).plot(ax=ax2)\n",
    "sum_fuel_pa_diff.isel(time=tstop_idx,fates_levage=0).plot(ax=ax3)\n",
    "ax1.set_title('fates_main_api fates_levage=0');\n",
    "ax2.set_title('ctsm5.1.dev020-merge')\n",
    "ax3.set_title('Difference');"
   ]
  },
  {
   "cell_type": "code",
   "execution_count": null,
   "metadata": {},
   "outputs": [],
   "source": [
    "# diff ratio based on max scale\n",
    "2000/2500"
   ]
  }
 ],
 "metadata": {
  "kernelspec": {
   "display_name": "Python 3",
   "language": "python",
   "name": "python3"
  },
  "language_info": {
   "codemirror_mode": {
    "name": "ipython",
    "version": 3
   },
   "file_extension": ".py",
   "mimetype": "text/x-python",
   "name": "python",
   "nbconvert_exporter": "python",
   "pygments_lexer": "ipython3",
   "version": "3.8.6"
  }
 },
 "nbformat": 4,
 "nbformat_minor": 4
}

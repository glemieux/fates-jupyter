{
 "cells": [
  {
   "cell_type": "markdown",
   "metadata": {},
   "source": [
    "# fates_next_api rebase into ctsm1.0.dev093 "
   ]
  },
  {
   "cell_type": "markdown",
   "metadata": {},
   "source": [
    "## Long-term tests (100 year)\n",
    "\n",
    "### Single site test: BCI\n",
    "\n",
    "- Case location: lobata workstation\n",
    "    - fates_next_api baselines:\n",
    "        - Baseline 1 (sci.1.36.0_api.11.2.0): `/home/glemieux/scratch/clmed-cases/fna-rebase.Ce33b4658-F7c065e21.2020-07-27`\n",
    "        - Baseline 2 (sci.1.40.1_api.13.0.1): `/home/glemieux/scratch/clmed-cases/fna-rebase-2.Cabcd5937-F3248e633.2020-08-05`\n",
    "    - fates_main_api tests: \n",
    "        - Test 1 (sci.1.36.0_api.11.2.0): `/home/glemieux/scratch/clmed-cases/fna-rebase.C024b43a8-F7c065e21.2020-07-27`\n",
    "        - Test 2 (sci.1.40.1_api.13.0.1): `/home/glemieux/scratch/clmed-cases/fna-rebase-2.Cd6ef097c-F3248e633.2020-08-05`"
   ]
  },
  {
   "cell_type": "markdown",
   "metadata": {},
   "source": []
  }
 ],
 "metadata": {
  "kernelspec": {
   "display_name": "Julia 1.4.0",
   "language": "julia",
   "name": "julia-1.4"
  },
  "language_info": {
   "file_extension": ".jl",
   "mimetype": "application/julia",
   "name": "julia",
   "version": "1.4.0"
  }
 },
 "nbformat": 4,
 "nbformat_minor": 4
}

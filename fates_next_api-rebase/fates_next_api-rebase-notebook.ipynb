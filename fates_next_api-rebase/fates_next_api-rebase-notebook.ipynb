{
 "cells": [
  {
   "cell_type": "markdown",
   "metadata": {},
   "source": [
    "# fates_next_api rebase into ctsm1.0.dev093 "
   ]
  },
  {
   "cell_type": "markdown",
   "metadata": {},
   "source": [
    "## Long-term tests (100 year)\n",
    "\n",
    "### Single site test: BCI\n",
    "\n",
    "- Case location: lobata workstation\n",
    "    - fates_next_api baselines:\n",
    "        - Baseline 1 (sci.1.36.0_api.11.2.0): `/home/glemieux/scratch/clmed-cases/fna-rebase.Ce33b4658-F7c065e21.2020-07-27`\n",
    "        - Baseline 2 (sci.1.40.1_api.13.0.1): `/home/glemieux/scratch/clmed-cases/fna-rebase-2.Cabcd5937-F3248e633.2020-08-05`\n",
    "    - fates_main_api tests: \n",
    "        - Test 1 (sci.1.36.0_api.11.2.0): `/home/glemieux/scratch/clmed-cases/fna-rebase.C024b43a8-F7c065e21.2020-07-27`\n",
    "        - Test 2 (sci.1.40.1_api.13.0.1): `/home/glemieux/scratch/clmed-cases/fna-rebase-2.Cd6ef097c-F3248e633.2020-08-05`"
   ]
  },
  {
   "cell_type": "markdown",
   "metadata": {},
   "source": [
    "### Gridded test: `f10_f10_mg37` resolution"
   ]
  },
  {
   "cell_type": "markdown",
   "metadata": {},
   "source": [
    "All plots are a difference between the fates_main_api test and the fates_next_api baseline for the last time step."
   ]
  },
  {
   "cell_type": "markdown",
   "metadata": {},
   "source": [
    "AGB\n",
    "\n",
    "![AGB](Test-Cases/Long-Term/gridded/agb_main-next_end_map.png)"
   ]
  },
  {
   "cell_type": "markdown",
   "metadata": {},
   "source": [
    "BIOMASS_CANOPY\n",
    "\n",
    "![BIOMASS_CANOPY](Test-Cases/Long-Term/gridded/biomass_canopy_main-next_end_map.png)"
   ]
  },
  {
   "cell_type": "markdown",
   "metadata": {},
   "source": [
    "BIOMASS_CANOPY\n",
    "\n",
    "![BIOMASS_CANOPY](Test-Cases/Long-Term/gridded/biomass_canopy_main-next_end_map.png)"
   ]
  },
  {
   "cell_type": "markdown",
   "metadata": {},
   "source": [
    "ED_BIOMASS\n",
    "\n",
    "![ED_BIOMASS](Test-Cases/Long-Term/gridded/ed_biomass_cwd_main-next_end_map.png)"
   ]
  },
  {
   "cell_type": "markdown",
   "metadata": {},
   "source": [
    "GPP\n",
    "\n",
    "![GPP](Test-Cases/Long-Term/gridded/gpp_main-next_end_map.png)"
   ]
  },
  {
   "cell_type": "markdown",
   "metadata": {},
   "source": [
    "LITTER_CWD\n",
    "\n",
    "![LITTER_CWD](Test-Cases/Long-Term/gridded/litter_cwd_main-next_k1_end_map.png)"
   ]
  },
  {
   "cell_type": "markdown",
   "metadata": {},
   "source": [
    "NEP\n",
    "\n",
    "![NEP](Test-Cases/Long-Term/gridded/nep_main-next_end_map.png)"
   ]
  },
  {
   "cell_type": "markdown",
   "metadata": {},
   "source": [
    "NPP\n",
    "\n",
    "![NPP](Test-Cases/Long-Term/gridded/npp_main-next_end_map.png)"
   ]
  },
  {
   "cell_type": "markdown",
   "metadata": {},
   "source": [
    "PFTLEAFBIOMASS, PFT 1\n",
    "\n",
    "![PFTLEAFBIOMASS_PFT1](Test-Cases/Long-Term/gridded/pftleafbiomass_pft-1_main-next_and_map.png)"
   ]
  },
  {
   "cell_type": "markdown",
   "metadata": {},
   "source": [
    "PFTLEAFBIOMASS, PFT 12\n",
    "\n",
    "![PFTLEAFBIOMASS_PFT12](Test-Cases/Long-Term/gridded/pftleafbiomass_pft-12_main-next_and_map.png)"
   ]
  },
  {
   "cell_type": "markdown",
   "metadata": {},
   "source": [
    "TLAI\n",
    "\n",
    "![TLAI](Test-Cases/Long-Term/gridded/tlai_main-next_end_map.png)"
   ]
  },
  {
   "cell_type": "code",
   "execution_count": null,
   "metadata": {},
   "outputs": [],
   "source": []
  }
 ],
 "metadata": {
  "kernelspec": {
   "display_name": "Julia 1.4.0",
   "language": "julia",
   "name": "julia-1.4"
  },
  "language_info": {
   "file_extension": ".jl",
   "mimetype": "application/julia",
   "name": "julia",
   "version": "1.4.0"
  }
 },
 "nbformat": 4,
 "nbformat_minor": 4
}

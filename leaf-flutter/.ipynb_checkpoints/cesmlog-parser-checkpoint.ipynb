{
 "cells": [
  {
   "cell_type": "markdown",
   "metadata": {},
   "source": [
    "Set the filename"
   ]
  },
  {
   "cell_type": "code",
   "execution_count": 1,
   "metadata": {},
   "outputs": [
    {
     "data": {
      "text/plain": [
       "\"/home/gregorylemieux/Work/Issues/383/deciduous-griddedruns/cesm.log.1855695.chadmin1.ib0.cheyenne.ucar.edu.200420-130249\""
      ]
     },
     "execution_count": 1,
     "metadata": {},
     "output_type": "execute_result"
    }
   ],
   "source": [
    "# filename = \"/home/gregorylemieux/Work/Issues/383/deciduous-griddedruns/cesm.log.1805694.chadmin1.ib0.cheyenne.ucar.edu.200417-103849\"\n",
    "# filename = \"/home/gregorylemieux/Work/Issues/383/deciduous-griddedruns/cesm.log.1851933.chadmin1.ib0.cheyenne.ucar.edu.200420-102252\"\n",
    "filename = \"/home/gregorylemieux/Work/Issues/383/deciduous-griddedruns/cesm.log.1855695.chadmin1.ib0.cheyenne.ucar.edu.200420-130249\""
   ]
  },
  {
   "cell_type": "code",
   "execution_count": 2,
   "metadata": {},
   "outputs": [],
   "source": [
    "# Open the file\n",
    "f = open(filename)\n",
    "\n",
    "# Read through each line and pull out the unique threadnumbers\n",
    "A = Array{Int64}(undef,0) # Initialize\n",
    "for line in eachline(f)\n",
    "    threadnum = parse(Float64,split(line,\":\")[1]) # Parse the line for the thread number\n",
    "    if !(in(threadnum,A)) # If not in the array add it\n",
    "        push!(A,threadnum)\n",
    "    end\n",
    "end\n",
    "\n",
    "# Close the file\n",
    "close(f)"
   ]
  },
  {
   "cell_type": "markdown",
   "metadata": {},
   "source": [
    "Run a couple of checks"
   ]
  },
  {
   "cell_type": "code",
   "execution_count": 3,
   "metadata": {},
   "outputs": [
    {
     "name": "stdout",
     "output_type": "stream",
     "text": [
      "true\n",
      "true\n"
     ]
    }
   ],
   "source": [
    "# Check all entries are unique\n",
    "println(A == unique(A))\n",
    "\n",
    "# Check that the thread numbers are sequential\n",
    "println(sort!(A) == Array(0:maximum(A)))"
   ]
  },
  {
   "cell_type": "markdown",
   "metadata": {},
   "source": [
    "Run through the file again and count the number of times that the laimemory is zero"
   ]
  },
  {
   "cell_type": "code",
   "execution_count": 25,
   "metadata": {},
   "outputs": [],
   "source": [
    "# Set the known strings we are interested in\n",
    "string_canopy = \"Starting canopy trim\"\n",
    "string_cohort = \"Current cohort\"\n",
    "string_laimem = \"Starting laimemory\"\n",
    "string_season = \"EDPftvarcon_inst%season_decid\"\n",
    "string_stress = \"EDPftvarcon_inst%stress_decid\"\n",
    "string_evergreen = \"EDPftvarcon_inst%evergreen\"\n",
    "string_optimum = \"OPTIMUM_LAIMEM\"\n",
    "string_cumulative = \"CUMULATIVE LAI\"\n",
    "string_trimopt = \"OPTIMUM TRIM\"\n",
    "string_nnu = \"nnu_clai_a\"\n",
    "\n",
    "# Create a dictionary to store the information\n",
    "based = Dict(\"season\"=>0,\"stress\"=>0,\"evergreen\"=>0)\n",
    "znzd = Dict(\"zero\" => copy(based), \"nonzero\" => copy(based))\n",
    "outputd = Dict(\"LAI memory\"=>deepcopy(znzd), \"LAI optimum\" => deepcopy(znzd), \"LAI cumulative\" => deepcopy(znzd),\n",
    "               \"NNU\" => Dict(\"zero\" => copy(based), \"one\" => copy(based), \"gtone\" => copy(based)), \"SNOlaimem\"=>deepcopy(znzd),\n",
    "               \"Trim optimum\" => Dict(\"negative\" => copy(based), \"zero\" => copy(based), \"positive\" => copy(based)))\n",
    "\n",
    "totallaicount = 0;"
   ]
  },
  {
   "cell_type": "code",
   "execution_count": 26,
   "metadata": {},
   "outputs": [],
   "source": [
    "for t in A\n",
    "#     println(t)    \n",
    "    laiflag = undef\n",
    "    seasonflag = undef\n",
    "    stressflag = undef\n",
    "    evergreenflag = undef\n",
    "    nnuflag = undef\n",
    "    \n",
    "    f = open(filename) # Open the file`\n",
    "    \n",
    "    # Iterate through file\n",
    "    for line in eachline(f)\n",
    "#         totallinecount += 1\n",
    "#         outputd[\"LAI memory\"][\"zero\"][\"season\"] += 1\n",
    "        linesplit = split(line,\":\") # Split into array of strings\n",
    "        threadnum = parse(Float64,linesplit[1]) # Parse the line for the thread number\n",
    "        \n",
    "        # Make sure the line format is threadnum:string:val\n",
    "        if threadnum == t && length(linesplit) == 3 && isempty(findall(isempty,linesplit))\n",
    "            # Check and set flag if incoming laimemory is zero or not\n",
    "            if strip(linesplit[2]) == string_laimem\n",
    "                totallaicount += 1  # Count up the total laimemory loops\n",
    "                # Reset the flags if we're back at the start\n",
    "                laiflag = undef\n",
    "                seasonflag = undef\n",
    "                stressflag = undef\n",
    "                evergreenflag = undef\n",
    "                nnuflag = undef\n",
    "                if parse(Float64,strip(linesplit[3])) == 0 # Set the laiflag for the next read\n",
    "                    laiflag = 0\n",
    "                else\n",
    "                    laiflag = 1\n",
    "                end\n",
    "            # The next three checks and sets the flag for the current pft type\n",
    "            elseif strip(linesplit[2]) == string_season && parse(Float64,strip(linesplit[3])) == 1\n",
    "                if laiflag == 0\n",
    "                    outputd[\"LAI memory\"][\"zero\"][\"season\"] += 1\n",
    "                else \n",
    "                    outputd[\"LAI memory\"][\"nonzero\"][\"season\"] += 1                \n",
    "                end\n",
    "#                 laiflag = undef\n",
    "                seasonflag = 1\n",
    "                stressflag = 0\n",
    "                evergreenflag = 0\n",
    "            elseif strip(linesplit[2]) == string_stress && parse(Float64,strip(linesplit[3])) == 1\n",
    "                if laiflag == 0\n",
    "                    outputd[\"LAI memory\"][\"zero\"][\"stress\"] += 1\n",
    "                else \n",
    "                    outputd[\"LAI memory\"][\"nonzero\"][\"stress\"] += 1                \n",
    "                end\n",
    "#                 laiflag = undef\n",
    "                seasonflag = 0\n",
    "                stressflag = 1\n",
    "                evergreenflag = 0\n",
    "            elseif strip(linesplit[2]) == string_evergreen && parse(Float64,strip(linesplit[3])) == 1\n",
    "                if laiflag == 0\n",
    "                    outputd[\"LAI memory\"][\"zero\"][\"evergreen\"] += 1\n",
    "                else \n",
    "                    outputd[\"LAI memory\"][\"nonzero\"][\"evergreen\"] += 1                \n",
    "                end\n",
    "#                 laiflag = undef\n",
    "                seasonflag = 0\n",
    "                stressflag = 0\n",
    "                evergreenflag = 1\n",
    "            # Record the cumulative lai\n",
    "            elseif strip(linesplit[2]) == string_cumulative\n",
    "                if parse(Float64,strip(linesplit[3])) == 0\n",
    "                    if stressflag == 1\n",
    "                        outputd[\"LAI cumulative\"][\"zero\"][\"stress\"] += 1\n",
    "                    elseif seasonflag == 1\n",
    "                        outputd[\"LAI cumulative\"][\"zero\"][\"season\"] += 1\n",
    "                    elseif evergreenflag == 1\n",
    "                        outputd[\"LAI cumulative\"][\"zero\"][\"evergreen\"] += 1\n",
    "                    end\n",
    "                else\n",
    "                    if stressflag == 1\n",
    "                        outputd[\"LAI cumulative\"][\"nonzero\"][\"stress\"] += 1\n",
    "                    elseif seasonflag == 1\n",
    "                        outputd[\"LAI cumulative\"][\"nonzero\"][\"season\"] += 1\n",
    "                    elseif evergreenflag == 1\n",
    "                        outputd[\"LAI cumulative\"][\"nonzero\"][\"evergreen\"] += 1\n",
    "                    end\n",
    "                end\n",
    "            # NNU is the gating logic for the whole optimization code.  Get and set the flag as necessary\n",
    "            elseif strip(linesplit[2]) == string_nnu\n",
    "                if parse(Float64,strip(linesplit[3])) == 0\n",
    "                    if stressflag == 1\n",
    "                        outputd[\"NNU\"][\"zero\"][\"stress\"] += 1\n",
    "                    elseif seasonflag == 1\n",
    "                        outputd[\"NNU\"][\"zero\"][\"season\"] += 1\n",
    "                    elseif evergreenflag == 1\n",
    "                        outputd[\"NNU\"][\"zero\"][\"evergreen\"] += 1\n",
    "                    end\n",
    "                    nnuflag = 0\n",
    "                elseif parse(Float64,strip(linesplit[3])) == 1\n",
    "                    if stressflag == 1\n",
    "                        outputd[\"NNU\"][\"one\"][\"stress\"] += 1\n",
    "                    elseif seasonflag == 1\n",
    "                        outputd[\"NNU\"][\"one\"][\"season\"] += 1\n",
    "                    elseif evergreenflag == 1\n",
    "                        outputd[\"NNU\"][\"one\"][\"evergreen\"] += 1\n",
    "                    end\n",
    "                    nnuflag = 0\n",
    "                else\n",
    "                    if stressflag == 1\n",
    "                        outputd[\"NNU\"][\"gtone\"][\"stress\"] += 1\n",
    "                    elseif seasonflag == 1\n",
    "                        outputd[\"NNU\"][\"gtone\"][\"season\"] += 1\n",
    "                    elseif evergreenflag == 1\n",
    "                        outputd[\"NNU\"][\"gtone\"][\"evergreen\"] += 1\n",
    "                    end\n",
    "                    nnuflag = 1\n",
    "                end\n",
    "            # The next two logic gates are nested in nnu\n",
    "            elseif strip(linesplit[2]) == string_trimopt\n",
    "                if parse(Float64,strip(linesplit[3])) == 0\n",
    "                    if stressflag == 1\n",
    "                        outputd[\"Trim optimum\"][\"zero\"][\"stress\"] += 1\n",
    "                    elseif seasonflag == 1\n",
    "                        outputd[\"Trim optimum\"][\"zero\"][\"season\"] += 1\n",
    "                    elseif evergreenflag == 1\n",
    "                        outputd[\"Trim optimum\"][\"zero\"][\"evergreen\"] += 1\n",
    "                    end\n",
    "                elseif parse(Float64,strip(linesplit[3])) > 0\n",
    "                    if stressflag == 1\n",
    "                        outputd[\"Trim optimum\"][\"positive\"][\"stress\"] += 1\n",
    "                    elseif seasonflag == 1\n",
    "                        outputd[\"Trim optimum\"][\"positive\"][\"season\"] += 1\n",
    "                    elseif evergreenflag == 1\n",
    "                        outputd[\"Trim optimum\"][\"positive\"][\"evergreen\"] += 1\n",
    "                    end\n",
    "                elseif parse(Float64,strip(linesplit[3])) < 0\n",
    "                    if stressflag == 1\n",
    "                        outputd[\"Trim optimum\"][\"negative\"][\"stress\"] += 1\n",
    "                    elseif seasonflag == 1\n",
    "                        outputd[\"Trim optimum\"][\"negative\"][\"season\"] += 1\n",
    "                    elseif evergreenflag == 1\n",
    "                        outputd[\"Trim optimum\"][\"negative\"][\"evergreen\"] += 1\n",
    "                    end\n",
    "                end\n",
    "            elseif strip(linesplit[2]) == string_optimum\n",
    "                if laiflag == 1\n",
    "                    if parse(Float64,strip(linesplit[3])) == 0\n",
    "                        if stressflag == 1\n",
    "                            outputd[\"LAI optimum\"][\"zero\"][\"stress\"] += 1\n",
    "                        elseif seasonflag == 1\n",
    "                            outputd[\"LAI optimum\"][\"zero\"][\"season\"] += 1\n",
    "                        elseif evergreenflag == 1\n",
    "                            outputd[\"LAI optimum\"][\"zero\"][\"evergreen\"] += 1\n",
    "                        end\n",
    "                    else\n",
    "                        if stressflag == 1\n",
    "                            outputd[\"LAI optimum\"][\"nonzero\"][\"stress\"] += 1\n",
    "                        elseif seasonflag == 1\n",
    "                            outputd[\"LAI optimum\"][\"nonzero\"][\"season\"] += 1\n",
    "                        elseif evergreenflag == 1\n",
    "                            outputd[\"LAI optimum\"][\"nonzero\"][\"evergreen\"] += 1\n",
    "                        end\n",
    "                    end\n",
    "                elseif laiflag == 0\n",
    "                    if parse(Float64,strip(linesplit[3])) == 0\n",
    "                        if stressflag == 1\n",
    "                            outputd[\"SNOlaimem\"][\"zero\"][\"stress\"] += 1\n",
    "                        elseif seasonflag == 1\n",
    "                            outputd[\"SNOlaimem\"][\"zero\"][\"season\"] += 1\n",
    "                        elseif evergreenflag == 1\n",
    "                            outputd[\"SNOlaimem\"][\"zero\"][\"evergreen\"] += 1\n",
    "                        end\n",
    "                    else\n",
    "                        if stressflag == 1\n",
    "                            outputd[\"SNOlaimem\"][\"nonzero\"][\"stress\"] += 1\n",
    "                        elseif seasonflag == 1\n",
    "                            outputd[\"SNOlaimem\"][\"nonzero\"][\"season\"] += 1\n",
    "                        elseif evergreenflag == 1\n",
    "                            outputd[\"SNOlaimem\"][\"nonzero\"][\"evergreen\"] += 1\n",
    "                        end\n",
    "                    end\n",
    "                end\n",
    "            end\n",
    "        end\n",
    "    end\n",
    "close(f) # Close the file\n",
    "end"
   ]
  },
  {
   "cell_type": "markdown",
   "metadata": {},
   "source": [
    "## Incoming LAI memory distribution"
   ]
  },
  {
   "cell_type": "code",
   "execution_count": 27,
   "metadata": {},
   "outputs": [
    {
     "data": {
      "text/plain": [
       "Dict{String,Int64} with 3 entries:\n",
       "  \"stress\"    => 6363\n",
       "  \"season\"    => 35933\n",
       "  \"evergreen\" => 0"
      ]
     },
     "execution_count": 27,
     "metadata": {},
     "output_type": "execute_result"
    }
   ],
   "source": [
    "outputd[\"LAI memory\"][\"nonzero\"]"
   ]
  },
  {
   "cell_type": "code",
   "execution_count": 28,
   "metadata": {},
   "outputs": [
    {
     "data": {
      "text/plain": [
       "Dict{String,Int64} with 3 entries:\n",
       "  \"stress\"    => 58946\n",
       "  \"season\"    => 19355\n",
       "  \"evergreen\" => 39700"
      ]
     },
     "execution_count": 28,
     "metadata": {},
     "output_type": "execute_result"
    }
   ],
   "source": [
    "outputd[\"LAI memory\"][\"zero\"]"
   ]
  },
  {
   "cell_type": "code",
   "execution_count": 29,
   "metadata": {},
   "outputs": [
    {
     "data": {
      "text/plain": [
       "Dict{String,Int64} with 3 entries:\n",
       "  \"stress\"    => 60358\n",
       "  \"season\"    => 32484\n",
       "  \"evergreen\" => 39700"
      ]
     },
     "execution_count": 29,
     "metadata": {},
     "output_type": "execute_result"
    }
   ],
   "source": [
    "outputd[\"LAI cumulative\"][\"nonzero\"]"
   ]
  },
  {
   "cell_type": "code",
   "execution_count": 30,
   "metadata": {},
   "outputs": [
    {
     "data": {
      "text/plain": [
       "Dict{String,Int64} with 3 entries:\n",
       "  \"stress\"    => 4951\n",
       "  \"season\"    => 22804\n",
       "  \"evergreen\" => 0"
      ]
     },
     "execution_count": 30,
     "metadata": {},
     "output_type": "execute_result"
    }
   ],
   "source": [
    "outputd[\"LAI cumulative\"][\"zero\"]"
   ]
  },
  {
   "cell_type": "markdown",
   "metadata": {},
   "source": [
    "## Optimization loop entrance"
   ]
  },
  {
   "cell_type": "code",
   "execution_count": 31,
   "metadata": {},
   "outputs": [
    {
     "data": {
      "text/plain": [
       "Dict{String,Int64} with 3 entries:\n",
       "  \"stress\"    => 41290\n",
       "  \"season\"    => 46817\n",
       "  \"evergreen\" => 38344"
      ]
     },
     "execution_count": 31,
     "metadata": {},
     "output_type": "execute_result"
    }
   ],
   "source": [
    "outputd[\"NNU\"][\"zero\"]"
   ]
  },
  {
   "cell_type": "code",
   "execution_count": 32,
   "metadata": {},
   "outputs": [
    {
     "data": {
      "text/plain": [
       "Dict{String,Int64} with 3 entries:\n",
       "  \"stress\"    => 141\n",
       "  \"season\"    => 67\n",
       "  \"evergreen\" => 65"
      ]
     },
     "execution_count": 32,
     "metadata": {},
     "output_type": "execute_result"
    }
   ],
   "source": [
    "outputd[\"NNU\"][\"one\"]"
   ]
  },
  {
   "cell_type": "code",
   "execution_count": 33,
   "metadata": {},
   "outputs": [
    {
     "data": {
      "text/plain": [
       "Dict{String,Int64} with 3 entries:\n",
       "  \"stress\"    => 23878\n",
       "  \"season\"    => 8404\n",
       "  \"evergreen\" => 1291"
      ]
     },
     "execution_count": 33,
     "metadata": {},
     "output_type": "execute_result"
    }
   ],
   "source": [
    "outputd[\"NNU\"][\"gtone\"]"
   ]
  },
  {
   "cell_type": "markdown",
   "metadata": {},
   "source": [
    "## Optimum Trim"
   ]
  },
  {
   "cell_type": "code",
   "execution_count": 34,
   "metadata": {},
   "outputs": [
    {
     "data": {
      "text/plain": [
       "Dict{String,Int64} with 3 entries:\n",
       "  \"stress\"    => 21767\n",
       "  \"season\"    => 7454\n",
       "  \"evergreen\" => 1274"
      ]
     },
     "execution_count": 34,
     "metadata": {},
     "output_type": "execute_result"
    }
   ],
   "source": [
    "outputd[\"Trim optimum\"][\"positive\"]"
   ]
  },
  {
   "cell_type": "code",
   "execution_count": 35,
   "metadata": {},
   "outputs": [
    {
     "data": {
      "text/plain": [
       "Dict{String,Int64} with 3 entries:\n",
       "  \"stress\"    => 0\n",
       "  \"season\"    => 0\n",
       "  \"evergreen\" => 0"
      ]
     },
     "execution_count": 35,
     "metadata": {},
     "output_type": "execute_result"
    }
   ],
   "source": [
    "outputd[\"Trim optimum\"][\"zero\"]"
   ]
  },
  {
   "cell_type": "code",
   "execution_count": 36,
   "metadata": {},
   "outputs": [
    {
     "data": {
      "text/plain": [
       "Dict{String,Int64} with 3 entries:\n",
       "  \"stress\"    => 2111\n",
       "  \"season\"    => 950\n",
       "  \"evergreen\" => 17"
      ]
     },
     "execution_count": 36,
     "metadata": {},
     "output_type": "execute_result"
    }
   ],
   "source": [
    "outputd[\"Trim optimum\"][\"negative\"]"
   ]
  },
  {
   "cell_type": "markdown",
   "metadata": {},
   "source": [
    "## Optimum LAI"
   ]
  },
  {
   "cell_type": "code",
   "execution_count": 37,
   "metadata": {},
   "outputs": [
    {
     "data": {
      "text/plain": [
       "Dict{String,Int64} with 3 entries:\n",
       "  \"stress\"    => 0\n",
       "  \"season\"    => 0\n",
       "  \"evergreen\" => 0"
      ]
     },
     "execution_count": 37,
     "metadata": {},
     "output_type": "execute_result"
    }
   ],
   "source": [
    "outputd[\"LAI optimum\"][\"zero\"]"
   ]
  },
  {
   "cell_type": "code",
   "execution_count": 38,
   "metadata": {},
   "outputs": [
    {
     "data": {
      "text/plain": [
       "Dict{String,Int64} with 3 entries:\n",
       "  \"stress\"    => 0\n",
       "  \"season\"    => 0\n",
       "  \"evergreen\" => 0"
      ]
     },
     "execution_count": 38,
     "metadata": {},
     "output_type": "execute_result"
    }
   ],
   "source": [
    "outputd[\"LAI optimum\"][\"nonzero\"]"
   ]
  },
  {
   "cell_type": "code",
   "execution_count": 39,
   "metadata": {},
   "outputs": [
    {
     "data": {
      "text/plain": [
       "Dict{String,Int64} with 3 entries:\n",
       "  \"stress\"    => 23878\n",
       "  \"season\"    => 8404\n",
       "  \"evergreen\" => 1291"
      ]
     },
     "execution_count": 39,
     "metadata": {},
     "output_type": "execute_result"
    }
   ],
   "source": [
    "outputd[\"SNOlaimem\"][\"zero\"]"
   ]
  },
  {
   "cell_type": "code",
   "execution_count": 40,
   "metadata": {},
   "outputs": [
    {
     "data": {
      "text/plain": [
       "Dict{String,Int64} with 3 entries:\n",
       "  \"stress\"    => 0\n",
       "  \"season\"    => 0\n",
       "  \"evergreen\" => 0"
      ]
     },
     "execution_count": 40,
     "metadata": {},
     "output_type": "execute_result"
    }
   ],
   "source": [
    "outputd[\"SNOlaimem\"][\"nonzero\"]"
   ]
  },
  {
   "cell_type": "code",
   "execution_count": 18,
   "metadata": {},
   "outputs": [
    {
     "data": {
      "text/plain": [
       "160297"
      ]
     },
     "execution_count": 18,
     "metadata": {},
     "output_type": "execute_result"
    }
   ],
   "source": [
    "totallaicount"
   ]
  },
  {
   "cell_type": "markdown",
   "metadata": {},
   "source": [
    "*Note here that all the values that make it through the optimum calculation have LAI optimum of zero.  PFTs of all types are returning `0` optimum LAI memory for those cohorts that are coming in with zero LAI memory*"
   ]
  },
  {
   "cell_type": "code",
   "execution_count": 41,
   "metadata": {},
   "outputs": [
    {
     "data": {
      "text/plain": [
       "true"
      ]
     },
     "execution_count": 41,
     "metadata": {},
     "output_type": "execute_result"
    }
   ],
   "source": [
    "outputd[\"SNOlaimem\"][\"zero\"] == outputd[\"NNU\"][\"gtone\"]"
   ]
  },
  {
   "cell_type": "code",
   "execution_count": null,
   "metadata": {},
   "outputs": [],
   "source": []
  }
 ],
 "metadata": {
  "kernelspec": {
   "display_name": "Julia 1.3.1",
   "language": "julia",
   "name": "julia-1.3"
  },
  "language_info": {
   "file_extension": ".jl",
   "mimetype": "application/julia",
   "name": "julia",
   "version": "1.3.1"
  }
 },
 "nbformat": 4,
 "nbformat_minor": 4
}

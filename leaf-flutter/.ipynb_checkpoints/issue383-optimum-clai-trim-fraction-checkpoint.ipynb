{
 "cells": [
  {
   "cell_type": "markdown",
   "metadata": {},
   "source": [
    "# Issue 383 Optimum LAI versus trim increment"
   ]
  },
  {
   "cell_type": "markdown",
   "metadata": {},
   "source": [
    "Goals:\n",
    "- Show master and optimum branch comparison\n",
    "    - Trimming for various size classes\n",
    "    - LAI by leaf layer\n",
    "- Show google sheet fractional comparison\n",
    "- Show deciduous works"
   ]
  },
  {
   "cell_type": "markdown",
   "metadata": {},
   "source": [
    "## Setup"
   ]
  },
  {
   "cell_type": "markdown",
   "metadata": {},
   "source": [
    "Load up the necessary packages"
   ]
  },
  {
   "cell_type": "code",
   "execution_count": 39,
   "metadata": {},
   "outputs": [],
   "source": [
    "import numpy as np\n",
    "import matplotlib.pyplot as plt\n",
    "from scipy.io import netcdf\n",
    "plt.rcParams[\"figure.figsize\"]=15,10"
   ]
  },
  {
   "cell_type": "markdown",
   "metadata": {},
   "source": [
    "Load in the data"
   ]
  },
  {
   "cell_type": "code",
   "execution_count": 40,
   "metadata": {},
   "outputs": [],
   "source": [
    "file_master = '/home/gregorylemieux/Work/Issues/383/concat-032020-master.nc' # master branch 30 year run\n",
    "file_optimum = '/home/gregorylemieux/Work/Issues/383/concat-032020-optimum.nc' # 022bb723 commit hash (30 year run)\n",
    "ncfile_master = netcdf.netcdf_file(file_master,'r',mmap=False)\n",
    "ncfile_optimum = netcdf.netcdf_file(file_optimum,'r',mmap=False)"
   ]
  },
  {
   "cell_type": "markdown",
   "metadata": {},
   "source": [
    "Copy variables to main memory"
   ]
  },
  {
   "cell_type": "code",
   "execution_count": 41,
   "metadata": {},
   "outputs": [],
   "source": [
    "# Condense copy into a function\n",
    "def loadncvar(netcdf_file,variablename):\n",
    "        var = netcdf_file.variables[variablename]\n",
    "        varcopy = var[:].copy()\n",
    "        return varcopy"
   ]
  },
  {
   "cell_type": "code",
   "execution_count": 42,
   "metadata": {},
   "outputs": [],
   "source": [
    "# TLAI\n",
    "tlai_master = loadncvar(ncfile_master,'TLAI')\n",
    "tlai_optimum = loadncvar(ncfile_optimum,'TLAI')\n",
    "\n",
    "# LAI\n",
    "lai_scls_can_master = loadncvar(ncfile_master,'LAI_CANOPY_SCLS')\n",
    "lai_scls_und_master = loadncvar(ncfile_master,'LAI_UNDERSTORY_SCLS')\n",
    "laisha_master = loadncvar(ncfile_master,'LAISHA')\n",
    "laisun_master = loadncvar(ncfile_master,'LAISUN')\n",
    "lai_scls_can_optimum = loadncvar(ncfile_optimum,'LAI_CANOPY_SCLS')\n",
    "lai_scls_und_optimum = loadncvar(ncfile_optimum,'LAI_UNDERSTORY_SCLS')\n",
    "laisha_optimum = loadncvar(ncfile_optimum,'LAISHA')\n",
    "laisun_optimum = loadncvar(ncfile_optimum,'LAISUN')\n",
    "\n",
    "# Trimming\n",
    "trim_master = loadncvar(ncfile_master,'TRIMMING')\n",
    "trim_optimum = loadncvar(ncfile_optimum,'TRIMMING')\n",
    "\n",
    "# Number of plants\n",
    "nplants_scls_master = loadncvar(ncfile_master,'NPLANT_SCLS')\n",
    "nplants_scls_can_master = loadncvar(ncfile_master,'NPLANT_CANOPY_SCLS')\n",
    "nplants_scls_und_master = loadncvar(ncfile_master,'NPLANT_UNDERSTORY_SCLS')\n",
    "nplants_scls_optimum = loadncvar(ncfile_optimum,'NPLANT_SCLS')\n",
    "nplants_scls_can_optimum = loadncvar(ncfile_optimum,'NPLANT_CANOPY_SCLS')\n",
    "nplants_scls_und_optimum = loadncvar(ncfile_optimum,'NPLANT_UNDERSTORY_SCLS')"
   ]
  },
  {
   "cell_type": "markdown",
   "metadata": {},
   "source": [
    "Close files"
   ]
  },
  {
   "cell_type": "code",
   "execution_count": 43,
   "metadata": {},
   "outputs": [],
   "source": [
    "ncfile_master.close()\n",
    "ncfile_optimum.close()"
   ]
  },
  {
   "cell_type": "markdown",
   "metadata": {},
   "source": [
    "## Comparison Plots"
   ]
  },
  {
   "cell_type": "code",
   "execution_count": null,
   "metadata": {},
   "outputs": [],
   "source": []
  }
 ],
 "metadata": {
  "kernelspec": {
   "display_name": "Python 3",
   "language": "python",
   "name": "python3"
  },
  "language_info": {
   "codemirror_mode": {
    "name": "ipython",
    "version": 3
   },
   "file_extension": ".py",
   "mimetype": "text/x-python",
   "name": "python",
   "nbconvert_exporter": "python",
   "pygments_lexer": "ipython3",
   "version": "3.7.3"
  }
 },
 "nbformat": 4,
 "nbformat_minor": 4
}

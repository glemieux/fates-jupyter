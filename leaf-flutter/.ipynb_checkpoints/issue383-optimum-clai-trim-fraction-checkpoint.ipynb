{
 "cells": [
  {
   "cell_type": "markdown",
   "metadata": {},
   "source": [
    "# Leaf Cost and Net Uptake analysis"
   ]
  },
  {
   "cell_type": "markdown",
   "metadata": {},
   "source": [
    "## Setup"
   ]
  },
  {
   "cell_type": "markdown",
   "metadata": {},
   "source": [
    "Load up the necessary packages"
   ]
  },
  {
   "cell_type": "code",
   "execution_count": 53,
   "metadata": {},
   "outputs": [],
   "source": [
    "import numpy as np\n",
    "import matplotlib.pyplot as plt\n",
    "from scipy.io import netcdf\n",
    "from scipy.signal import find_peaks\n",
    "plt.rcParams[\"figure.figsize\"]=15,10"
   ]
  },
  {
   "cell_type": "markdown",
   "metadata": {},
   "source": [
    "Load in the data"
   ]
  },
  {
   "cell_type": "code",
   "execution_count": 89,
   "metadata": {},
   "outputs": [],
   "source": [
    "# file = '/home/glemieux/scratch/clmed-cases/leaf_flutter-bci-ckovenparam-cnlf.C137514abc-F92150a45.2020-02-12/run/lnd/hist/concat.nc' # 30 year run\n",
    "# file = '/home/glemieux/scratch/clmed-cases/leaf_flutter-bci-ckovenparam-twoll.C137514abc-F99503c9a.2020-02-12/run/lnd/hist/concat.nc' # Only using last two leaf levels\n",
    "# file = '/home/glemieux/scratch/clmed-cases/leaf_flutter-bci-leafcost.C137514abc-Fabb2d56e.2020-02-13/run/lnd/hist/concat.nc' # Adding leaf cost to the history output\n",
    "# file = '/home/glemieux/scratch/clmed-cases/leaf_flutter-bci-optlai.C137514abc-F5f725c39.2020-02-13/run/lnd/hist/concat.nc' # sla_levleaf calculated from optimium cumulative lai\n",
    "# file = '/home/glemieux/scratch/clmed-cases/leaf_flutter-bci-longrun-stndvars.C137514abc-Ffbbcafd0.2020-02-24/run/lnd/hist/concat.nc' # 150 year master branch run\n",
    "# file = '/home/glemieux/scratch/clmed-cases/leaf_flutter-bci-tallestoutputonly.C137514abc-F3c05d18c.2020-02-25/run/lnd/hist/concat.nc' #\n",
    "# file = '/home/glemieux/scratch/clmed-cases/leaf_flutter-bci-tallestoutputonly-notrimadd.C137514abc-F3c05d18c.2020-02-25/run/lnd/hist/concat.nc' # removed trim inc add for tallest cohort\n",
    "# file = '/home/glemieux/scratch/clmed-cases/leaf_flutter-bci-llsf.C137514abc-Fc26723e7.2020-03-03/run/lnd/hist/concat.nc' # 15 year standard run with output to log\n",
    "# file = '/home/glemieux/scratch/clmed-cases/leaf_flutter-bci-llsf.C137514abc-Ff596cd86.2020-03-06/run/lnd/hist/concat.nc' # 15 year standard run with output to log and yarly output\n",
    "# file = '/home/glemieux/scratch/clmed-cases/leaf_flutter-bci-llsf.C137514abc-Ff596cd86.2020-03-11/run/lnd/hist/concat.nc' # Includes cumulative lai output\n",
    "# file = '/home/glemieux/scratch/clmed-cases/leaf_flutter-bci-llsf-rev1.C137514abc-Ff596cd86.2020-03-11/run/lnd/hist/concat.nc'\n",
    "file = '/home/gregorylemieux/Work/Issues/383/concat-031720.nc' # local file"
   ]
  },
  {
   "cell_type": "code",
   "execution_count": 3,
   "metadata": {},
   "outputs": [],
   "source": [
    "ncfile = netcdf.netcdf_file(file,'r',mmap=False)"
   ]
  },
  {
   "cell_type": "markdown",
   "metadata": {},
   "source": [
    "### Setup the variables of interest"
   ]
  },
  {
   "cell_type": "markdown",
   "metadata": {},
   "source": [
    "Copy variables to main memory"
   ]
  },
  {
   "cell_type": "code",
   "execution_count": 4,
   "metadata": {},
   "outputs": [
    {
     "data": {
      "text/plain": [
       "(180,)"
      ]
     },
     "execution_count": 4,
     "metadata": {},
     "output_type": "execute_result"
    }
   ],
   "source": [
    "# Time\n",
    "timevar = ncfile.variables['time']\n",
    "time = timevar[:].copy()\n",
    "np.shape(time)"
   ]
  },
  {
   "cell_type": "code",
   "execution_count": 5,
   "metadata": {},
   "outputs": [
    {
     "data": {
      "text/plain": [
       "(180, 1)"
      ]
     },
     "execution_count": 5,
     "metadata": {},
     "output_type": "execute_result"
    }
   ],
   "source": [
    "# TLAI\n",
    "tlaivar = ncfile.variables['TLAI'] # Total projected leaf area index (for whole patch?)\n",
    "tlai = tlaivar[:].copy()\n",
    "np.shape(tlai)"
   ]
  },
  {
   "cell_type": "code",
   "execution_count": 6,
   "metadata": {},
   "outputs": [],
   "source": [
    "tlai = np.reshape(tlai,180)"
   ]
  },
  {
   "cell_type": "code",
   "execution_count": 7,
   "metadata": {},
   "outputs": [
    {
     "data": {
      "text/plain": [
       "(180, 36, 1)"
      ]
     },
     "execution_count": 7,
     "metadata": {},
     "output_type": "execute_result"
    }
   ],
   "source": [
    "# LAI sun, shade and in canopy by size class\n",
    "laisun = ncfile.variables['LAISUN_Z_CNLF'][:].copy()\n",
    "laisha = ncfile.variables['LAISHA_Z_CNLF'][:].copy()\n",
    "lai_can_scls = ncfile.variables['LAI_CANOPY_SCLS'][:].copy()\n",
    "np.shape(lai_can_scls)"
   ]
  },
  {
   "cell_type": "code",
   "execution_count": 8,
   "metadata": {},
   "outputs": [],
   "source": [
    "laisun = np.reshape(laisun,(180,60))\n",
    "laisha = np.reshape(laisha,(180,60))\n",
    "lai_can_scls = np.reshape(lai_can_scls,(180,36))"
   ]
  },
  {
   "cell_type": "code",
   "execution_count": 9,
   "metadata": {},
   "outputs": [
    {
     "data": {
      "text/plain": [
       "(180, 60, 1)"
      ]
     },
     "execution_count": 9,
     "metadata": {},
     "output_type": "execute_result"
    }
   ],
   "source": [
    "# Crown area\n",
    "crownarea_cnlf = ncfile.variables['CROWNAREA_CNLF'][:].copy()\n",
    "np.shape(crownarea_cnlf)"
   ]
  },
  {
   "cell_type": "code",
   "execution_count": 10,
   "metadata": {},
   "outputs": [],
   "source": [
    "crownarea_cnlf = np.reshape(crownarea_cnlf,(180,60))"
   ]
  },
  {
   "cell_type": "code",
   "execution_count": 11,
   "metadata": {},
   "outputs": [
    {
     "data": {
      "text/plain": [
       "(180, 36, 1)"
      ]
     },
     "execution_count": 11,
     "metadata": {},
     "output_type": "execute_result"
    }
   ],
   "source": [
    "# Trimming\n",
    "trim = ncfile.variables['TRIMMING'][:].copy()\n",
    "trim_can = ncfile.variables['TRIMMING_CANOPY_SCLS'][:].copy()\n",
    "trim_und = ncfile.variables['TRIMMING_UNDERSTORY_SCLS'][:].copy()\n",
    "np.shape(trim)\n",
    "np.shape(trim_can)"
   ]
  },
  {
   "cell_type": "code",
   "execution_count": 12,
   "metadata": {},
   "outputs": [],
   "source": [
    "trim = np.reshape(trim,180)\n",
    "trim_can = np.reshape(trim_can,(180,36))\n",
    "trim_und = np.reshape(trim_und,(180,36))"
   ]
  },
  {
   "cell_type": "code",
   "execution_count": 13,
   "metadata": {},
   "outputs": [
    {
     "data": {
      "text/plain": [
       "(180, 36, 1)"
      ]
     },
     "execution_count": 13,
     "metadata": {},
     "output_type": "execute_result"
    }
   ],
   "source": [
    "# Number of plants\n",
    "nplants_scls = ncfile.variables['NPLANT_SCLS'][:].copy()\n",
    "nplants_scls_can = ncfile.variables['NPLANT_CANOPY_SCLS'][:].copy()\n",
    "nplants_scls_und = ncfile.variables['NPLANT_UNDERSTORY_SCLS'][:].copy()\n",
    "np.shape(nplants_scls_can)"
   ]
  },
  {
   "cell_type": "code",
   "execution_count": 14,
   "metadata": {},
   "outputs": [],
   "source": [
    "nplants_scls = np.reshape(nplants_scls,(180,36))\n",
    "nplants_scls_can = np.reshape(nplants_scls_can,(180,36))\n",
    "nplants_scls_und = np.reshape(nplants_scls_und,(180,36))"
   ]
  },
  {
   "cell_type": "code",
   "execution_count": 15,
   "metadata": {},
   "outputs": [
    {
     "data": {
      "text/plain": [
       "(180, 60, 1)"
      ]
     },
     "execution_count": 15,
     "metadata": {},
     "output_type": "execute_result"
    }
   ],
   "source": [
    "# Net uptake, timestep\n",
    "net_uptake_ts = ncfile.variables['NET_C_UPTAKE_CNLF'][:].copy()\n",
    "# Net uptake, yearly\n",
    "net_uptake_yrly = ncfile.variables['YRLY_UPTAKE_CNLF'][:].copy()\n",
    "np.shape(net_uptake_yrly)"
   ]
  },
  {
   "cell_type": "code",
   "execution_count": 16,
   "metadata": {},
   "outputs": [],
   "source": [
    "net_uptake_ts = np.reshape(net_uptake_ts,(180,60))\n",
    "net_uptake_yrly = np.reshape(net_uptake_yrly,(180,60))"
   ]
  },
  {
   "cell_type": "code",
   "execution_count": 17,
   "metadata": {},
   "outputs": [
    {
     "data": {
      "text/plain": [
       "(180, 60, 1)"
      ]
     },
     "execution_count": 17,
     "metadata": {},
     "output_type": "execute_result"
    }
   ],
   "source": [
    "# Leaf cost, yearly\n",
    "leafcost = ncfile.variables['LEAF_COST_CNLF'][:].copy()\n",
    "np.shape(leafcost)"
   ]
  },
  {
   "cell_type": "code",
   "execution_count": 18,
   "metadata": {},
   "outputs": [],
   "source": [
    "leafcost = np.reshape(leafcost,(180,60))"
   ]
  },
  {
   "cell_type": "code",
   "execution_count": 19,
   "metadata": {},
   "outputs": [
    {
     "data": {
      "text/plain": [
       "(180, 60, 1)"
      ]
     },
     "execution_count": 19,
     "metadata": {},
     "output_type": "execute_result"
    }
   ],
   "source": [
    "# Cumulative LAI, yearly\n",
    "cumulative_lai = ncfile.variables['CUMULATIVE_LAI_CNLF'][:].copy()\n",
    "np.shape(cumulative_lai)"
   ]
  },
  {
   "cell_type": "code",
   "execution_count": 20,
   "metadata": {},
   "outputs": [],
   "source": [
    "cumulative_lai = np.reshape(cumulative_lai,(180,60))"
   ]
  },
  {
   "cell_type": "markdown",
   "metadata": {},
   "source": [
    "Close file"
   ]
  },
  {
   "cell_type": "code",
   "execution_count": 21,
   "metadata": {},
   "outputs": [],
   "source": [
    "ncfile.close()"
   ]
  }
 ],
 "metadata": {
  "kernelspec": {
   "display_name": "Python 3",
   "language": "python",
   "name": "python3"
  },
  "language_info": {
   "codemirror_mode": {
    "name": "ipython",
    "version": 3
   },
   "file_extension": ".py",
   "mimetype": "text/x-python",
   "name": "python",
   "nbconvert_exporter": "python",
   "pygments_lexer": "ipython3",
   "version": "3.7.3"
  }
 },
 "nbformat": 4,
 "nbformat_minor": 4
}

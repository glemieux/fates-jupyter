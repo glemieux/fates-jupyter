{
 "cells": [
  {
   "cell_type": "markdown",
   "metadata": {},
   "source": [
    "Setup necessary packages"
   ]
  },
  {
   "cell_type": "code",
   "execution_count": 1,
   "metadata": {},
   "outputs": [],
   "source": [
    "using DataFrames"
   ]
  },
  {
   "cell_type": "markdown",
   "metadata": {},
   "source": [
    "Set the filename"
   ]
  },
  {
   "cell_type": "code",
   "execution_count": 2,
   "metadata": {},
   "outputs": [
    {
     "data": {
      "text/plain": [
       "\"/home/gregorylemieux/Work/Issues/383/deciduous-griddedruns/cesm.log.1927093.chadmin1.ib0.cheyenne.ucar.edu.200423-153202\""
      ]
     },
     "execution_count": 2,
     "metadata": {},
     "output_type": "execute_result"
    }
   ],
   "source": [
    "# filename = \"/home/gregorylemieux/Work/Issues/383/deciduous-griddedruns/cesm.log.1805694.chadmin1.ib0.cheyenne.ucar.edu.200417-103849\"\n",
    "# filename = \"/home/gregorylemieux/Work/Issues/383/deciduous-griddedruns/cesm.log.1851933.chadmin1.ib0.cheyenne.ucar.edu.200420-102252\"\n",
    "# filename = \"/home/gregorylemieux/Work/Issues/383/deciduous-griddedruns/cesm.log.1855695.chadmin1.ib0.cheyenne.ucar.edu.200420-130249\"\n",
    "# filename = \"/home/gregorylemieux/Work/Issues/383/deciduous-griddedruns/cesm.log.1877502.chadmin1.ib0.cheyenne.ucar.edu.200421-125647\"\n",
    "filename = \"/home/gregorylemieux/Work/Issues/383/deciduous-griddedruns/cesm.log.1927093.chadmin1.ib0.cheyenne.ucar.edu.200423-153202\""
   ]
  },
  {
   "cell_type": "markdown",
   "metadata": {},
   "source": [
    "Pull out the tread numbers (this should be sequential)cesm.log.1927093.chadmin1.ib0.cheyenne.ucar.edu.200423-153202"
   ]
  },
  {
   "cell_type": "code",
   "execution_count": 3,
   "metadata": {},
   "outputs": [],
   "source": [
    "# Open the file\n",
    "f = open(filename)\n",
    "\n",
    "# Read through each line and pull out the unique threadnumbers\n",
    "A = Vector{Int64}() # Initialize\n",
    "for line in eachline(f)\n",
    "    threadnum = parse(Int64,split(line,\":\")[1]) # Parse the line for the thread number\n",
    "    if !(in(threadnum,A)) # If not in the array add it\n",
    "        push!(A,threadnum)\n",
    "    end\n",
    "end\n",
    "\n",
    "# Close the file\n",
    "close(f)"
   ]
  },
  {
   "cell_type": "markdown",
   "metadata": {},
   "source": [
    "Run a couple of checks"
   ]
  },
  {
   "cell_type": "code",
   "execution_count": 4,
   "metadata": {},
   "outputs": [
    {
     "name": "stdout",
     "output_type": "stream",
     "text": [
      "true\n",
      "true\n"
     ]
    }
   ],
   "source": [
    "# Check all entries are unique\n",
    "println(A == unique(A))\n",
    "\n",
    "# Check that the thread numbers are sequential\n",
    "println(sort!(A) == Array(0:maximum(A)))"
   ]
  },
  {
   "cell_type": "markdown",
   "metadata": {},
   "source": [
    "## Setting up search values and dicts"
   ]
  },
  {
   "cell_type": "code",
   "execution_count": 5,
   "metadata": {},
   "outputs": [],
   "source": [
    "# Set the known strings we are interested in\n",
    "string_canopy = \"Starting canopy trim\"\n",
    "string_cohort = \"Current cohort\"\n",
    "string_laimem = \"Starting laimemory\"\n",
    "string_leafm = \"Starting leaf biomass\"\n",
    "string_treelai = \"currentCohort%treelai\"\n",
    "string_season = \"EDPftvarcon_inst%season_decid\"\n",
    "string_stress = \"EDPftvarcon_inst%stress_decid\"\n",
    "string_evergreen = \"EDPftvarcon_inst%evergreen\"\n",
    "string_optimum = \"OPTIMUM_LAIMEM\"\n",
    "string_cumulative = \"CUMULATIVE LAI\"\n",
    "string_trimopt = \"OPTIMUM TRIM\"\n",
    "string_nnu = \"nnu_clai_a\"\n",
    "string_nv = \"currentCohort%nv\"\n",
    "string_cstatus = \"currentSite%cstatus\"\n",
    "string_dstatus = \"currentSite%dstatus\"\n",
    "string_coh = \"currentCohort%status_coh\"\n",
    "string_end = \"End of cohort info\"\n",
    "\n",
    "nll = 4\n",
    "\n",
    "# Initialize vectors\n",
    "thread_vec = Vector{Int64}()\n",
    "laimem_vec = Vector{Float64}()\n",
    "treelai_vec = Vector{Float64}()\n",
    "leafmass_vec = Vector{Float64}()\n",
    "leafmass_vec = Vector{Float64}()\n",
    "seasonal_vec = Vector{Float64}()\n",
    "stress_vec = Vector{Float64}()\n",
    "evergreen_vec = Vector{Float64}()\n",
    "leafonoff_vec = Vector{Int64}()\n",
    "cstatus_vec = Vector{Int64}()\n",
    "dstatus_vec = Vector{Int64}()\n",
    "\n",
    "totallaicount = 0;"
   ]
  },
  {
   "cell_type": "markdown",
   "metadata": {},
   "source": [
    "## Leaf Status Check"
   ]
  },
  {
   "cell_type": "code",
   "execution_count": 6,
   "metadata": {},
   "outputs": [],
   "source": [
    "# Leaf status check loop\n",
    "totallaicount = 0;\n",
    "for t in A\n",
    "    \n",
    "    f = open(filename) # Open the file`\n",
    "    \n",
    "    # Iterate through file\n",
    "    for line in eachline(f)\n",
    "        \n",
    "        linesplit = split(line,\":\") # Split into array of strings\n",
    "        threadnum = parse(Int64,linesplit[1]) # Parse the line for the thread number\n",
    "        \n",
    "        # Make sure the line format is threadnum:string:val\n",
    "        if threadnum == t && length(linesplit) == 3 && isempty(findall(isempty,linesplit))\n",
    "            \n",
    "            if strip(linesplit[2]) == string_laimem\n",
    "                totallaicount += 1  # Count up the total laimemory loops\n",
    "                push!(thread_vec,threadnum)\n",
    "                push!(laimem_vec,parse(Float64,strip(linesplit[3])))\n",
    "                \n",
    "            # Next is the leaf biomass\n",
    "            elseif strip(linesplit[2]) == string_leafm\n",
    "                push!(leafmass_vec,parse(Float64,strip(linesplit[3])))\n",
    "\n",
    "            # Next is the leaf biomass\n",
    "            elseif strip(linesplit[2]) == string_treelai\n",
    "                push!(treelai_vec,parse(Float64,strip(linesplit[3])))\n",
    "                    \n",
    "            # Next three lines should be the deciduous/evergreen states\n",
    "            elseif strip(linesplit[2]) == string_season\n",
    "                push!(seasonal_vec,parse(Float64,strip(linesplit[3])))\n",
    "            elseif strip(linesplit[2]) == string_stress\n",
    "                push!(stress_vec,parse(Float64,strip(linesplit[3])))\n",
    "            elseif strip(linesplit[2]) == string_evergreen\n",
    "                push!(evergreen_vec,parse(Float64,strip(linesplit[3])))\n",
    "                \n",
    "            # Next is the leaf on/off status\n",
    "            elseif strip(linesplit[2]) == string_coh\n",
    "                push!(leafonoff_vec,parse(Int64,strip(linesplit[3]))) # leaves_off = 1, leaves_on = 2\n",
    "                \n",
    "            # Next is the cold and drought statuses\n",
    "            elseif strip(linesplit[2]) == string_cstatus\n",
    "                # Cold Leaf Off = 0 or 1, Cold Leaf On = 2\n",
    "                push!(cstatus_vec,parse(Int64,strip(linesplit[3]))) # phen_cstat_nevercold = 0, phen_cstat_iscold = 1, phen_cstat_notcold = 2\n",
    "            elseif strip(linesplit[2]) == string_dstatus\n",
    "                # Drought Leaf On = 2 or 4, Drought Leaf Off = 0 or 1\n",
    "                push!(dstatus_vec,parse(Int64,strip(linesplit[3]))) # phen_dstat_timeon = 2, phen_dstat_moiston = 3, phen_dstat_moistoff = 0, phen_dstat_timeoff = 1\n",
    "            end # string match\n",
    "        end # thread match\n",
    "    end # eachline\n",
    "    close(f) # Close the file\n",
    "end            "
   ]
  },
  {
   "cell_type": "markdown",
   "metadata": {},
   "source": [
    "Combine the outputs into a dataframe"
   ]
  },
  {
   "cell_type": "code",
   "execution_count": 7,
   "metadata": {},
   "outputs": [],
   "source": [
    "df = DataFrame(thread=thread_vec,laimemory=laimem_vec,\n",
    "               leafmass=leafmass_vec,treelai=treelai_vec,\n",
    "               seasonal_decid=seasonal_vec,stress_decid=stress_vec,evergreen_decid=evergreen_vec,\n",
    "               leafonoff=leafonoff_vec,cold=cstatus_vec,drought=dstatus_vec);"
   ]
  },
  {
   "cell_type": "markdown",
   "metadata": {},
   "source": [
    "## Check combinations to determine when `laimemory` is `0`"
   ]
  },
  {
   "cell_type": "code",
   "execution_count": 42,
   "metadata": {},
   "outputs": [
    {
     "data": {
      "text/plain": [
       "(118001, 10)"
      ]
     },
     "execution_count": 42,
     "metadata": {},
     "output_type": "execute_result"
    }
   ],
   "source": [
    "df_zero = filter(rows -> rows.laimemory .== 0, df);\n",
    "size(df_zero)"
   ]
  },
  {
   "cell_type": "code",
   "execution_count": 8,
   "metadata": {},
   "outputs": [],
   "source": [
    "df_gbzero = groupby(df,:laimemory);"
   ]
  },
  {
   "cell_type": "code",
   "execution_count": 9,
   "metadata": {},
   "outputs": [],
   "source": [
    "decid_states = groupby(df,[:stress_decid,:seasonal_decid,:evergreen_decid]);"
   ]
  },
  {
   "cell_type": "code",
   "execution_count": 11,
   "metadata": {},
   "outputs": [
    {
     "data": {
      "text/html": [
       "<p>DataFrameRow (10 columns)</p><table class=\"data-frame\"><thead><tr><th></th><th>thread</th><th>laimemory</th><th>leafmass</th><th>treelai</th><th>seasonal_decid</th><th>stress_decid</th><th>evergreen_decid</th></tr><tr><th></th><th>Int64</th><th>Float64</th><th>Float64</th><th>Float64</th><th>Float64</th><th>Float64</th><th>Float64</th></tr></thead><tbody><tr><th>1</th><td>1</td><td>0.0</td><td>0.00467311</td><td>0.733959</td><td>1.0</td><td>0.0</td><td>0.0</td></tr></tbody></table>"
      ],
      "text/latex": [
       "\\begin{tabular}{r|cccccccc}\n",
       "\t& thread & laimemory & leafmass & treelai & seasonal\\_decid & stress\\_decid & evergreen\\_decid & \\\\\n",
       "\t\\hline\n",
       "\t& Int64 & Float64 & Float64 & Float64 & Float64 & Float64 & Float64 & \\\\\n",
       "\t\\hline\n",
       "\t1 & 1 & 0.0 & 0.00467311 & 0.733959 & 1.0 & 0.0 & 0.0 & $\\dots$ \\\\\n",
       "\\end{tabular}\n"
      ],
      "text/plain": [
       "DataFrameRow. Omitted printing of 5 columns\n",
       "│ Row │ thread │ laimemory │ leafmass   │ treelai  │ seasonal_decid │\n",
       "│     │ \u001b[90mInt64\u001b[39m  │ \u001b[90mFloat64\u001b[39m   │ \u001b[90mFloat64\u001b[39m    │ \u001b[90mFloat64\u001b[39m  │ \u001b[90mFloat64\u001b[39m        │\n",
       "├─────┼────────┼───────────┼────────────┼──────────┼────────────────┤\n",
       "│ 1   │ 1      │ 0.0       │ 0.00467311 │ 0.733959 │ 1.0            │"
      ]
     },
     "execution_count": 11,
     "metadata": {},
     "output_type": "execute_result"
    }
   ],
   "source": [
    "decid_states[1][1,:]"
   ]
  },
  {
   "cell_type": "markdown",
   "metadata": {},
   "source": [
    "Deciduous states are mutually exclusive"
   ]
  },
  {
   "cell_type": "code",
   "execution_count": 12,
   "metadata": {},
   "outputs": [
    {
     "data": {
      "text/html": [
       "<p>DataFrameRow (10 columns)</p><table class=\"data-frame\"><thead><tr><th></th><th>thread</th><th>laimemory</th><th>leafmass</th><th>treelai</th><th>seasonal_decid</th><th>stress_decid</th><th>evergreen_decid</th></tr><tr><th></th><th>Int64</th><th>Float64</th><th>Float64</th><th>Float64</th><th>Float64</th><th>Float64</th><th>Float64</th></tr></thead><tbody><tr><th>2</th><td>1</td><td>0.0</td><td>0.0175406</td><td>3.2165</td><td>0.0</td><td>1.0</td><td>0.0</td></tr></tbody></table>"
      ],
      "text/latex": [
       "\\begin{tabular}{r|cccccccc}\n",
       "\t& thread & laimemory & leafmass & treelai & seasonal\\_decid & stress\\_decid & evergreen\\_decid & \\\\\n",
       "\t\\hline\n",
       "\t& Int64 & Float64 & Float64 & Float64 & Float64 & Float64 & Float64 & \\\\\n",
       "\t\\hline\n",
       "\t2 & 1 & 0.0 & 0.0175406 & 3.2165 & 0.0 & 1.0 & 0.0 & $\\dots$ \\\\\n",
       "\\end{tabular}\n"
      ],
      "text/plain": [
       "DataFrameRow. Omitted printing of 5 columns\n",
       "│ Row │ thread │ laimemory │ leafmass  │ treelai │ seasonal_decid │\n",
       "│     │ \u001b[90mInt64\u001b[39m  │ \u001b[90mFloat64\u001b[39m   │ \u001b[90mFloat64\u001b[39m   │ \u001b[90mFloat64\u001b[39m │ \u001b[90mFloat64\u001b[39m        │\n",
       "├─────┼────────┼───────────┼───────────┼─────────┼────────────────┤\n",
       "│ 2   │ 1      │ 0.0       │ 0.0175406 │ 3.2165  │ 0.0            │"
      ]
     },
     "execution_count": 12,
     "metadata": {},
     "output_type": "execute_result"
    }
   ],
   "source": [
    "decid_states[2][1,:]"
   ]
  },
  {
   "cell_type": "code",
   "execution_count": 13,
   "metadata": {},
   "outputs": [
    {
     "data": {
      "text/html": [
       "<p>DataFrameRow (10 columns)</p><table class=\"data-frame\"><thead><tr><th></th><th>thread</th><th>laimemory</th><th>leafmass</th><th>treelai</th><th>seasonal_decid</th><th>stress_decid</th><th>evergreen_decid</th></tr><tr><th></th><th>Int64</th><th>Float64</th><th>Float64</th><th>Float64</th><th>Float64</th><th>Float64</th><th>Float64</th></tr></thead><tbody><tr><th>4</th><td>1</td><td>0.0</td><td>0.0166008</td><td>0.898566</td><td>0.0</td><td>0.0</td><td>1.0</td></tr></tbody></table>"
      ],
      "text/latex": [
       "\\begin{tabular}{r|cccccccc}\n",
       "\t& thread & laimemory & leafmass & treelai & seasonal\\_decid & stress\\_decid & evergreen\\_decid & \\\\\n",
       "\t\\hline\n",
       "\t& Int64 & Float64 & Float64 & Float64 & Float64 & Float64 & Float64 & \\\\\n",
       "\t\\hline\n",
       "\t4 & 1 & 0.0 & 0.0166008 & 0.898566 & 0.0 & 0.0 & 1.0 & $\\dots$ \\\\\n",
       "\\end{tabular}\n"
      ],
      "text/plain": [
       "DataFrameRow. Omitted printing of 5 columns\n",
       "│ Row │ thread │ laimemory │ leafmass  │ treelai  │ seasonal_decid │\n",
       "│     │ \u001b[90mInt64\u001b[39m  │ \u001b[90mFloat64\u001b[39m   │ \u001b[90mFloat64\u001b[39m   │ \u001b[90mFloat64\u001b[39m  │ \u001b[90mFloat64\u001b[39m        │\n",
       "├─────┼────────┼───────────┼───────────┼──────────┼────────────────┤\n",
       "│ 4   │ 1      │ 0.0       │ 0.0166008 │ 0.898566 │ 0.0            │"
      ]
     },
     "execution_count": 13,
     "metadata": {},
     "output_type": "execute_result"
    }
   ],
   "source": [
    "decid_states[3][1,:]"
   ]
  },
  {
   "cell_type": "markdown",
   "metadata": {},
   "source": [
    "From the above we can see that the deciduous\\evergreen states are mutually exclusive"
   ]
  },
  {
   "cell_type": "code",
   "execution_count": 20,
   "metadata": {},
   "outputs": [],
   "source": [
    "laizero = groupby(df,[:laimemory,:leafonoff])[1];"
   ]
  },
  {
   "cell_type": "code",
   "execution_count": 24,
   "metadata": {},
   "outputs": [
    {
     "data": {
      "text/html": [
       "<table class=\"data-frame\"><thead><tr><th></th><th>variable</th><th>mean</th><th>min</th><th>median</th><th>max</th><th>nunique</th><th>nmissing</th></tr><tr><th></th><th>Symbol</th><th>Float64</th><th>Real</th><th>Float64</th><th>Real</th><th>Nothing</th><th>Nothing</th></tr></thead><tbody><p>10 rows × 8 columns (omitted printing of 1 columns)</p><tr><th>1</th><td>thread</td><td>35.3023</td><td>1</td><td>35.0</td><td>71</td><td></td><td></td></tr><tr><th>2</th><td>laimemory</td><td>0.0</td><td>0.0</td><td>0.0</td><td>0.0</td><td></td><td></td></tr><tr><th>3</th><td>leafmass</td><td>0.0195217</td><td>7.12737e-6</td><td>0.0122515</td><td>0.244952</td><td></td><td></td></tr><tr><th>4</th><td>treelai</td><td>2.96299</td><td>0.0279394</td><td>2.64526</td><td>15.957</td><td></td><td></td></tr><tr><th>5</th><td>seasonal_decid</td><td>0.164024</td><td>0.0</td><td>0.0</td><td>1.0</td><td></td><td></td></tr><tr><th>6</th><td>stress_decid</td><td>0.499538</td><td>0.0</td><td>0.0</td><td>1.0</td><td></td><td></td></tr><tr><th>7</th><td>evergreen_decid</td><td>0.336438</td><td>0.0</td><td>0.0</td><td>1.0</td><td></td><td></td></tr><tr><th>8</th><td>leafonoff</td><td>2.0</td><td>2</td><td>2.0</td><td>2</td><td></td><td></td></tr><tr><th>9</th><td>cold</td><td>1.16929</td><td>0</td><td>1.0</td><td>2</td><td></td><td></td></tr><tr><th>10</th><td>drought</td><td>2.34349</td><td>1</td><td>2.0</td><td>3</td><td></td><td></td></tr></tbody></table>"
      ],
      "text/latex": [
       "\\begin{tabular}{r|cccccccc}\n",
       "\t& variable & mean & min & median & max & nunique & nmissing & \\\\\n",
       "\t\\hline\n",
       "\t& Symbol & Float64 & Real & Float64 & Real & Nothing & Nothing & \\\\\n",
       "\t\\hline\n",
       "\t1 & thread & 35.3023 & 1 & 35.0 & 71 &  &  & $\\dots$ \\\\\n",
       "\t2 & laimemory & 0.0 & 0.0 & 0.0 & 0.0 &  &  & $\\dots$ \\\\\n",
       "\t3 & leafmass & 0.0195217 & 7.12737e-6 & 0.0122515 & 0.244952 &  &  & $\\dots$ \\\\\n",
       "\t4 & treelai & 2.96299 & 0.0279394 & 2.64526 & 15.957 &  &  & $\\dots$ \\\\\n",
       "\t5 & seasonal\\_decid & 0.164024 & 0.0 & 0.0 & 1.0 &  &  & $\\dots$ \\\\\n",
       "\t6 & stress\\_decid & 0.499538 & 0.0 & 0.0 & 1.0 &  &  & $\\dots$ \\\\\n",
       "\t7 & evergreen\\_decid & 0.336438 & 0.0 & 0.0 & 1.0 &  &  & $\\dots$ \\\\\n",
       "\t8 & leafonoff & 2.0 & 2 & 2.0 & 2 &  &  & $\\dots$ \\\\\n",
       "\t9 & cold & 1.16929 & 0 & 1.0 & 2 &  &  & $\\dots$ \\\\\n",
       "\t10 & drought & 2.34349 & 1 & 2.0 & 3 &  &  & $\\dots$ \\\\\n",
       "\\end{tabular}\n"
      ],
      "text/plain": [
       "10×8 DataFrame. Omitted printing of 3 columns\n",
       "│ Row │ variable        │ mean      │ min        │ median    │ max      │\n",
       "│     │ \u001b[90mSymbol\u001b[39m          │ \u001b[90mFloat64\u001b[39m   │ \u001b[90mReal\u001b[39m       │ \u001b[90mFloat64\u001b[39m   │ \u001b[90mReal\u001b[39m     │\n",
       "├─────┼─────────────────┼───────────┼────────────┼───────────┼──────────┤\n",
       "│ 1   │ thread          │ 35.3023   │ 1          │ 35.0      │ 71       │\n",
       "│ 2   │ laimemory       │ 0.0       │ 0.0        │ 0.0       │ 0.0      │\n",
       "│ 3   │ leafmass        │ 0.0195217 │ 7.12737e-6 │ 0.0122515 │ 0.244952 │\n",
       "│ 4   │ treelai         │ 2.96299   │ 0.0279394  │ 2.64526   │ 15.957   │\n",
       "│ 5   │ seasonal_decid  │ 0.164024  │ 0.0        │ 0.0       │ 1.0      │\n",
       "│ 6   │ stress_decid    │ 0.499538  │ 0.0        │ 0.0       │ 1.0      │\n",
       "│ 7   │ evergreen_decid │ 0.336438  │ 0.0        │ 0.0       │ 1.0      │\n",
       "│ 8   │ leafonoff       │ 2.0       │ 2          │ 2.0       │ 2        │\n",
       "│ 9   │ cold            │ 1.16929   │ 0          │ 1.0       │ 2        │\n",
       "│ 10  │ drought         │ 2.34349   │ 1          │ 2.0       │ 3        │"
      ]
     },
     "execution_count": 24,
     "metadata": {},
     "output_type": "execute_result"
    }
   ],
   "source": [
    "describe(laizero)"
   ]
  },
  {
   "cell_type": "code",
   "execution_count": null,
   "metadata": {},
   "outputs": [],
   "source": []
  }
 ],
 "metadata": {
  "kernelspec": {
   "display_name": "Julia 1.4.0",
   "language": "julia",
   "name": "julia-1.4"
  },
  "language_info": {
   "file_extension": ".jl",
   "mimetype": "application/julia",
   "name": "julia",
   "version": "1.4.0"
  }
 },
 "nbformat": 4,
 "nbformat_minor": 4
}

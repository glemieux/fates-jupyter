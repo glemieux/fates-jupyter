{
 "cells": [
  {
   "cell_type": "markdown",
   "metadata": {},
   "source": [
    "Set the filename"
   ]
  },
  {
   "cell_type": "code",
   "execution_count": 1,
   "metadata": {},
   "outputs": [
    {
     "data": {
      "text/plain": [
       "\"/home/gregorylemieux/Work/Issues/383/deciduous-griddedruns/cesm.log.1851933.chadmin1.ib0.cheyenne.ucar.edu.200420-102252\""
      ]
     },
     "execution_count": 1,
     "metadata": {},
     "output_type": "execute_result"
    }
   ],
   "source": [
    "# filename = \"/home/gregorylemieux/Work/Issues/383/deciduous-griddedruns/cesm.log.1805694.chadmin1.ib0.cheyenne.ucar.edu.200417-103849\"\n",
    "filename = \"/home/gregorylemieux/Work/Issues/383/deciduous-griddedruns/cesm.log.1851933.chadmin1.ib0.cheyenne.ucar.edu.200420-102252\""
   ]
  },
  {
   "cell_type": "code",
   "execution_count": 2,
   "metadata": {},
   "outputs": [],
   "source": [
    "# Open the file\n",
    "f = open(filename)\n",
    "\n",
    "# Read through each line and pull out the unique threadnumbers\n",
    "A = Array{Int64}(undef,0) # Initialize\n",
    "for line in eachline(f)\n",
    "    threadnum = parse(Float64,split(line,\":\")[1]) # Parse the line for the thread number\n",
    "    if !(in(threadnum,A)) # If not in the array add it\n",
    "        push!(A,threadnum)\n",
    "    end\n",
    "end\n",
    "\n",
    "# Close the file\n",
    "close(f)"
   ]
  },
  {
   "cell_type": "markdown",
   "metadata": {},
   "source": [
    "Run a couple of checks"
   ]
  },
  {
   "cell_type": "code",
   "execution_count": 3,
   "metadata": {},
   "outputs": [
    {
     "name": "stdout",
     "output_type": "stream",
     "text": [
      "true\n",
      "true\n"
     ]
    }
   ],
   "source": [
    "# Check all entries are unique\n",
    "println(A == unique(A))\n",
    "\n",
    "# Check that the thread numbers are sequential\n",
    "println(sort!(A) == Array(0:maximum(A)))"
   ]
  },
  {
   "cell_type": "markdown",
   "metadata": {},
   "source": [
    "Run through the file again and count the number of times that the laimemory is zero"
   ]
  },
  {
   "cell_type": "code",
   "execution_count": 58,
   "metadata": {},
   "outputs": [],
   "source": [
    "# Set the known strings we are interested in\n",
    "string_canopy = \"Starting canopy trim\"\n",
    "string_cohort = \"Current cohort\"\n",
    "string_laimem = \"Starting laimemory\"\n",
    "string_season = \"EDPftvarcon_inst%season_decid\"\n",
    "string_stress = \"EDPftvarcon_inst%stress_decid\"\n",
    "string_evergreen = \"EDPftvarcon_inst%evergreen\"\n",
    "string_optimum = \"OPTIMUM_LAIMEM\"\n",
    "string_cumulative = \"CUMULATIVE LAI\"\n",
    "string_trimopt = \"OPTIMUM TRIM\"\n",
    "\n",
    "# Create a dictionary to store the information\n",
    "check_laimem_zero = Dict(\"season\"=>0,\"stress\"=>0,\"evergreen\"=>0)\n",
    "check_laimem_nonzero = deepcopy(check_laimem_zero)\n",
    "check_laiopt_zero = deepcopy(check_laimem_zero)\n",
    "check_laiopt_nonzero = deepcopy(check_laimem_zero)\n",
    "check_laicum_zero = deepcopy(check_laimem_zero)\n",
    "check_laicum_nonzero = deepcopy(check_laimem_zero)\n",
    "check_trimopt_zero = deepcopy(check_laimem_zero)\n",
    "check_trimopt_positive = deepcopy(check_laimem_zero)\n",
    "check_trimopt_negative = deepcopy(check_laimem_zero)\n",
    "\n",
    "based = Dict(\"season\"=>0,\"stress\"=>0,\"evergreen\"=>0)\n",
    "outputd = Dict(\"LAI memory\"=>Dict(\"nonzero\" => based, \"zero\" => based),\n",
    "               \"LAI optimum\" => Dict(\"nonzero\" => based, \"zero\" => based),\n",
    "               \"LAI cumulative\" => Dict(\"nonzero\" => based, \"zero\" => based),\n",
    "               \"Trim optimum\" => Dict(\"negative\" => based, \"zero\" => based, \"positive\" => based))\n",
    "\n",
    "totallaicount = 0;"
   ]
  },
  {
   "cell_type": "code",
   "execution_count": 59,
   "metadata": {},
   "outputs": [
    {
     "data": {
      "text/plain": [
       "Dict{String,Dict{String,Dict{String,Int64}}} with 4 entries:\n",
       "  \"LAI memory\"     => Dict(\"zero\"=>Dict(\"stress\"=>0,\"season\"=>0,\"evergreen\"=>0)…\n",
       "  \"LAI optimum\"    => Dict(\"zero\"=>Dict(\"stress\"=>0,\"season\"=>0,\"evergreen\"=>0)…\n",
       "  \"Trim optimum\"   => Dict(\"zero\"=>Dict(\"stress\"=>0,\"season\"=>0,\"evergreen\"=>0)…\n",
       "  \"LAI cumulative\" => Dict(\"zero\"=>Dict(\"stress\"=>0,\"season\"=>0,\"evergreen\"=>0)…"
      ]
     },
     "execution_count": 59,
     "metadata": {},
     "output_type": "execute_result"
    }
   ],
   "source": [
    "outputd"
   ]
  },
  {
   "cell_type": "code",
   "execution_count": 31,
   "metadata": {},
   "outputs": [],
   "source": [
    "for t in A\n",
    "#     println(t)    \n",
    "    laiflag = undef\n",
    "    seasonflag = 0\n",
    "    stressflag = 0\n",
    "    evergreenflag = 0\n",
    "    \n",
    "    f = open(filename) # Open the file`\n",
    "    \n",
    "    # Iterate through file\n",
    "    for line in eachline(f)\n",
    "#         totallinecount += 1\n",
    "        \n",
    "        linesplit = split(line,\":\") # Split into array of strings\n",
    "        threadnum = parse(Float64,linesplit[1]) # Parse the line for the thread number\n",
    "        \n",
    "        # Make sure the line format is threadnum:string:val\n",
    "        if threadnum == t && length(linesplit) == 3 && isempty(findall(isempty,linesplit))\n",
    "            if strip(linesplit[2]) == string_laimem\n",
    "                totallaicount += 1  # Count up the total laimemory loops\n",
    "                seasonflag = 0\n",
    "                stressflag = 0\n",
    "                evergreenflag = 0\n",
    "                if parse(Float64,strip(linesplit[3])) == 0 # Set the laiflag for the next read\n",
    "                    laiflag = 0\n",
    "                else\n",
    "                    laiflag = 1\n",
    "                end\n",
    "            elseif strip(linesplit[2]) == string_season && parse(Float64,strip(linesplit[3])) == 1\n",
    "                if laiflag == 0\n",
    "                    check_laimem_zero[\"season\"] += 1\n",
    "                else \n",
    "                    check_laimem_nonzero[\"season\"] += 1                \n",
    "                end\n",
    "                laiflag = undef\n",
    "                seasonflag = 1\n",
    "            elseif strip(linesplit[2]) == string_stress && parse(Float64,strip(linesplit[3])) == 1\n",
    "                if laiflag == 0\n",
    "                    check_laimem_zero[\"stress\"] += 1\n",
    "                else \n",
    "                    check_laimem_nonzero[\"stress\"] += 1                \n",
    "                end\n",
    "                laiflag = undef\n",
    "                stressflag = 1\n",
    "            elseif strip(linesplit[2]) == string_evergreen && parse(Float64,strip(linesplit[3])) == 1\n",
    "                if laiflag == 0\n",
    "                    check_laimem_zero[\"evergreen\"] += 1\n",
    "                else \n",
    "                    check_laimem_nonzero[\"evergreen\"] += 1                \n",
    "                end\n",
    "                laiflag = undef\n",
    "                evergreenflag = 1\n",
    "            elseif strip(linesplit[2]) == string_optimum\n",
    "                if parse(Float64,strip(linesplit[3])) == 0\n",
    "                    if stressflag == 1\n",
    "                        check_laiopt_zero[\"stress\"] += 1\n",
    "                    elseif seasonflag == 1\n",
    "                        check_laiopt_zero[\"season\"] += 1\n",
    "                    elseif evergreenflag == 1\n",
    "                        check_laiopt_zero[\"evergreen\"] += 1\n",
    "                    end\n",
    "                else\n",
    "                    if stressflag == 1\n",
    "                        check_laiopt_nonzero[\"stress\"] += 1\n",
    "                    elseif seasonflag == 1\n",
    "                        check_laiopt_nonzero[\"season\"] += 1\n",
    "                    elseif evergreenflag == 1\n",
    "                        check_laiopt_nonzero[\"evergreen\"] += 1\n",
    "                    end\n",
    "                end\n",
    "            elseif strip(linesplit[2]) == string_cumulative\n",
    "                if parse(Float64,strip(linesplit[3])) == 0\n",
    "                    if stressflag == 1\n",
    "                        check_laicum_zero[\"stress\"] += 1\n",
    "                    elseif seasonflag == 1\n",
    "                        check_laicum_zero[\"season\"] += 1\n",
    "                    elseif evergreenflag == 1\n",
    "                        check_laicum_zero[\"evergreen\"] += 1\n",
    "                    end\n",
    "                else\n",
    "                    if stressflag == 1\n",
    "                        check_laicum_nonzero[\"stress\"] += 1\n",
    "                    elseif seasonflag == 1\n",
    "                        check_laicum_nonzero[\"season\"] += 1\n",
    "                    elseif evergreenflag == 1\n",
    "                        check_laicum_nonzero[\"evergreen\"] += 1\n",
    "                    end\n",
    "                end\n",
    "            elseif strip(linesplit[2]) == string_trimopt\n",
    "                if parse(Float64,strip(linesplit[3])) == 0\n",
    "                    if stressflag == 1\n",
    "                        check_trimopt_zero[\"stress\"] += 1\n",
    "                    elseif seasonflag == 1\n",
    "                        check_trimopt_zero[\"season\"] += 1\n",
    "                    elseif evergreenflag == 1\n",
    "                        check_trimopt_zero[\"evergreen\"] += 1\n",
    "                    end\n",
    "                elseif parse(Float64,strip(linesplit[3])) > 0\n",
    "                    if stressflag == 1\n",
    "                        check_trimopt_positive[\"stress\"] += 1\n",
    "                    elseif seasonflag == 1\n",
    "                        check_trimopt_positive[\"season\"] += 1\n",
    "                    elseif evergreenflag == 1\n",
    "                        check_trimopt_positive[\"evergreen\"] += 1\n",
    "                    end\n",
    "                elseif parse(Float64,strip(linesplit[3])) < 0\n",
    "                    if stressflag == 1\n",
    "                        check_trimopt_negative[\"stress\"] += 1\n",
    "                    elseif seasonflag == 1\n",
    "                        check_trimopt_negative[\"season\"] += 1\n",
    "                    elseif evergreenflag == 1\n",
    "                        check_trimopt_negative[\"evergreen\"] += 1\n",
    "                    end\n",
    "                end\n",
    "            end\n",
    "        end\n",
    "    end\n",
    "close(f) # Close the file\n",
    "end"
   ]
  },
  {
   "cell_type": "code",
   "execution_count": 32,
   "metadata": {},
   "outputs": [
    {
     "data": {
      "text/plain": [
       "Dict{String,Int64} with 3 entries:\n",
       "  \"stress\"    => 6363\n",
       "  \"season\"    => 35933\n",
       "  \"evergreen\" => 0"
      ]
     },
     "execution_count": 32,
     "metadata": {},
     "output_type": "execute_result"
    }
   ],
   "source": [
    "check_laimem_nonzero"
   ]
  },
  {
   "cell_type": "code",
   "execution_count": 33,
   "metadata": {},
   "outputs": [
    {
     "data": {
      "text/plain": [
       "Dict{String,Int64} with 3 entries:\n",
       "  \"stress\"    => 58946\n",
       "  \"season\"    => 19355\n",
       "  \"evergreen\" => 39700"
      ]
     },
     "execution_count": 33,
     "metadata": {},
     "output_type": "execute_result"
    }
   ],
   "source": [
    "check_laimem_zero"
   ]
  },
  {
   "cell_type": "code",
   "execution_count": 34,
   "metadata": {},
   "outputs": [
    {
     "data": {
      "text/plain": [
       "Dict{String,Int64} with 3 entries:\n",
       "  \"stress\"    => 0\n",
       "  \"season\"    => 0\n",
       "  \"evergreen\" => 0"
      ]
     },
     "execution_count": 34,
     "metadata": {},
     "output_type": "execute_result"
    }
   ],
   "source": [
    "check_laiopt_nonzero"
   ]
  },
  {
   "cell_type": "code",
   "execution_count": 35,
   "metadata": {},
   "outputs": [
    {
     "data": {
      "text/plain": [
       "Dict{String,Int64} with 3 entries:\n",
       "  \"stress\"    => 20587\n",
       "  \"season\"    => 6619\n",
       "  \"evergreen\" => 0"
      ]
     },
     "execution_count": 35,
     "metadata": {},
     "output_type": "execute_result"
    }
   ],
   "source": [
    "check_laiopt_zero"
   ]
  },
  {
   "cell_type": "code",
   "execution_count": 36,
   "metadata": {},
   "outputs": [
    {
     "data": {
      "text/plain": [
       "Dict{String,Int64} with 3 entries:\n",
       "  \"stress\"    => 23878\n",
       "  \"season\"    => 8404\n",
       "  \"evergreen\" => 1291"
      ]
     },
     "execution_count": 36,
     "metadata": {},
     "output_type": "execute_result"
    }
   ],
   "source": [
    "check_laicum_nonzero"
   ]
  },
  {
   "cell_type": "code",
   "execution_count": 37,
   "metadata": {},
   "outputs": [
    {
     "data": {
      "text/plain": [
       "Dict{String,Int64} with 3 entries:\n",
       "  \"stress\"    => 0\n",
       "  \"season\"    => 0\n",
       "  \"evergreen\" => 0"
      ]
     },
     "execution_count": 37,
     "metadata": {},
     "output_type": "execute_result"
    }
   ],
   "source": [
    "check_laicum_zero"
   ]
  },
  {
   "cell_type": "code",
   "execution_count": 40,
   "metadata": {},
   "outputs": [
    {
     "data": {
      "text/plain": [
       "Dict{String,Int64} with 3 entries:\n",
       "  \"stress\"    => 21767\n",
       "  \"season\"    => 7454\n",
       "  \"evergreen\" => 1274"
      ]
     },
     "execution_count": 40,
     "metadata": {},
     "output_type": "execute_result"
    }
   ],
   "source": [
    "check_trimopt_positive"
   ]
  },
  {
   "cell_type": "code",
   "execution_count": 41,
   "metadata": {},
   "outputs": [
    {
     "data": {
      "text/plain": [
       "Dict{String,Int64} with 3 entries:\n",
       "  \"stress\"    => 0\n",
       "  \"season\"    => 0\n",
       "  \"evergreen\" => 0"
      ]
     },
     "execution_count": 41,
     "metadata": {},
     "output_type": "execute_result"
    }
   ],
   "source": [
    "check_trimopt_zero"
   ]
  },
  {
   "cell_type": "code",
   "execution_count": 42,
   "metadata": {},
   "outputs": [
    {
     "data": {
      "text/plain": [
       "Dict{String,Int64} with 3 entries:\n",
       "  \"stress\"    => 2111\n",
       "  \"season\"    => 950\n",
       "  \"evergreen\" => 17"
      ]
     },
     "execution_count": 42,
     "metadata": {},
     "output_type": "execute_result"
    }
   ],
   "source": [
    "check_trimopt_negative"
   ]
  },
  {
   "cell_type": "code",
   "execution_count": 12,
   "metadata": {},
   "outputs": [
    {
     "data": {
      "text/plain": [
       "160297"
      ]
     },
     "execution_count": 12,
     "metadata": {},
     "output_type": "execute_result"
    }
   ],
   "source": [
    "totallaicount"
   ]
  },
  {
   "cell_type": "code",
   "execution_count": 48,
   "metadata": {},
   "outputs": [
    {
     "data": {
      "text/plain": [
       "Dict{Any,Any} with 0 entries"
      ]
     },
     "execution_count": 48,
     "metadata": {},
     "output_type": "execute_result"
    }
   ],
   "source": [
    "testdict = Dict()"
   ]
  },
  {
   "cell_type": "code",
   "execution_count": 50,
   "metadata": {},
   "outputs": [
    {
     "data": {
      "text/plain": [
       "Dict{String,Dict{String,Int64}} with 3 entries:\n",
       "  \"zero\"     => Dict(\"stress\"=>0,\"season\"=>0,\"evergreen\"=>0)\n",
       "  \"negative\" => Dict(\"stress\"=>2111,\"season\"=>950,\"evergreen\"=>17)\n",
       "  \"positive\" => Dict(\"stress\"=>21767,\"season\"=>7454,\"evergreen\"=>1274)"
      ]
     },
     "execution_count": 50,
     "metadata": {},
     "output_type": "execute_result"
    }
   ],
   "source": [
    "testdict[\"Optimum Trim\"] = Dict(\"negative\" => check_trimopt_negative, \"zero\" => check_trimopt_zero, \"positive\" => check_trimopt_positive) "
   ]
  },
  {
   "cell_type": "code",
   "execution_count": 52,
   "metadata": {},
   "outputs": [
    {
     "data": {
      "text/plain": [
       "Dict{String,Dict{String,Int64}} with 3 entries:\n",
       "  \"zero\"     => Dict(\"stress\"=>0,\"season\"=>0,\"evergreen\"=>0)\n",
       "  \"negative\" => Dict(\"stress\"=>2111,\"season\"=>950,\"evergreen\"=>17)\n",
       "  \"positive\" => Dict(\"stress\"=>21767,\"season\"=>7454,\"evergreen\"=>1274)"
      ]
     },
     "execution_count": 52,
     "metadata": {},
     "output_type": "execute_result"
    }
   ],
   "source": [
    "testdict[\"Optimum Trim\"]"
   ]
  },
  {
   "cell_type": "code",
   "execution_count": null,
   "metadata": {},
   "outputs": [],
   "source": []
  }
 ],
 "metadata": {
  "kernelspec": {
   "display_name": "Julia 1.3.1",
   "language": "julia",
   "name": "julia-1.3"
  },
  "language_info": {
   "file_extension": ".jl",
   "mimetype": "application/julia",
   "name": "julia",
   "version": "1.3.1"
  }
 },
 "nbformat": 4,
 "nbformat_minor": 4
}

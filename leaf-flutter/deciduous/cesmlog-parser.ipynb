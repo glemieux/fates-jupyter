{
 "cells": [
  {
   "cell_type": "markdown",
   "metadata": {},
   "source": [
    "# `laimemory` CESM log output"
   ]
  },
  {
   "cell_type": "markdown",
   "metadata": {},
   "source": [
    "This notebook presents the summary of the cesm log output to determine why all the deciduous pfts are coming into the `trim_canopy` function with zero `laimemory` and thus resulting in a B4B comparison to the original `laimemory` adjustment."
   ]
  },
  {
   "cell_type": "markdown",
   "metadata": {},
   "source": [
    "Setup necessary packages"
   ]
  },
  {
   "cell_type": "code",
   "execution_count": 2,
   "metadata": {},
   "outputs": [],
   "source": [
    "using DataFrames"
   ]
  },
  {
   "cell_type": "markdown",
   "metadata": {},
   "source": [
    "Set the filename"
   ]
  },
  {
   "cell_type": "code",
   "execution_count": 1,
   "metadata": {},
   "outputs": [
    {
     "data": {
      "text/plain": [
       "\"/home/gregorylemieux/Work/Issues/383/deciduous-griddedruns/cesm.log.1927093.chadmin1.ib0.cheyenne.ucar.edu.200423-153202\""
      ]
     },
     "execution_count": 1,
     "metadata": {},
     "output_type": "execute_result"
    }
   ],
   "source": [
    "# filename = \"/home/gregorylemieux/Work/Issues/383/deciduous-griddedruns/cesm.log.1805694.chadmin1.ib0.cheyenne.ucar.edu.200417-103849\"\n",
    "# filename = \"/home/gregorylemieux/Work/Issues/383/deciduous-griddedruns/cesm.log.1851933.chadmin1.ib0.cheyenne.ucar.edu.200420-102252\"\n",
    "# filename = \"/home/gregorylemieux/Work/Issues/383/deciduous-griddedruns/cesm.log.1855695.chadmin1.ib0.cheyenne.ucar.edu.200420-130249\"\n",
    "# filename = \"/home/gregorylemieux/Work/Issues/383/deciduous-griddedruns/cesm.log.1877502.chadmin1.ib0.cheyenne.ucar.edu.200421-125647\"\n",
    "filename = \"/home/gregorylemieux/Work/Issues/383/deciduous-griddedruns/cesm.log.1927093.chadmin1.ib0.cheyenne.ucar.edu.200423-153202\"\n",
    "# filename = \"/home/gregorylemieux/Work/Issues/383/deciduous-griddedruns/cesm.log.1937038.chadmin1.ib0.cheyenne.ucar.edu.200424-103859\""
   ]
  },
  {
   "cell_type": "markdown",
   "metadata": {},
   "source": [
    "Pull out the tread numbers (this should be sequential)cesm.log.1927093.chadmin1.ib0.cheyenne.ucar.edu.200423-153202"
   ]
  },
  {
   "cell_type": "code",
   "execution_count": 3,
   "metadata": {},
   "outputs": [],
   "source": [
    "# Open the file\n",
    "f = open(filename)\n",
    "\n",
    "# Read through each line and pull out the unique threadnumbers\n",
    "A = Vector{Int64}() # Initialize\n",
    "for line in eachline(f)\n",
    "    threadnum = parse(Int64,split(line,\":\")[1]) # Parse the line for the thread number\n",
    "    if !(in(threadnum,A)) # If not in the array add it\n",
    "        push!(A,threadnum)\n",
    "    end\n",
    "end\n",
    "\n",
    "# Close the file\n",
    "close(f)"
   ]
  },
  {
   "cell_type": "markdown",
   "metadata": {},
   "source": [
    "Run a couple of checks"
   ]
  },
  {
   "cell_type": "code",
   "execution_count": 4,
   "metadata": {},
   "outputs": [
    {
     "name": "stdout",
     "output_type": "stream",
     "text": [
      "true\n",
      "true\n"
     ]
    }
   ],
   "source": [
    "# Check all entries are unique\n",
    "println(A == unique(A))\n",
    "\n",
    "# Check that the thread numbers are sequential\n",
    "println(sort!(A) == Array(0:maximum(A)))"
   ]
  },
  {
   "cell_type": "markdown",
   "metadata": {},
   "source": [
    "## Setting up search values and dicts"
   ]
  },
  {
   "cell_type": "code",
   "execution_count": 5,
   "metadata": {},
   "outputs": [],
   "source": [
    "# Set the known strings we are interested in\n",
    "string_canopy = \"Starting canopy trim\"\n",
    "string_cohort = \"Current cohort\"\n",
    "string_laimem = \"Starting laimemory\"\n",
    "string_leafm = \"Starting leaf biomass\"\n",
    "string_treelai = \"currentCohort%treelai\"\n",
    "string_season = \"EDPftvarcon_inst%season_decid\"\n",
    "string_stress = \"EDPftvarcon_inst%stress_decid\"\n",
    "string_evergreen = \"EDPftvarcon_inst%evergreen\"\n",
    "string_optimum = \"OPTIMUM_LAIMEM\"\n",
    "string_cumulative = \"CUMULATIVE LAI\"\n",
    "string_trimopt = \"OPTIMUM TRIM\"\n",
    "string_nnu = \"nnu_clai_a\"\n",
    "string_nv = \"currentCohort%nv\"\n",
    "string_cstatus = \"currentSite%cstatus\"\n",
    "string_dstatus = \"currentSite%dstatus\"\n",
    "string_coh = \"currentCohort%status_coh\"\n",
    "string_end = \"End of cohort info\"\n",
    "\n",
    "nll = 4\n",
    "\n",
    "# Initialize vectors\n",
    "thread_vec = Vector{Int64}()\n",
    "laimem_vec = Vector{Float64}()\n",
    "treelai_vec = Vector{Float64}()\n",
    "leafmass_vec = Vector{Float64}()\n",
    "leafmass_vec = Vector{Float64}()\n",
    "seasonal_vec = Vector{Float64}()\n",
    "stress_vec = Vector{Float64}()\n",
    "evergreen_vec = Vector{Float64}()\n",
    "leafonoff_vec = Vector{Int64}()\n",
    "cstatus_vec = Vector{Int64}()\n",
    "dstatus_vec = Vector{Int64}()\n",
    "nnu_vec = Vector{Float64}()\n",
    "\n",
    "totallaicount = 0;"
   ]
  },
  {
   "cell_type": "markdown",
   "metadata": {},
   "source": [
    "## Parse the cesm log"
   ]
  },
  {
   "cell_type": "code",
   "execution_count": 6,
   "metadata": {},
   "outputs": [
    {
     "data": {
      "text/plain": [
       "IOStream(<file /home/gregorylemieux/Work/Issues/383/deciduous-griddedruns/cesm.log.1927093.chadmin1.ib0.cheyenne.ucar.edu.200423-153202>)"
      ]
     },
     "execution_count": 6,
     "metadata": {},
     "output_type": "execute_result"
    }
   ],
   "source": [
    "f = open(filename)"
   ]
  },
  {
   "cell_type": "code",
   "execution_count": 7,
   "metadata": {},
   "outputs": [],
   "source": [
    "# Leaf status check loop\n",
    "totallaicount = 0;\n",
    "for t in A\n",
    "#     println(t)\n",
    "    \n",
    "# Try implementing regex instead of parse\n",
    "#     f = open(filename) # Open the file`\n",
    "    \n",
    "    # Iterate through file\n",
    "    for line in eachline(f)\n",
    "        \n",
    "        linesplit = split(line,\":\") # Split into array of strings\n",
    "        threadnum = parse(Int64,linesplit[1]) # Parse the line for the thread number\n",
    "        \n",
    "        # Make sure the line format is threadnum:string:val\n",
    "        if threadnum == t && length(linesplit) == 3 && isempty(findall(isempty,linesplit))\n",
    "            \n",
    "            if strip(linesplit[2]) == string_laimem\n",
    "                totallaicount += 1  # Count up the total laimemory loops\n",
    "                push!(thread_vec,threadnum)\n",
    "                push!(laimem_vec,parse(Float64,strip(linesplit[3])))\n",
    "                \n",
    "            # Next is the leaf biomass\n",
    "            elseif strip(linesplit[2]) == string_leafm\n",
    "                push!(leafmass_vec,parse(Float64,strip(linesplit[3])))\n",
    "\n",
    "            # Next is the leaf biomass\n",
    "            elseif strip(linesplit[2]) == string_treelai\n",
    "                push!(treelai_vec,parse(Float64,strip(linesplit[3])))\n",
    "                    \n",
    "            # Next three lines should be the deciduous/evergreen states\n",
    "            elseif strip(linesplit[2]) == string_season\n",
    "                push!(seasonal_vec,parse(Float64,strip(linesplit[3])))\n",
    "            elseif strip(linesplit[2]) == string_stress\n",
    "                push!(stress_vec,parse(Float64,strip(linesplit[3])))\n",
    "            elseif strip(linesplit[2]) == string_evergreen\n",
    "                push!(evergreen_vec,parse(Float64,strip(linesplit[3])))\n",
    "                \n",
    "            # Next is the leaf on/off status\n",
    "            elseif strip(linesplit[2]) == string_coh\n",
    "                push!(leafonoff_vec,parse(Int64,strip(linesplit[3]))) # leaves_off = 1, leaves_on = 2\n",
    "                \n",
    "            # Next is the cold and drought statuses\n",
    "            elseif strip(linesplit[2]) == string_cstatus\n",
    "                # Cold Leaf Off = 0 or 1, Cold Leaf On = 2\n",
    "                push!(cstatus_vec,parse(Int64,strip(linesplit[3]))) # phen_cstat_nevercold = 0, phen_cstat_iscold = 1, phen_cstat_notcold = 2\n",
    "            elseif strip(linesplit[2]) == string_dstatus\n",
    "                # Drought Leaf On = 2 or 3, Drought Leaf Off = 0 or 1\n",
    "                push!(dstatus_vec,parse(Int64,strip(linesplit[3]))) # phen_dstat_timeon = 2, phen_dstat_moiston = 3, phen_dstat_moistoff = 0, phen_dstat_timeoff = 1\n",
    "            elseif strip(linesplit[2]) == string_nnu\n",
    "                # Determines if optimization routine will be entered\n",
    "                push!(nnu_vec,parse(Float64,strip(linesplit[3])))\n",
    "            end # string match\n",
    "        end # thread match\n",
    "    end # eachline\n",
    "    if eof(f)\n",
    "        seekstart(f)\n",
    "    end\n",
    "#     close(f) # Close the file\n",
    "end            "
   ]
  },
  {
   "cell_type": "code",
   "execution_count": 109,
   "metadata": {},
   "outputs": [],
   "source": [
    "close(f)"
   ]
  },
  {
   "cell_type": "markdown",
   "metadata": {},
   "source": [
    "## Check combinations to determine when `laimemory` is `0`"
   ]
  },
  {
   "cell_type": "markdown",
   "metadata": {},
   "source": [
    "Combine the outputs into a dataframe"
   ]
  },
  {
   "cell_type": "code",
   "execution_count": 8,
   "metadata": {},
   "outputs": [],
   "source": [
    "df = DataFrame(thread=thread_vec,laimemory=laimem_vec,\n",
    "               leafmass=leafmass_vec,treelai=treelai_vec,\n",
    "               seasonal_decid=seasonal_vec,stress_decid=stress_vec,evergreen_decid=evergreen_vec,\n",
    "               leafonoff=leafonoff_vec,cold=cstatus_vec,drought=dstatus_vec,nnu=nnu_vec);"
   ]
  },
  {
   "cell_type": "markdown",
   "metadata": {},
   "source": [
    "Confirm the deciduous states are mutually exclusive"
   ]
  },
  {
   "cell_type": "code",
   "execution_count": 9,
   "metadata": {},
   "outputs": [],
   "source": [
    "decid_states = groupby(df,[:stress_decid,:seasonal_decid,:evergreen_decid]);"
   ]
  },
  {
   "cell_type": "code",
   "execution_count": 10,
   "metadata": {},
   "outputs": [
    {
     "data": {
      "text/html": [
       "<p>DataFrameRow (11 columns)</p><table class=\"data-frame\"><thead><tr><th></th><th>thread</th><th>laimemory</th><th>leafmass</th><th>treelai</th><th>seasonal_decid</th><th>stress_decid</th><th>evergreen_decid</th></tr><tr><th></th><th>Int64</th><th>Float64</th><th>Float64</th><th>Float64</th><th>Float64</th><th>Float64</th><th>Float64</th></tr></thead><tbody><tr><th>1</th><td>1</td><td>0.0</td><td>0.00467311</td><td>0.733959</td><td>1.0</td><td>0.0</td><td>0.0</td></tr></tbody></table>"
      ],
      "text/latex": [
       "\\begin{tabular}{r|cccccccc}\n",
       "\t& thread & laimemory & leafmass & treelai & seasonal\\_decid & stress\\_decid & evergreen\\_decid & \\\\\n",
       "\t\\hline\n",
       "\t& Int64 & Float64 & Float64 & Float64 & Float64 & Float64 & Float64 & \\\\\n",
       "\t\\hline\n",
       "\t1 & 1 & 0.0 & 0.00467311 & 0.733959 & 1.0 & 0.0 & 0.0 & $\\dots$ \\\\\n",
       "\\end{tabular}\n"
      ],
      "text/plain": [
       "DataFrameRow. Omitted printing of 6 columns\n",
       "│ Row │ thread │ laimemory │ leafmass   │ treelai  │ seasonal_decid │\n",
       "│     │ \u001b[90mInt64\u001b[39m  │ \u001b[90mFloat64\u001b[39m   │ \u001b[90mFloat64\u001b[39m    │ \u001b[90mFloat64\u001b[39m  │ \u001b[90mFloat64\u001b[39m        │\n",
       "├─────┼────────┼───────────┼────────────┼──────────┼────────────────┤\n",
       "│ 1   │ 1      │ 0.0       │ 0.00467311 │ 0.733959 │ 1.0            │"
      ]
     },
     "execution_count": 10,
     "metadata": {},
     "output_type": "execute_result"
    }
   ],
   "source": [
    "decid_states[1][1,:]"
   ]
  },
  {
   "cell_type": "code",
   "execution_count": 11,
   "metadata": {},
   "outputs": [
    {
     "data": {
      "text/html": [
       "<p>DataFrameRow (11 columns)</p><table class=\"data-frame\"><thead><tr><th></th><th>thread</th><th>laimemory</th><th>leafmass</th><th>treelai</th><th>seasonal_decid</th><th>stress_decid</th><th>evergreen_decid</th></tr><tr><th></th><th>Int64</th><th>Float64</th><th>Float64</th><th>Float64</th><th>Float64</th><th>Float64</th><th>Float64</th></tr></thead><tbody><tr><th>2</th><td>1</td><td>0.0</td><td>0.0175406</td><td>3.2165</td><td>0.0</td><td>1.0</td><td>0.0</td></tr></tbody></table>"
      ],
      "text/latex": [
       "\\begin{tabular}{r|cccccccc}\n",
       "\t& thread & laimemory & leafmass & treelai & seasonal\\_decid & stress\\_decid & evergreen\\_decid & \\\\\n",
       "\t\\hline\n",
       "\t& Int64 & Float64 & Float64 & Float64 & Float64 & Float64 & Float64 & \\\\\n",
       "\t\\hline\n",
       "\t2 & 1 & 0.0 & 0.0175406 & 3.2165 & 0.0 & 1.0 & 0.0 & $\\dots$ \\\\\n",
       "\\end{tabular}\n"
      ],
      "text/plain": [
       "DataFrameRow. Omitted printing of 6 columns\n",
       "│ Row │ thread │ laimemory │ leafmass  │ treelai │ seasonal_decid │\n",
       "│     │ \u001b[90mInt64\u001b[39m  │ \u001b[90mFloat64\u001b[39m   │ \u001b[90mFloat64\u001b[39m   │ \u001b[90mFloat64\u001b[39m │ \u001b[90mFloat64\u001b[39m        │\n",
       "├─────┼────────┼───────────┼───────────┼─────────┼────────────────┤\n",
       "│ 2   │ 1      │ 0.0       │ 0.0175406 │ 3.2165  │ 0.0            │"
      ]
     },
     "execution_count": 11,
     "metadata": {},
     "output_type": "execute_result"
    }
   ],
   "source": [
    "decid_states[2][1,:]"
   ]
  },
  {
   "cell_type": "code",
   "execution_count": 12,
   "metadata": {},
   "outputs": [
    {
     "data": {
      "text/html": [
       "<p>DataFrameRow (11 columns)</p><table class=\"data-frame\"><thead><tr><th></th><th>thread</th><th>laimemory</th><th>leafmass</th><th>treelai</th><th>seasonal_decid</th><th>stress_decid</th><th>evergreen_decid</th></tr><tr><th></th><th>Int64</th><th>Float64</th><th>Float64</th><th>Float64</th><th>Float64</th><th>Float64</th><th>Float64</th></tr></thead><tbody><tr><th>4</th><td>1</td><td>0.0</td><td>0.0166008</td><td>0.898566</td><td>0.0</td><td>0.0</td><td>1.0</td></tr></tbody></table>"
      ],
      "text/latex": [
       "\\begin{tabular}{r|cccccccc}\n",
       "\t& thread & laimemory & leafmass & treelai & seasonal\\_decid & stress\\_decid & evergreen\\_decid & \\\\\n",
       "\t\\hline\n",
       "\t& Int64 & Float64 & Float64 & Float64 & Float64 & Float64 & Float64 & \\\\\n",
       "\t\\hline\n",
       "\t4 & 1 & 0.0 & 0.0166008 & 0.898566 & 0.0 & 0.0 & 1.0 & $\\dots$ \\\\\n",
       "\\end{tabular}\n"
      ],
      "text/plain": [
       "DataFrameRow. Omitted printing of 6 columns\n",
       "│ Row │ thread │ laimemory │ leafmass  │ treelai  │ seasonal_decid │\n",
       "│     │ \u001b[90mInt64\u001b[39m  │ \u001b[90mFloat64\u001b[39m   │ \u001b[90mFloat64\u001b[39m   │ \u001b[90mFloat64\u001b[39m  │ \u001b[90mFloat64\u001b[39m        │\n",
       "├─────┼────────┼───────────┼───────────┼──────────┼────────────────┤\n",
       "│ 4   │ 1      │ 0.0       │ 0.0166008 │ 0.898566 │ 0.0            │"
      ]
     },
     "execution_count": 12,
     "metadata": {},
     "output_type": "execute_result"
    }
   ],
   "source": [
    "decid_states[3][1,:]"
   ]
  },
  {
   "cell_type": "markdown",
   "metadata": {},
   "source": [
    "*From the above we can see that the deciduous\\evergreen states are mutually exclusive for the whole data set*"
   ]
  },
  {
   "cell_type": "markdown",
   "metadata": {},
   "source": [
    "Group the data by which entries have zero and nonzero `laimemory`"
   ]
  },
  {
   "cell_type": "code",
   "execution_count": 13,
   "metadata": {},
   "outputs": [],
   "source": [
    "df.laimem_zero = df.laimemory .== 0;"
   ]
  },
  {
   "cell_type": "code",
   "execution_count": 14,
   "metadata": {},
   "outputs": [],
   "source": [
    "laimem_group = groupby(df,:laimem_zero);"
   ]
  },
  {
   "cell_type": "code",
   "execution_count": 15,
   "metadata": {},
   "outputs": [
    {
     "data": {
      "text/plain": [
       "118001"
      ]
     },
     "execution_count": 15,
     "metadata": {},
     "output_type": "execute_result"
    }
   ],
   "source": [
    "nrows_laizero = size(laimem_group[1])[1]"
   ]
  },
  {
   "cell_type": "code",
   "execution_count": 16,
   "metadata": {},
   "outputs": [
    {
     "data": {
      "text/html": [
       "<table class=\"data-frame\"><thead><tr><th></th><th>variable</th><th>mean</th><th>min</th><th>median</th><th>max</th><th>nunique</th><th>nmissing</th></tr><tr><th></th><th>Symbol</th><th>Float64</th><th>Real</th><th>Float64</th><th>Real</th><th>Nothing</th><th>Nothing</th></tr></thead><tbody><p>12 rows × 8 columns (omitted printing of 1 columns)</p><tr><th>1</th><td>thread</td><td>35.3023</td><td>1</td><td>35.0</td><td>71</td><td></td><td></td></tr><tr><th>2</th><td>laimemory</td><td>0.0</td><td>0.0</td><td>0.0</td><td>0.0</td><td></td><td></td></tr><tr><th>3</th><td>leafmass</td><td>0.0195217</td><td>7.12737e-6</td><td>0.0122515</td><td>0.244952</td><td></td><td></td></tr><tr><th>4</th><td>treelai</td><td>2.96299</td><td>0.0279394</td><td>2.64526</td><td>15.957</td><td></td><td></td></tr><tr><th>5</th><td>seasonal_decid</td><td>0.164024</td><td>0.0</td><td>0.0</td><td>1.0</td><td></td><td></td></tr><tr><th>6</th><td>stress_decid</td><td>0.499538</td><td>0.0</td><td>0.0</td><td>1.0</td><td></td><td></td></tr><tr><th>7</th><td>evergreen_decid</td><td>0.336438</td><td>0.0</td><td>0.0</td><td>1.0</td><td></td><td></td></tr><tr><th>8</th><td>leafonoff</td><td>2.0</td><td>2</td><td>2.0</td><td>2</td><td></td><td></td></tr><tr><th>9</th><td>cold</td><td>1.16929</td><td>0</td><td>1.0</td><td>2</td><td></td><td></td></tr><tr><th>10</th><td>drought</td><td>2.34349</td><td>1</td><td>2.0</td><td>3</td><td></td><td></td></tr><tr><th>11</th><td>nnu</td><td>1.12495</td><td>0.0</td><td>0.0</td><td>4.0</td><td></td><td></td></tr><tr><th>12</th><td>laimem_zero</td><td>1.0</td><td>1</td><td>1.0</td><td>1</td><td></td><td></td></tr></tbody></table>"
      ],
      "text/latex": [
       "\\begin{tabular}{r|cccccccc}\n",
       "\t& variable & mean & min & median & max & nunique & nmissing & \\\\\n",
       "\t\\hline\n",
       "\t& Symbol & Float64 & Real & Float64 & Real & Nothing & Nothing & \\\\\n",
       "\t\\hline\n",
       "\t1 & thread & 35.3023 & 1 & 35.0 & 71 &  &  & $\\dots$ \\\\\n",
       "\t2 & laimemory & 0.0 & 0.0 & 0.0 & 0.0 &  &  & $\\dots$ \\\\\n",
       "\t3 & leafmass & 0.0195217 & 7.12737e-6 & 0.0122515 & 0.244952 &  &  & $\\dots$ \\\\\n",
       "\t4 & treelai & 2.96299 & 0.0279394 & 2.64526 & 15.957 &  &  & $\\dots$ \\\\\n",
       "\t5 & seasonal\\_decid & 0.164024 & 0.0 & 0.0 & 1.0 &  &  & $\\dots$ \\\\\n",
       "\t6 & stress\\_decid & 0.499538 & 0.0 & 0.0 & 1.0 &  &  & $\\dots$ \\\\\n",
       "\t7 & evergreen\\_decid & 0.336438 & 0.0 & 0.0 & 1.0 &  &  & $\\dots$ \\\\\n",
       "\t8 & leafonoff & 2.0 & 2 & 2.0 & 2 &  &  & $\\dots$ \\\\\n",
       "\t9 & cold & 1.16929 & 0 & 1.0 & 2 &  &  & $\\dots$ \\\\\n",
       "\t10 & drought & 2.34349 & 1 & 2.0 & 3 &  &  & $\\dots$ \\\\\n",
       "\t11 & nnu & 1.12495 & 0.0 & 0.0 & 4.0 &  &  & $\\dots$ \\\\\n",
       "\t12 & laimem\\_zero & 1.0 & 1 & 1.0 & 1 &  &  & $\\dots$ \\\\\n",
       "\\end{tabular}\n"
      ],
      "text/plain": [
       "12×8 DataFrame. Omitted printing of 3 columns\n",
       "│ Row │ variable        │ mean      │ min        │ median    │ max      │\n",
       "│     │ \u001b[90mSymbol\u001b[39m          │ \u001b[90mFloat64\u001b[39m   │ \u001b[90mReal\u001b[39m       │ \u001b[90mFloat64\u001b[39m   │ \u001b[90mReal\u001b[39m     │\n",
       "├─────┼─────────────────┼───────────┼────────────┼───────────┼──────────┤\n",
       "│ 1   │ thread          │ 35.3023   │ 1          │ 35.0      │ 71       │\n",
       "│ 2   │ laimemory       │ 0.0       │ 0.0        │ 0.0       │ 0.0      │\n",
       "│ 3   │ leafmass        │ 0.0195217 │ 7.12737e-6 │ 0.0122515 │ 0.244952 │\n",
       "│ 4   │ treelai         │ 2.96299   │ 0.0279394  │ 2.64526   │ 15.957   │\n",
       "│ 5   │ seasonal_decid  │ 0.164024  │ 0.0        │ 0.0       │ 1.0      │\n",
       "│ 6   │ stress_decid    │ 0.499538  │ 0.0        │ 0.0       │ 1.0      │\n",
       "│ 7   │ evergreen_decid │ 0.336438  │ 0.0        │ 0.0       │ 1.0      │\n",
       "│ 8   │ leafonoff       │ 2.0       │ 2          │ 2.0       │ 2        │\n",
       "│ 9   │ cold            │ 1.16929   │ 0          │ 1.0       │ 2        │\n",
       "│ 10  │ drought         │ 2.34349   │ 1          │ 2.0       │ 3        │\n",
       "│ 11  │ nnu             │ 1.12495   │ 0.0        │ 0.0       │ 4.0      │\n",
       "│ 12  │ laimem_zero     │ 1.0       │ 1          │ 1.0       │ 1        │"
      ]
     },
     "execution_count": 16,
     "metadata": {},
     "output_type": "execute_result"
    }
   ],
   "source": [
    "describe(laimem_group[1])"
   ]
  },
  {
   "cell_type": "markdown",
   "metadata": {},
   "source": [
    "*We see from the above that all instances of zero `laimemory` have nonzero leafmass and actual lai values.  Also the leaf state for the cohorts is always on (`leafonoff = 2`).*"
   ]
  },
  {
   "cell_type": "markdown",
   "metadata": {},
   "source": [
    "What do the non-zero `laimemory` groupings look like?"
   ]
  },
  {
   "cell_type": "code",
   "execution_count": 41,
   "metadata": {},
   "outputs": [
    {
     "data": {
      "text/html": [
       "<table class=\"data-frame\"><thead><tr><th></th><th>variable</th><th>mean</th><th>min</th><th>median</th><th>max</th><th>nunique</th><th>nmissing</th></tr><tr><th></th><th>Symbol</th><th>Float64</th><th>Real</th><th>Float64</th><th>Real</th><th>Nothing</th><th>Nothing</th></tr></thead><tbody><p>13 rows × 8 columns (omitted printing of 1 columns)</p><tr><th>1</th><td>thread</td><td>34.0932</td><td>1</td><td>33.0</td><td>71</td><td></td><td></td></tr><tr><th>2</th><td>laimemory</td><td>0.0250192</td><td>1.70872e-5</td><td>0.0119478</td><td>0.36424</td><td></td><td></td></tr><tr><th>3</th><td>leafmass</td><td>4.91558e-19</td><td>0.0</td><td>0.0</td><td>5.55112e-17</td><td></td><td></td></tr><tr><th>4</th><td>treelai</td><td>6.36091e-17</td><td>-8.66239e-16</td><td>0.0</td><td>2.1656e-15</td><td></td><td></td></tr><tr><th>5</th><td>seasonal_decid</td><td>0.84956</td><td>0.0</td><td>1.0</td><td>1.0</td><td></td><td></td></tr><tr><th>6</th><td>stress_decid</td><td>0.15044</td><td>0.0</td><td>0.0</td><td>1.0</td><td></td><td></td></tr><tr><th>7</th><td>evergreen_decid</td><td>0.0</td><td>0.0</td><td>0.0</td><td>0.0</td><td></td><td></td></tr><tr><th>8</th><td>leafonoff</td><td>1.0</td><td>1</td><td>1.0</td><td>1</td><td></td><td></td></tr><tr><th>9</th><td>cold</td><td>0.594051</td><td>0</td><td>1.0</td><td>2</td><td></td><td></td></tr><tr><th>10</th><td>drought</td><td>2.11176</td><td>1</td><td>2.0</td><td>3</td><td></td><td></td></tr><tr><th>11</th><td>nnu</td><td>0.0</td><td>0.0</td><td>0.0</td><td>0.0</td><td></td><td></td></tr><tr><th>12</th><td>laimem_zero</td><td>0.0</td><td>0</td><td>0.0</td><td>0</td><td></td><td></td></tr><tr><th>13</th><td>nnu_gtone</td><td>0.0</td><td>0</td><td>0.0</td><td>0</td><td></td><td></td></tr></tbody></table>"
      ],
      "text/latex": [
       "\\begin{tabular}{r|cccccccc}\n",
       "\t& variable & mean & min & median & max & nunique & nmissing & \\\\\n",
       "\t\\hline\n",
       "\t& Symbol & Float64 & Real & Float64 & Real & Nothing & Nothing & \\\\\n",
       "\t\\hline\n",
       "\t1 & thread & 34.0932 & 1 & 33.0 & 71 &  &  & $\\dots$ \\\\\n",
       "\t2 & laimemory & 0.0250192 & 1.70872e-5 & 0.0119478 & 0.36424 &  &  & $\\dots$ \\\\\n",
       "\t3 & leafmass & 4.91558e-19 & 0.0 & 0.0 & 5.55112e-17 &  &  & $\\dots$ \\\\\n",
       "\t4 & treelai & 6.36091e-17 & -8.66239e-16 & 0.0 & 2.1656e-15 &  &  & $\\dots$ \\\\\n",
       "\t5 & seasonal\\_decid & 0.84956 & 0.0 & 1.0 & 1.0 &  &  & $\\dots$ \\\\\n",
       "\t6 & stress\\_decid & 0.15044 & 0.0 & 0.0 & 1.0 &  &  & $\\dots$ \\\\\n",
       "\t7 & evergreen\\_decid & 0.0 & 0.0 & 0.0 & 0.0 &  &  & $\\dots$ \\\\\n",
       "\t8 & leafonoff & 1.0 & 1 & 1.0 & 1 &  &  & $\\dots$ \\\\\n",
       "\t9 & cold & 0.594051 & 0 & 1.0 & 2 &  &  & $\\dots$ \\\\\n",
       "\t10 & drought & 2.11176 & 1 & 2.0 & 3 &  &  & $\\dots$ \\\\\n",
       "\t11 & nnu & 0.0 & 0.0 & 0.0 & 0.0 &  &  & $\\dots$ \\\\\n",
       "\t12 & laimem\\_zero & 0.0 & 0 & 0.0 & 0 &  &  & $\\dots$ \\\\\n",
       "\t13 & nnu\\_gtone & 0.0 & 0 & 0.0 & 0 &  &  & $\\dots$ \\\\\n",
       "\\end{tabular}\n"
      ],
      "text/plain": [
       "13×8 DataFrame. Omitted printing of 3 columns\n",
       "│ Row │ variable        │ mean        │ min          │ median    │ max         │\n",
       "│     │ \u001b[90mSymbol\u001b[39m          │ \u001b[90mFloat64\u001b[39m     │ \u001b[90mReal\u001b[39m         │ \u001b[90mFloat64\u001b[39m   │ \u001b[90mReal\u001b[39m        │\n",
       "├─────┼─────────────────┼─────────────┼──────────────┼───────────┼─────────────┤\n",
       "│ 1   │ thread          │ 34.0932     │ 1            │ 33.0      │ 71          │\n",
       "│ 2   │ laimemory       │ 0.0250192   │ 1.70872e-5   │ 0.0119478 │ 0.36424     │\n",
       "│ 3   │ leafmass        │ 4.91558e-19 │ 0.0          │ 0.0       │ 5.55112e-17 │\n",
       "│ 4   │ treelai         │ 6.36091e-17 │ -8.66239e-16 │ 0.0       │ 2.1656e-15  │\n",
       "│ 5   │ seasonal_decid  │ 0.84956     │ 0.0          │ 1.0       │ 1.0         │\n",
       "│ 6   │ stress_decid    │ 0.15044     │ 0.0          │ 0.0       │ 1.0         │\n",
       "│ 7   │ evergreen_decid │ 0.0         │ 0.0          │ 0.0       │ 0.0         │\n",
       "│ 8   │ leafonoff       │ 1.0         │ 1            │ 1.0       │ 1           │\n",
       "│ 9   │ cold            │ 0.594051    │ 0            │ 1.0       │ 2           │\n",
       "│ 10  │ drought         │ 2.11176     │ 1            │ 2.0       │ 3           │\n",
       "│ 11  │ nnu             │ 0.0         │ 0.0          │ 0.0       │ 0.0         │\n",
       "│ 12  │ laimem_zero     │ 0.0         │ 0            │ 0.0       │ 0           │\n",
       "│ 13  │ nnu_gtone       │ 0.0         │ 0            │ 0.0       │ 0           │"
      ]
     },
     "execution_count": 41,
     "metadata": {},
     "output_type": "execute_result"
    }
   ],
   "source": [
    "describe(laimem_group[2])"
   ]
  },
  {
   "cell_type": "markdown",
   "metadata": {},
   "source": [
    "*From the above we can see that the non-zero laimemory values are correlated with deciduous-only cohorts and that have `treelai` and `leafmass` as effectively zero.  We also see that the `nnu_gtone` value is zero for all cohorts which means that all cohorts have leaf layers of `0` or `1`.  Does that mean that these cohorts are all new?  Regardless, this would result in no difference in the comparison of the standard and optimized laimemory code.*"
   ]
  },
  {
   "cell_type": "markdown",
   "metadata": {},
   "source": [
    "## Deciduous states of zero `laimemory`"
   ]
  },
  {
   "cell_type": "markdown",
   "metadata": {},
   "source": [
    "Now split the data into groups by the various potential decidious states."
   ]
  },
  {
   "cell_type": "markdown",
   "metadata": {},
   "source": [
    "**Stress deciduous**"
   ]
  },
  {
   "cell_type": "code",
   "execution_count": 17,
   "metadata": {},
   "outputs": [],
   "source": [
    "stress_laimem_group = groupby(laimem_group[1],:stress_decid);"
   ]
  },
  {
   "cell_type": "code",
   "execution_count": 18,
   "metadata": {},
   "outputs": [
    {
     "data": {
      "text/html": [
       "<table class=\"data-frame\"><thead><tr><th></th><th>variable</th><th>mean</th><th>min</th><th>median</th><th>max</th><th>nunique</th><th>nmissing</th></tr><tr><th></th><th>Symbol</th><th>Float64</th><th>Real</th><th>Float64</th><th>Real</th><th>Nothing</th><th>Nothing</th></tr></thead><tbody><p>12 rows × 8 columns (omitted printing of 1 columns)</p><tr><th>1</th><td>thread</td><td>36.0252</td><td>1</td><td>36.0</td><td>71</td><td></td><td></td></tr><tr><th>2</th><td>laimemory</td><td>0.0</td><td>0.0</td><td>0.0</td><td>0.0</td><td></td><td></td></tr><tr><th>3</th><td>leafmass</td><td>0.0140396</td><td>8.04348e-5</td><td>0.0049168</td><td>0.244952</td><td></td><td></td></tr><tr><th>4</th><td>treelai</td><td>3.54048</td><td>0.0279394</td><td>3.51966</td><td>15.5013</td><td></td><td></td></tr><tr><th>5</th><td>seasonal_decid</td><td>0.0</td><td>0.0</td><td>0.0</td><td>0.0</td><td></td><td></td></tr><tr><th>6</th><td>stress_decid</td><td>1.0</td><td>1.0</td><td>1.0</td><td>1.0</td><td></td><td></td></tr><tr><th>7</th><td>evergreen_decid</td><td>0.0</td><td>0.0</td><td>0.0</td><td>0.0</td><td></td><td></td></tr><tr><th>8</th><td>leafonoff</td><td>2.0</td><td>2</td><td>2.0</td><td>2</td><td></td><td></td></tr><tr><th>9</th><td>cold</td><td>1.04754</td><td>0</td><td>1.0</td><td>2</td><td></td><td></td></tr><tr><th>10</th><td>drought</td><td>2.54153</td><td>2</td><td>3.0</td><td>3</td><td></td><td></td></tr><tr><th>11</th><td>nnu</td><td>1.61441</td><td>0.0</td><td>0.0</td><td>4.0</td><td></td><td></td></tr><tr><th>12</th><td>laimem_zero</td><td>1.0</td><td>1</td><td>1.0</td><td>1</td><td></td><td></td></tr></tbody></table>"
      ],
      "text/latex": [
       "\\begin{tabular}{r|cccccccc}\n",
       "\t& variable & mean & min & median & max & nunique & nmissing & \\\\\n",
       "\t\\hline\n",
       "\t& Symbol & Float64 & Real & Float64 & Real & Nothing & Nothing & \\\\\n",
       "\t\\hline\n",
       "\t1 & thread & 36.0252 & 1 & 36.0 & 71 &  &  & $\\dots$ \\\\\n",
       "\t2 & laimemory & 0.0 & 0.0 & 0.0 & 0.0 &  &  & $\\dots$ \\\\\n",
       "\t3 & leafmass & 0.0140396 & 8.04348e-5 & 0.0049168 & 0.244952 &  &  & $\\dots$ \\\\\n",
       "\t4 & treelai & 3.54048 & 0.0279394 & 3.51966 & 15.5013 &  &  & $\\dots$ \\\\\n",
       "\t5 & seasonal\\_decid & 0.0 & 0.0 & 0.0 & 0.0 &  &  & $\\dots$ \\\\\n",
       "\t6 & stress\\_decid & 1.0 & 1.0 & 1.0 & 1.0 &  &  & $\\dots$ \\\\\n",
       "\t7 & evergreen\\_decid & 0.0 & 0.0 & 0.0 & 0.0 &  &  & $\\dots$ \\\\\n",
       "\t8 & leafonoff & 2.0 & 2 & 2.0 & 2 &  &  & $\\dots$ \\\\\n",
       "\t9 & cold & 1.04754 & 0 & 1.0 & 2 &  &  & $\\dots$ \\\\\n",
       "\t10 & drought & 2.54153 & 2 & 3.0 & 3 &  &  & $\\dots$ \\\\\n",
       "\t11 & nnu & 1.61441 & 0.0 & 0.0 & 4.0 &  &  & $\\dots$ \\\\\n",
       "\t12 & laimem\\_zero & 1.0 & 1 & 1.0 & 1 &  &  & $\\dots$ \\\\\n",
       "\\end{tabular}\n"
      ],
      "text/plain": [
       "12×8 DataFrame. Omitted printing of 3 columns\n",
       "│ Row │ variable        │ mean      │ min        │ median    │ max      │\n",
       "│     │ \u001b[90mSymbol\u001b[39m          │ \u001b[90mFloat64\u001b[39m   │ \u001b[90mReal\u001b[39m       │ \u001b[90mFloat64\u001b[39m   │ \u001b[90mReal\u001b[39m     │\n",
       "├─────┼─────────────────┼───────────┼────────────┼───────────┼──────────┤\n",
       "│ 1   │ thread          │ 36.0252   │ 1          │ 36.0      │ 71       │\n",
       "│ 2   │ laimemory       │ 0.0       │ 0.0        │ 0.0       │ 0.0      │\n",
       "│ 3   │ leafmass        │ 0.0140396 │ 8.04348e-5 │ 0.0049168 │ 0.244952 │\n",
       "│ 4   │ treelai         │ 3.54048   │ 0.0279394  │ 3.51966   │ 15.5013  │\n",
       "│ 5   │ seasonal_decid  │ 0.0       │ 0.0        │ 0.0       │ 0.0      │\n",
       "│ 6   │ stress_decid    │ 1.0       │ 1.0        │ 1.0       │ 1.0      │\n",
       "│ 7   │ evergreen_decid │ 0.0       │ 0.0        │ 0.0       │ 0.0      │\n",
       "│ 8   │ leafonoff       │ 2.0       │ 2          │ 2.0       │ 2        │\n",
       "│ 9   │ cold            │ 1.04754   │ 0          │ 1.0       │ 2        │\n",
       "│ 10  │ drought         │ 2.54153   │ 2          │ 3.0       │ 3        │\n",
       "│ 11  │ nnu             │ 1.61441   │ 0.0        │ 0.0       │ 4.0      │\n",
       "│ 12  │ laimem_zero     │ 1.0       │ 1          │ 1.0       │ 1        │"
      ]
     },
     "execution_count": 18,
     "metadata": {},
     "output_type": "execute_result"
    }
   ],
   "source": [
    "describe(stress_laimem_group[2])"
   ]
  },
  {
   "cell_type": "markdown",
   "metadata": {},
   "source": [
    "*From the above description we see that the zero laimemory condition for stress deciduous is always in drought condition 2 or 3 meaning that it is in a Drought Leaf On state.  Confirm that cold status doesn't matter here.*"
   ]
  },
  {
   "cell_type": "code",
   "execution_count": 19,
   "metadata": {},
   "outputs": [
    {
     "data": {
      "text/plain": [
       "1-element Array{Int64,1}:\n",
       " 58946"
      ]
     },
     "execution_count": 19,
     "metadata": {},
     "output_type": "execute_result"
    }
   ],
   "source": [
    "nrows_decid = [size(stress_laimem_group[2])[1]]"
   ]
  },
  {
   "cell_type": "markdown",
   "metadata": {},
   "source": [
    "**Seasonal deciduous**"
   ]
  },
  {
   "cell_type": "code",
   "execution_count": 20,
   "metadata": {},
   "outputs": [],
   "source": [
    "seasonal_laimem_group = groupby(laimem_group[1],:seasonal_decid);"
   ]
  },
  {
   "cell_type": "code",
   "execution_count": 21,
   "metadata": {},
   "outputs": [
    {
     "data": {
      "text/html": [
       "<table class=\"data-frame\"><thead><tr><th></th><th>variable</th><th>mean</th><th>min</th><th>median</th><th>max</th><th>nunique</th><th>nmissing</th></tr><tr><th></th><th>Symbol</th><th>Float64</th><th>Real</th><th>Float64</th><th>Real</th><th>Nothing</th><th>Nothing</th></tr></thead><tbody><p>12 rows × 8 columns (omitted printing of 1 columns)</p><tr><th>1</th><td>thread</td><td>34.1183</td><td>1</td><td>34.0</td><td>71</td><td></td><td></td></tr><tr><th>2</th><td>laimemory</td><td>0.0</td><td>0.0</td><td>0.0</td><td>0.0</td><td></td><td></td></tr><tr><th>3</th><td>leafmass</td><td>0.0177811</td><td>7.12737e-6</td><td>0.0112789</td><td>0.203002</td><td></td><td></td></tr><tr><th>4</th><td>treelai</td><td>3.82274</td><td>0.0508732</td><td>3.73171</td><td>15.957</td><td></td><td></td></tr><tr><th>5</th><td>seasonal_decid</td><td>1.0</td><td>1.0</td><td>1.0</td><td>1.0</td><td></td><td></td></tr><tr><th>6</th><td>stress_decid</td><td>0.0</td><td>0.0</td><td>0.0</td><td>0.0</td><td></td><td></td></tr><tr><th>7</th><td>evergreen_decid</td><td>0.0</td><td>0.0</td><td>0.0</td><td>0.0</td><td></td><td></td></tr><tr><th>8</th><td>leafonoff</td><td>2.0</td><td>2</td><td>2.0</td><td>2</td><td></td><td></td></tr><tr><th>9</th><td>cold</td><td>2.0</td><td>2</td><td>2.0</td><td>2</td><td></td><td></td></tr><tr><th>10</th><td>drought</td><td>1.87352</td><td>1</td><td>2.0</td><td>3</td><td></td><td></td></tr><tr><th>11</th><td>nnu</td><td>1.72271</td><td>0.0</td><td>0.0</td><td>4.0</td><td></td><td></td></tr><tr><th>12</th><td>laimem_zero</td><td>1.0</td><td>1</td><td>1.0</td><td>1</td><td></td><td></td></tr></tbody></table>"
      ],
      "text/latex": [
       "\\begin{tabular}{r|cccccccc}\n",
       "\t& variable & mean & min & median & max & nunique & nmissing & \\\\\n",
       "\t\\hline\n",
       "\t& Symbol & Float64 & Real & Float64 & Real & Nothing & Nothing & \\\\\n",
       "\t\\hline\n",
       "\t1 & thread & 34.1183 & 1 & 34.0 & 71 &  &  & $\\dots$ \\\\\n",
       "\t2 & laimemory & 0.0 & 0.0 & 0.0 & 0.0 &  &  & $\\dots$ \\\\\n",
       "\t3 & leafmass & 0.0177811 & 7.12737e-6 & 0.0112789 & 0.203002 &  &  & $\\dots$ \\\\\n",
       "\t4 & treelai & 3.82274 & 0.0508732 & 3.73171 & 15.957 &  &  & $\\dots$ \\\\\n",
       "\t5 & seasonal\\_decid & 1.0 & 1.0 & 1.0 & 1.0 &  &  & $\\dots$ \\\\\n",
       "\t6 & stress\\_decid & 0.0 & 0.0 & 0.0 & 0.0 &  &  & $\\dots$ \\\\\n",
       "\t7 & evergreen\\_decid & 0.0 & 0.0 & 0.0 & 0.0 &  &  & $\\dots$ \\\\\n",
       "\t8 & leafonoff & 2.0 & 2 & 2.0 & 2 &  &  & $\\dots$ \\\\\n",
       "\t9 & cold & 2.0 & 2 & 2.0 & 2 &  &  & $\\dots$ \\\\\n",
       "\t10 & drought & 1.87352 & 1 & 2.0 & 3 &  &  & $\\dots$ \\\\\n",
       "\t11 & nnu & 1.72271 & 0.0 & 0.0 & 4.0 &  &  & $\\dots$ \\\\\n",
       "\t12 & laimem\\_zero & 1.0 & 1 & 1.0 & 1 &  &  & $\\dots$ \\\\\n",
       "\\end{tabular}\n"
      ],
      "text/plain": [
       "12×8 DataFrame. Omitted printing of 3 columns\n",
       "│ Row │ variable        │ mean      │ min        │ median    │ max      │\n",
       "│     │ \u001b[90mSymbol\u001b[39m          │ \u001b[90mFloat64\u001b[39m   │ \u001b[90mReal\u001b[39m       │ \u001b[90mFloat64\u001b[39m   │ \u001b[90mReal\u001b[39m     │\n",
       "├─────┼─────────────────┼───────────┼────────────┼───────────┼──────────┤\n",
       "│ 1   │ thread          │ 34.1183   │ 1          │ 34.0      │ 71       │\n",
       "│ 2   │ laimemory       │ 0.0       │ 0.0        │ 0.0       │ 0.0      │\n",
       "│ 3   │ leafmass        │ 0.0177811 │ 7.12737e-6 │ 0.0112789 │ 0.203002 │\n",
       "│ 4   │ treelai         │ 3.82274   │ 0.0508732  │ 3.73171   │ 15.957   │\n",
       "│ 5   │ seasonal_decid  │ 1.0       │ 1.0        │ 1.0       │ 1.0      │\n",
       "│ 6   │ stress_decid    │ 0.0       │ 0.0        │ 0.0       │ 0.0      │\n",
       "│ 7   │ evergreen_decid │ 0.0       │ 0.0        │ 0.0       │ 0.0      │\n",
       "│ 8   │ leafonoff       │ 2.0       │ 2          │ 2.0       │ 2        │\n",
       "│ 9   │ cold            │ 2.0       │ 2          │ 2.0       │ 2        │\n",
       "│ 10  │ drought         │ 1.87352   │ 1          │ 2.0       │ 3        │\n",
       "│ 11  │ nnu             │ 1.72271   │ 0.0        │ 0.0       │ 4.0      │\n",
       "│ 12  │ laimem_zero     │ 1.0       │ 1          │ 1.0       │ 1        │"
      ]
     },
     "execution_count": 21,
     "metadata": {},
     "output_type": "execute_result"
    }
   ],
   "source": [
    "describe(seasonal_laimem_group[1])"
   ]
  },
  {
   "cell_type": "markdown",
   "metadata": {},
   "source": [
    "*Here we see that when the cohort pft is seasonally deciduous the cohorts are all in cold condition 2 (not cold) meaning that it is always in a Cold Leaf On state.  Confirm that drought conditions don't matter.*"
   ]
  },
  {
   "cell_type": "code",
   "execution_count": 22,
   "metadata": {},
   "outputs": [
    {
     "data": {
      "text/plain": [
       "2-element Array{Int64,1}:\n",
       " 58946\n",
       " 19355"
      ]
     },
     "execution_count": 22,
     "metadata": {},
     "output_type": "execute_result"
    }
   ],
   "source": [
    "push!(nrows_decid,size(seasonal_laimem_group[1])[1])"
   ]
  },
  {
   "cell_type": "markdown",
   "metadata": {},
   "source": [
    "Calculate the total number of deciduous cohort instances"
   ]
  },
  {
   "cell_type": "code",
   "execution_count": 23,
   "metadata": {},
   "outputs": [
    {
     "data": {
      "text/plain": [
       "78301"
      ]
     },
     "execution_count": 23,
     "metadata": {},
     "output_type": "execute_result"
    }
   ],
   "source": [
    "sum(nrows_decid)"
   ]
  },
  {
   "cell_type": "markdown",
   "metadata": {},
   "source": [
    "**Evergreen**"
   ]
  },
  {
   "cell_type": "markdown",
   "metadata": {},
   "source": [
    "Determine if all the other zero `laimemory` instances are evergreens. "
   ]
  },
  {
   "cell_type": "code",
   "execution_count": 24,
   "metadata": {},
   "outputs": [],
   "source": [
    "evergreen_laimem_group = groupby(laimem_group[1],:evergreen_decid);"
   ]
  },
  {
   "cell_type": "code",
   "execution_count": 25,
   "metadata": {},
   "outputs": [
    {
     "data": {
      "text/plain": [
       "39700"
      ]
     },
     "execution_count": 25,
     "metadata": {},
     "output_type": "execute_result"
    }
   ],
   "source": [
    "nrows_evergreen = size(evergreen_laimem_group[2])[1]"
   ]
  },
  {
   "cell_type": "code",
   "execution_count": 26,
   "metadata": {},
   "outputs": [
    {
     "data": {
      "text/html": [
       "<table class=\"data-frame\"><thead><tr><th></th><th>variable</th><th>mean</th><th>min</th><th>median</th><th>max</th><th>nunique</th><th>nmissing</th><th>eltype</th></tr><tr><th></th><th>Symbol</th><th>Float64</th><th>Real</th><th>Float64</th><th>Real</th><th>Nothing</th><th>Nothing</th><th>DataType</th></tr></thead><tbody><p>12 rows × 8 columns</p><tr><th>1</th><td>thread</td><td>34.8063</td><td>1</td><td>35.0</td><td>71</td><td></td><td></td><td>Int64</td></tr><tr><th>2</th><td>laimemory</td><td>0.0</td><td>0.0</td><td>0.0</td><td>0.0</td><td></td><td></td><td>Float64</td></tr><tr><th>3</th><td>leafmass</td><td>0.0285099</td><td>0.0025451</td><td>0.0155255</td><td>0.207046</td><td></td><td></td><td>Float64</td></tr><tr><th>4</th><td>treelai</td><td>1.68638</td><td>0.469523</td><td>1.56951</td><td>9.71851</td><td></td><td></td><td>Float64</td></tr><tr><th>5</th><td>seasonal_decid</td><td>0.0</td><td>0.0</td><td>0.0</td><td>0.0</td><td></td><td></td><td>Float64</td></tr><tr><th>6</th><td>stress_decid</td><td>0.0</td><td>0.0</td><td>0.0</td><td>0.0</td><td></td><td></td><td>Float64</td></tr><tr><th>7</th><td>evergreen_decid</td><td>1.0</td><td>1.0</td><td>1.0</td><td>1.0</td><td></td><td></td><td>Float64</td></tr><tr><th>8</th><td>leafonoff</td><td>2.0</td><td>2</td><td>2.0</td><td>2</td><td></td><td></td><td>Int64</td></tr><tr><th>9</th><td>cold</td><td>0.945063</td><td>0</td><td>1.0</td><td>2</td><td></td><td></td><td>Int64</td></tr><tr><th>10</th><td>drought</td><td>2.27856</td><td>1</td><td>2.0</td><td>3</td><td></td><td></td><td>Int64</td></tr><tr><th>11</th><td>nnu</td><td>0.106776</td><td>0.0</td><td>0.0</td><td>4.0</td><td></td><td></td><td>Float64</td></tr><tr><th>12</th><td>laimem_zero</td><td>1.0</td><td>1</td><td>1.0</td><td>1</td><td></td><td></td><td>Bool</td></tr></tbody></table>"
      ],
      "text/latex": [
       "\\begin{tabular}{r|cccccccc}\n",
       "\t& variable & mean & min & median & max & nunique & nmissing & eltype\\\\\n",
       "\t\\hline\n",
       "\t& Symbol & Float64 & Real & Float64 & Real & Nothing & Nothing & DataType\\\\\n",
       "\t\\hline\n",
       "\t1 & thread & 34.8063 & 1 & 35.0 & 71 &  &  & Int64 \\\\\n",
       "\t2 & laimemory & 0.0 & 0.0 & 0.0 & 0.0 &  &  & Float64 \\\\\n",
       "\t3 & leafmass & 0.0285099 & 0.0025451 & 0.0155255 & 0.207046 &  &  & Float64 \\\\\n",
       "\t4 & treelai & 1.68638 & 0.469523 & 1.56951 & 9.71851 &  &  & Float64 \\\\\n",
       "\t5 & seasonal\\_decid & 0.0 & 0.0 & 0.0 & 0.0 &  &  & Float64 \\\\\n",
       "\t6 & stress\\_decid & 0.0 & 0.0 & 0.0 & 0.0 &  &  & Float64 \\\\\n",
       "\t7 & evergreen\\_decid & 1.0 & 1.0 & 1.0 & 1.0 &  &  & Float64 \\\\\n",
       "\t8 & leafonoff & 2.0 & 2 & 2.0 & 2 &  &  & Int64 \\\\\n",
       "\t9 & cold & 0.945063 & 0 & 1.0 & 2 &  &  & Int64 \\\\\n",
       "\t10 & drought & 2.27856 & 1 & 2.0 & 3 &  &  & Int64 \\\\\n",
       "\t11 & nnu & 0.106776 & 0.0 & 0.0 & 4.0 &  &  & Float64 \\\\\n",
       "\t12 & laimem\\_zero & 1.0 & 1 & 1.0 & 1 &  &  & Bool \\\\\n",
       "\\end{tabular}\n"
      ],
      "text/plain": [
       "12×8 DataFrame. Omitted printing of 3 columns\n",
       "│ Row │ variable        │ mean      │ min       │ median    │ max      │\n",
       "│     │ \u001b[90mSymbol\u001b[39m          │ \u001b[90mFloat64\u001b[39m   │ \u001b[90mReal\u001b[39m      │ \u001b[90mFloat64\u001b[39m   │ \u001b[90mReal\u001b[39m     │\n",
       "├─────┼─────────────────┼───────────┼───────────┼───────────┼──────────┤\n",
       "│ 1   │ thread          │ 34.8063   │ 1         │ 35.0      │ 71       │\n",
       "│ 2   │ laimemory       │ 0.0       │ 0.0       │ 0.0       │ 0.0      │\n",
       "│ 3   │ leafmass        │ 0.0285099 │ 0.0025451 │ 0.0155255 │ 0.207046 │\n",
       "│ 4   │ treelai         │ 1.68638   │ 0.469523  │ 1.56951   │ 9.71851  │\n",
       "│ 5   │ seasonal_decid  │ 0.0       │ 0.0       │ 0.0       │ 0.0      │\n",
       "│ 6   │ stress_decid    │ 0.0       │ 0.0       │ 0.0       │ 0.0      │\n",
       "│ 7   │ evergreen_decid │ 1.0       │ 1.0       │ 1.0       │ 1.0      │\n",
       "│ 8   │ leafonoff       │ 2.0       │ 2         │ 2.0       │ 2        │\n",
       "│ 9   │ cold            │ 0.945063  │ 0         │ 1.0       │ 2        │\n",
       "│ 10  │ drought         │ 2.27856   │ 1         │ 2.0       │ 3        │\n",
       "│ 11  │ nnu             │ 0.106776  │ 0.0       │ 0.0       │ 4.0      │\n",
       "│ 12  │ laimem_zero     │ 1.0       │ 1         │ 1.0       │ 1        │"
      ]
     },
     "execution_count": 26,
     "metadata": {},
     "output_type": "execute_result"
    }
   ],
   "source": [
    "describe(evergreen_laimem_group[2])"
   ]
  },
  {
   "cell_type": "markdown",
   "metadata": {},
   "source": [
    "Check that the totals add up"
   ]
  },
  {
   "cell_type": "code",
   "execution_count": 27,
   "metadata": {},
   "outputs": [
    {
     "data": {
      "text/plain": [
       "true"
      ]
     },
     "execution_count": 27,
     "metadata": {},
     "output_type": "execute_result"
    }
   ],
   "source": [
    "sum(nrows_decid)+nrows_evergreen == nrows_laizero"
   ]
  },
  {
   "cell_type": "code",
   "execution_count": 28,
   "metadata": {},
   "outputs": [
    {
     "data": {
      "text/plain": [
       "42296"
      ]
     },
     "execution_count": 28,
     "metadata": {},
     "output_type": "execute_result"
    }
   ],
   "source": [
    "nrow(laimem_group[2])"
   ]
  },
  {
   "cell_type": "markdown",
   "metadata": {},
   "source": [
    "## Check optimized versus non optimized cohort instances"
   ]
  },
  {
   "cell_type": "markdown",
   "metadata": {},
   "source": [
    "Optimization loop requires at least 2 leaf layers (i.e. nnu needs to be greater than `1`)"
   ]
  },
  {
   "cell_type": "code",
   "execution_count": 29,
   "metadata": {},
   "outputs": [],
   "source": [
    "df.nnu_gtone = df.nnu .> 1;"
   ]
  },
  {
   "cell_type": "code",
   "execution_count": 30,
   "metadata": {},
   "outputs": [],
   "source": [
    "nnu_group = groupby(df,:nnu_gtone);"
   ]
  },
  {
   "cell_type": "code",
   "execution_count": 31,
   "metadata": {},
   "outputs": [
    {
     "data": {
      "text/html": [
       "<table class=\"data-frame\"><thead><tr><th></th><th>variable</th><th>mean</th><th>min</th><th>median</th><th>max</th><th>nunique</th><th>nmissing</th></tr><tr><th></th><th>Symbol</th><th>Float64</th><th>Real</th><th>Float64</th><th>Real</th><th>Nothing</th><th>Nothing</th></tr></thead><tbody><p>13 rows × 8 columns (omitted printing of 1 columns)</p><tr><th>1</th><td>thread</td><td>35.4175</td><td>1</td><td>35.0</td><td>71</td><td></td><td></td></tr><tr><th>2</th><td>laimemory</td><td>0.00835051</td><td>0.0</td><td>0.0</td><td>0.36424</td><td></td><td></td></tr><tr><th>3</th><td>leafmass</td><td>0.0117506</td><td>0.0</td><td>0.00400252</td><td>0.207046</td><td></td><td></td></tr><tr><th>4</th><td>treelai</td><td>1.54274</td><td>-8.66239e-16</td><td>1.5878</td><td>15.957</td><td></td><td></td></tr><tr><th>5</th><td>seasonal_decid</td><td>0.369969</td><td>0.0</td><td>0.0</td><td>1.0</td><td></td><td></td></tr><tr><th>6</th><td>stress_decid</td><td>0.326939</td><td>0.0</td><td>0.0</td><td>1.0</td><td></td><td></td></tr><tr><th>7</th><td>evergreen_decid</td><td>0.303092</td><td>0.0</td><td>0.0</td><td>1.0</td><td></td><td></td></tr><tr><th>8</th><td>leafonoff</td><td>1.66624</td><td>1</td><td>2.0</td><td>2</td><td></td><td></td></tr><tr><th>9</th><td>cold</td><td>0.960449</td><td>0</td><td>1.0</td><td>2</td><td></td><td></td></tr><tr><th>10</th><td>drought</td><td>2.24631</td><td>1</td><td>2.0</td><td>3</td><td></td><td></td></tr><tr><th>11</th><td>nnu</td><td>0.00215429</td><td>0.0</td><td>0.0</td><td>1.0</td><td></td><td></td></tr><tr><th>12</th><td>laimem_zero</td><td>0.666235</td><td>0</td><td>1.0</td><td>1</td><td></td><td></td></tr><tr><th>13</th><td>nnu_gtone</td><td>0.0</td><td>0</td><td>0.0</td><td>0</td><td></td><td></td></tr></tbody></table>"
      ],
      "text/latex": [
       "\\begin{tabular}{r|cccccccc}\n",
       "\t& variable & mean & min & median & max & nunique & nmissing & \\\\\n",
       "\t\\hline\n",
       "\t& Symbol & Float64 & Real & Float64 & Real & Nothing & Nothing & \\\\\n",
       "\t\\hline\n",
       "\t1 & thread & 35.4175 & 1 & 35.0 & 71 &  &  & $\\dots$ \\\\\n",
       "\t2 & laimemory & 0.00835051 & 0.0 & 0.0 & 0.36424 &  &  & $\\dots$ \\\\\n",
       "\t3 & leafmass & 0.0117506 & 0.0 & 0.00400252 & 0.207046 &  &  & $\\dots$ \\\\\n",
       "\t4 & treelai & 1.54274 & -8.66239e-16 & 1.5878 & 15.957 &  &  & $\\dots$ \\\\\n",
       "\t5 & seasonal\\_decid & 0.369969 & 0.0 & 0.0 & 1.0 &  &  & $\\dots$ \\\\\n",
       "\t6 & stress\\_decid & 0.326939 & 0.0 & 0.0 & 1.0 &  &  & $\\dots$ \\\\\n",
       "\t7 & evergreen\\_decid & 0.303092 & 0.0 & 0.0 & 1.0 &  &  & $\\dots$ \\\\\n",
       "\t8 & leafonoff & 1.66624 & 1 & 2.0 & 2 &  &  & $\\dots$ \\\\\n",
       "\t9 & cold & 0.960449 & 0 & 1.0 & 2 &  &  & $\\dots$ \\\\\n",
       "\t10 & drought & 2.24631 & 1 & 2.0 & 3 &  &  & $\\dots$ \\\\\n",
       "\t11 & nnu & 0.00215429 & 0.0 & 0.0 & 1.0 &  &  & $\\dots$ \\\\\n",
       "\t12 & laimem\\_zero & 0.666235 & 0 & 1.0 & 1 &  &  & $\\dots$ \\\\\n",
       "\t13 & nnu\\_gtone & 0.0 & 0 & 0.0 & 0 &  &  & $\\dots$ \\\\\n",
       "\\end{tabular}\n"
      ],
      "text/plain": [
       "13×8 DataFrame. Omitted printing of 3 columns\n",
       "│ Row │ variable        │ mean       │ min          │ median     │ max      │\n",
       "│     │ \u001b[90mSymbol\u001b[39m          │ \u001b[90mFloat64\u001b[39m    │ \u001b[90mReal\u001b[39m         │ \u001b[90mFloat64\u001b[39m    │ \u001b[90mReal\u001b[39m     │\n",
       "├─────┼─────────────────┼────────────┼──────────────┼────────────┼──────────┤\n",
       "│ 1   │ thread          │ 35.4175    │ 1            │ 35.0       │ 71       │\n",
       "│ 2   │ laimemory       │ 0.00835051 │ 0.0          │ 0.0        │ 0.36424  │\n",
       "│ 3   │ leafmass        │ 0.0117506  │ 0.0          │ 0.00400252 │ 0.207046 │\n",
       "│ 4   │ treelai         │ 1.54274    │ -8.66239e-16 │ 1.5878     │ 15.957   │\n",
       "│ 5   │ seasonal_decid  │ 0.369969   │ 0.0          │ 0.0        │ 1.0      │\n",
       "│ 6   │ stress_decid    │ 0.326939   │ 0.0          │ 0.0        │ 1.0      │\n",
       "│ 7   │ evergreen_decid │ 0.303092   │ 0.0          │ 0.0        │ 1.0      │\n",
       "│ 8   │ leafonoff       │ 1.66624    │ 1            │ 2.0        │ 2        │\n",
       "│ 9   │ cold            │ 0.960449   │ 0            │ 1.0        │ 2        │\n",
       "│ 10  │ drought         │ 2.24631    │ 1            │ 2.0        │ 3        │\n",
       "│ 11  │ nnu             │ 0.00215429 │ 0.0          │ 0.0        │ 1.0      │\n",
       "│ 12  │ laimem_zero     │ 0.666235   │ 0            │ 1.0        │ 1        │\n",
       "│ 13  │ nnu_gtone       │ 0.0        │ 0            │ 0.0        │ 0        │"
      ]
     },
     "execution_count": 31,
     "metadata": {},
     "output_type": "execute_result"
    }
   ],
   "source": [
    "describe(nnu_group[1])"
   ]
  },
  {
   "cell_type": "code",
   "execution_count": 32,
   "metadata": {},
   "outputs": [
    {
     "data": {
      "text/html": [
       "<table class=\"data-frame\"><thead><tr><th></th><th>variable</th><th>mean</th><th>min</th><th>median</th><th>max</th><th>nunique</th><th>nmissing</th></tr><tr><th></th><th>Symbol</th><th>Float64</th><th>Real</th><th>Float64</th><th>Real</th><th>Nothing</th><th>Nothing</th></tr></thead><tbody><p>13 rows × 8 columns (omitted printing of 1 columns)</p><tr><th>1</th><td>thread</td><td>33.3444</td><td>1</td><td>35.0</td><td>71</td><td></td><td></td></tr><tr><th>2</th><td>laimemory</td><td>0.0</td><td>0.0</td><td>0.0</td><td>0.0</td><td></td><td></td></tr><tr><th>3</th><td>leafmass</td><td>0.0242605</td><td>0.000108415</td><td>0.0118293</td><td>0.244952</td><td></td><td></td></tr><tr><th>4</th><td>treelai</td><td>4.591</td><td>3.56101</td><td>4.08367</td><td>15.4528</td><td></td><td></td></tr><tr><th>5</th><td>seasonal_decid</td><td>0.25032</td><td>0.0</td><td>0.0</td><td>1.0</td><td></td><td></td></tr><tr><th>6</th><td>stress_decid</td><td>0.711226</td><td>0.0</td><td>1.0</td><td>1.0</td><td></td><td></td></tr><tr><th>7</th><td>evergreen_decid</td><td>0.0384535</td><td>0.0</td><td>0.0</td><td>1.0</td><td></td><td></td></tr><tr><th>8</th><td>leafonoff</td><td>2.0</td><td>2</td><td>2.0</td><td>2</td><td></td><td></td></tr><tr><th>9</th><td>cold</td><td>1.23287</td><td>0</td><td>2.0</td><td>2</td><td></td><td></td></tr><tr><th>10</th><td>drought</td><td>2.41837</td><td>1</td><td>2.0</td><td>3</td><td></td><td></td></tr><tr><th>11</th><td>nnu</td><td>3.94579</td><td>2.0</td><td>4.0</td><td>4.0</td><td></td><td></td></tr><tr><th>12</th><td>laimem_zero</td><td>1.0</td><td>1</td><td>1.0</td><td>1</td><td></td><td></td></tr><tr><th>13</th><td>nnu_gtone</td><td>1.0</td><td>1</td><td>1.0</td><td>1</td><td></td><td></td></tr></tbody></table>"
      ],
      "text/latex": [
       "\\begin{tabular}{r|cccccccc}\n",
       "\t& variable & mean & min & median & max & nunique & nmissing & \\\\\n",
       "\t\\hline\n",
       "\t& Symbol & Float64 & Real & Float64 & Real & Nothing & Nothing & \\\\\n",
       "\t\\hline\n",
       "\t1 & thread & 33.3444 & 1 & 35.0 & 71 &  &  & $\\dots$ \\\\\n",
       "\t2 & laimemory & 0.0 & 0.0 & 0.0 & 0.0 &  &  & $\\dots$ \\\\\n",
       "\t3 & leafmass & 0.0242605 & 0.000108415 & 0.0118293 & 0.244952 &  &  & $\\dots$ \\\\\n",
       "\t4 & treelai & 4.591 & 3.56101 & 4.08367 & 15.4528 &  &  & $\\dots$ \\\\\n",
       "\t5 & seasonal\\_decid & 0.25032 & 0.0 & 0.0 & 1.0 &  &  & $\\dots$ \\\\\n",
       "\t6 & stress\\_decid & 0.711226 & 0.0 & 1.0 & 1.0 &  &  & $\\dots$ \\\\\n",
       "\t7 & evergreen\\_decid & 0.0384535 & 0.0 & 0.0 & 1.0 &  &  & $\\dots$ \\\\\n",
       "\t8 & leafonoff & 2.0 & 2 & 2.0 & 2 &  &  & $\\dots$ \\\\\n",
       "\t9 & cold & 1.23287 & 0 & 2.0 & 2 &  &  & $\\dots$ \\\\\n",
       "\t10 & drought & 2.41837 & 1 & 2.0 & 3 &  &  & $\\dots$ \\\\\n",
       "\t11 & nnu & 3.94579 & 2.0 & 4.0 & 4.0 &  &  & $\\dots$ \\\\\n",
       "\t12 & laimem\\_zero & 1.0 & 1 & 1.0 & 1 &  &  & $\\dots$ \\\\\n",
       "\t13 & nnu\\_gtone & 1.0 & 1 & 1.0 & 1 &  &  & $\\dots$ \\\\\n",
       "\\end{tabular}\n"
      ],
      "text/plain": [
       "13×8 DataFrame. Omitted printing of 3 columns\n",
       "│ Row │ variable        │ mean      │ min         │ median    │ max      │\n",
       "│     │ \u001b[90mSymbol\u001b[39m          │ \u001b[90mFloat64\u001b[39m   │ \u001b[90mReal\u001b[39m        │ \u001b[90mFloat64\u001b[39m   │ \u001b[90mReal\u001b[39m     │\n",
       "├─────┼─────────────────┼───────────┼─────────────┼───────────┼──────────┤\n",
       "│ 1   │ thread          │ 33.3444   │ 1           │ 35.0      │ 71       │\n",
       "│ 2   │ laimemory       │ 0.0       │ 0.0         │ 0.0       │ 0.0      │\n",
       "│ 3   │ leafmass        │ 0.0242605 │ 0.000108415 │ 0.0118293 │ 0.244952 │\n",
       "│ 4   │ treelai         │ 4.591     │ 3.56101     │ 4.08367   │ 15.4528  │\n",
       "│ 5   │ seasonal_decid  │ 0.25032   │ 0.0         │ 0.0       │ 1.0      │\n",
       "│ 6   │ stress_decid    │ 0.711226  │ 0.0         │ 1.0       │ 1.0      │\n",
       "│ 7   │ evergreen_decid │ 0.0384535 │ 0.0         │ 0.0       │ 1.0      │\n",
       "│ 8   │ leafonoff       │ 2.0       │ 2           │ 2.0       │ 2        │\n",
       "│ 9   │ cold            │ 1.23287   │ 0           │ 2.0       │ 2        │\n",
       "│ 10  │ drought         │ 2.41837   │ 1           │ 2.0       │ 3        │\n",
       "│ 11  │ nnu             │ 3.94579   │ 2.0         │ 4.0       │ 4.0      │\n",
       "│ 12  │ laimem_zero     │ 1.0       │ 1           │ 1.0       │ 1        │\n",
       "│ 13  │ nnu_gtone       │ 1.0       │ 1           │ 1.0       │ 1        │"
      ]
     },
     "execution_count": 32,
     "metadata": {},
     "output_type": "execute_result"
    }
   ],
   "source": [
    "describe(nnu_group[2])"
   ]
  },
  {
   "cell_type": "markdown",
   "metadata": {},
   "source": [
    "From the above we see that NNU group `2` is the group that actually makes it into the optimization loop (i.e. has enough leaf layers with `nnu_clai_a > 1`)."
   ]
  },
  {
   "cell_type": "code",
   "execution_count": 33,
   "metadata": {},
   "outputs": [
    {
     "data": {
      "text/plain": [
       "126724"
      ]
     },
     "execution_count": 33,
     "metadata": {},
     "output_type": "execute_result"
    }
   ],
   "source": [
    "nrows_nonopt = nrow(nnu_group[1])"
   ]
  },
  {
   "cell_type": "code",
   "execution_count": 34,
   "metadata": {},
   "outputs": [
    {
     "data": {
      "text/plain": [
       "33573"
      ]
     },
     "execution_count": 34,
     "metadata": {},
     "output_type": "execute_result"
    }
   ],
   "source": [
    "nrows_opt = nrow(nnu_group[2])"
   ]
  },
  {
   "cell_type": "markdown",
   "metadata": {},
   "source": [
    "From the above we see that a lot of cohort instances are still going through the old method"
   ]
  },
  {
   "cell_type": "markdown",
   "metadata": {},
   "source": [
    "Now lets split the group along the those cases that only have `laimemory` of `0` to see if any cohorts with non-zero laimemory are making it into the optimization loop."
   ]
  },
  {
   "cell_type": "code",
   "execution_count": 35,
   "metadata": {},
   "outputs": [
    {
     "data": {
      "text/html": [
       "<p><b>GroupedDataFrame with 1 group based on key: laimem_zero</b></p><p><i>First Group (33573 rows): laimem_zero = true</i></p><table class=\"data-frame\"><thead><tr><th></th><th>thread</th><th>laimemory</th><th>leafmass</th><th>treelai</th><th>seasonal_decid</th><th>stress_decid</th><th>evergreen_decid</th></tr><tr><th></th><th>Int64</th><th>Float64</th><th>Float64</th><th>Float64</th><th>Float64</th><th>Float64</th><th>Float64</th></tr></thead><tbody><tr><th>1</th><td>1</td><td>0.0</td><td>0.157928</td><td>9.45837</td><td>1.0</td><td>0.0</td><td>0.0</td></tr><tr><th>2</th><td>1</td><td>0.0</td><td>0.120101</td><td>8.33951</td><td>0.0</td><td>1.0</td><td>0.0</td></tr><tr><th>3</th><td>1</td><td>0.0</td><td>0.101504</td><td>5.77198</td><td>1.0</td><td>0.0</td><td>0.0</td></tr><tr><th>4</th><td>1</td><td>0.0</td><td>0.0887333</td><td>5.08658</td><td>1.0</td><td>0.0</td><td>0.0</td></tr><tr><th>5</th><td>1</td><td>0.0</td><td>0.0887333</td><td>5.08658</td><td>0.0</td><td>1.0</td><td>0.0</td></tr><tr><th>6</th><td>1</td><td>0.0</td><td>0.0384989</td><td>6.43149</td><td>1.0</td><td>0.0</td><td>0.0</td></tr><tr><th>7</th><td>1</td><td>0.0</td><td>0.034717</td><td>5.83557</td><td>0.0</td><td>1.0</td><td>0.0</td></tr><tr><th>8</th><td>1</td><td>0.0</td><td>0.0331458</td><td>4.23131</td><td>1.0</td><td>0.0</td><td>0.0</td></tr><tr><th>9</th><td>1</td><td>0.0</td><td>0.0258199</td><td>4.08344</td><td>1.0</td><td>0.0</td><td>0.0</td></tr><tr><th>10</th><td>1</td><td>0.0</td><td>0.0258199</td><td>4.08344</td><td>0.0</td><td>1.0</td><td>0.0</td></tr><tr><th>11</th><td>1</td><td>0.0</td><td>0.0205457</td><td>5.80259</td><td>0.0</td><td>1.0</td><td>0.0</td></tr><tr><th>12</th><td>1</td><td>0.0</td><td>0.0147176</td><td>6.43341</td><td>1.0</td><td>0.0</td><td>0.0</td></tr><tr><th>13</th><td>1</td><td>0.0</td><td>0.0144875</td><td>5.83683</td><td>0.0</td><td>1.0</td><td>0.0</td></tr><tr><th>14</th><td>1</td><td>0.0</td><td>0.0144127</td><td>4.23281</td><td>1.0</td><td>0.0</td><td>0.0</td></tr><tr><th>15</th><td>1</td><td>0.0</td><td>0.0124738</td><td>4.08341</td><td>1.0</td><td>0.0</td><td>0.0</td></tr><tr><th>16</th><td>1</td><td>0.0</td><td>0.0124738</td><td>4.08341</td><td>0.0</td><td>1.0</td><td>0.0</td></tr><tr><th>17</th><td>1</td><td>0.0</td><td>0.014314</td><td>4.97202</td><td>0.0</td><td>1.0</td><td>0.0</td></tr><tr><th>18</th><td>1</td><td>0.0</td><td>0.014314</td><td>4.97202</td><td>1.0</td><td>0.0</td><td>0.0</td></tr><tr><th>19</th><td>1</td><td>0.0</td><td>0.0136264</td><td>4.73318</td><td>0.0</td><td>1.0</td><td>0.0</td></tr><tr><th>20</th><td>1</td><td>0.0</td><td>0.0135576</td><td>4.70929</td><td>0.0</td><td>1.0</td><td>0.0</td></tr><tr><th>21</th><td>1</td><td>0.0</td><td>0.0135328</td><td>4.70068</td><td>0.0</td><td>1.0</td><td>0.0</td></tr><tr><th>22</th><td>1</td><td>0.0</td><td>0.0117568</td><td>4.08379</td><td>1.0</td><td>0.0</td><td>0.0</td></tr><tr><th>23</th><td>1</td><td>0.0</td><td>0.0117568</td><td>4.08379</td><td>0.0</td><td>1.0</td><td>0.0</td></tr><tr><th>24</th><td>1</td><td>0.0</td><td>0.0117568</td><td>4.08379</td><td>1.0</td><td>0.0</td><td>0.0</td></tr><tr><th>25</th><td>1</td><td>0.0</td><td>0.0117568</td><td>4.08379</td><td>0.0</td><td>1.0</td><td>0.0</td></tr><tr><th>26</th><td>1</td><td>0.0</td><td>0.0133819</td><td>4.64825</td><td>0.0</td><td>1.0</td><td>0.0</td></tr><tr><th>27</th><td>1</td><td>0.0</td><td>0.0145816</td><td>5.06498</td><td>1.0</td><td>0.0</td><td>0.0</td></tr><tr><th>28</th><td>1</td><td>0.0</td><td>0.0145816</td><td>5.06498</td><td>0.0</td><td>1.0</td><td>0.0</td></tr><tr><th>29</th><td>1</td><td>0.0</td><td>0.0134192</td><td>4.6612</td><td>0.0</td><td>1.0</td><td>0.0</td></tr><tr><th>30</th><td>1</td><td>0.0</td><td>0.0134192</td><td>4.6612</td><td>0.0</td><td>1.0</td><td>0.0</td></tr><tr><th>&vellip;</th><td>&vellip;</td><td>&vellip;</td><td>&vellip;</td><td>&vellip;</td><td>&vellip;</td><td>&vellip;</td><td>&vellip;</td></tr></tbody></table>"
      ],
      "text/latex": [
       "GroupedDataFrame with 1 group based on key: laimem\\_zero\n",
       "\n",
       "First Group (33573 rows): laimem\\_zero = true\n",
       "\n",
       "\\begin{tabular}{r|cccccccc}\n",
       "\t& thread & laimemory & leafmass & treelai & seasonal\\_decid & stress\\_decid & evergreen\\_decid & \\\\\n",
       "\t\\hline\n",
       "\t& Int64 & Float64 & Float64 & Float64 & Float64 & Float64 & Float64 & \\\\\n",
       "\t\\hline\n",
       "\t1 & 1 & 0.0 & 0.157928 & 9.45837 & 1.0 & 0.0 & 0.0 & $\\dots$ \\\\\n",
       "\t2 & 1 & 0.0 & 0.120101 & 8.33951 & 0.0 & 1.0 & 0.0 & $\\dots$ \\\\\n",
       "\t3 & 1 & 0.0 & 0.101504 & 5.77198 & 1.0 & 0.0 & 0.0 & $\\dots$ \\\\\n",
       "\t4 & 1 & 0.0 & 0.0887333 & 5.08658 & 1.0 & 0.0 & 0.0 & $\\dots$ \\\\\n",
       "\t5 & 1 & 0.0 & 0.0887333 & 5.08658 & 0.0 & 1.0 & 0.0 & $\\dots$ \\\\\n",
       "\t6 & 1 & 0.0 & 0.0384989 & 6.43149 & 1.0 & 0.0 & 0.0 & $\\dots$ \\\\\n",
       "\t7 & 1 & 0.0 & 0.034717 & 5.83557 & 0.0 & 1.0 & 0.0 & $\\dots$ \\\\\n",
       "\t8 & 1 & 0.0 & 0.0331458 & 4.23131 & 1.0 & 0.0 & 0.0 & $\\dots$ \\\\\n",
       "\t9 & 1 & 0.0 & 0.0258199 & 4.08344 & 1.0 & 0.0 & 0.0 & $\\dots$ \\\\\n",
       "\t10 & 1 & 0.0 & 0.0258199 & 4.08344 & 0.0 & 1.0 & 0.0 & $\\dots$ \\\\\n",
       "\t11 & 1 & 0.0 & 0.0205457 & 5.80259 & 0.0 & 1.0 & 0.0 & $\\dots$ \\\\\n",
       "\t12 & 1 & 0.0 & 0.0147176 & 6.43341 & 1.0 & 0.0 & 0.0 & $\\dots$ \\\\\n",
       "\t13 & 1 & 0.0 & 0.0144875 & 5.83683 & 0.0 & 1.0 & 0.0 & $\\dots$ \\\\\n",
       "\t14 & 1 & 0.0 & 0.0144127 & 4.23281 & 1.0 & 0.0 & 0.0 & $\\dots$ \\\\\n",
       "\t15 & 1 & 0.0 & 0.0124738 & 4.08341 & 1.0 & 0.0 & 0.0 & $\\dots$ \\\\\n",
       "\t16 & 1 & 0.0 & 0.0124738 & 4.08341 & 0.0 & 1.0 & 0.0 & $\\dots$ \\\\\n",
       "\t17 & 1 & 0.0 & 0.014314 & 4.97202 & 0.0 & 1.0 & 0.0 & $\\dots$ \\\\\n",
       "\t18 & 1 & 0.0 & 0.014314 & 4.97202 & 1.0 & 0.0 & 0.0 & $\\dots$ \\\\\n",
       "\t19 & 1 & 0.0 & 0.0136264 & 4.73318 & 0.0 & 1.0 & 0.0 & $\\dots$ \\\\\n",
       "\t20 & 1 & 0.0 & 0.0135576 & 4.70929 & 0.0 & 1.0 & 0.0 & $\\dots$ \\\\\n",
       "\t21 & 1 & 0.0 & 0.0135328 & 4.70068 & 0.0 & 1.0 & 0.0 & $\\dots$ \\\\\n",
       "\t22 & 1 & 0.0 & 0.0117568 & 4.08379 & 1.0 & 0.0 & 0.0 & $\\dots$ \\\\\n",
       "\t23 & 1 & 0.0 & 0.0117568 & 4.08379 & 0.0 & 1.0 & 0.0 & $\\dots$ \\\\\n",
       "\t24 & 1 & 0.0 & 0.0117568 & 4.08379 & 1.0 & 0.0 & 0.0 & $\\dots$ \\\\\n",
       "\t25 & 1 & 0.0 & 0.0117568 & 4.08379 & 0.0 & 1.0 & 0.0 & $\\dots$ \\\\\n",
       "\t26 & 1 & 0.0 & 0.0133819 & 4.64825 & 0.0 & 1.0 & 0.0 & $\\dots$ \\\\\n",
       "\t27 & 1 & 0.0 & 0.0145816 & 5.06498 & 1.0 & 0.0 & 0.0 & $\\dots$ \\\\\n",
       "\t28 & 1 & 0.0 & 0.0145816 & 5.06498 & 0.0 & 1.0 & 0.0 & $\\dots$ \\\\\n",
       "\t29 & 1 & 0.0 & 0.0134192 & 4.6612 & 0.0 & 1.0 & 0.0 & $\\dots$ \\\\\n",
       "\t30 & 1 & 0.0 & 0.0134192 & 4.6612 & 0.0 & 1.0 & 0.0 & $\\dots$ \\\\\n",
       "\t$\\dots$ & $\\dots$ & $\\dots$ & $\\dots$ & $\\dots$ & $\\dots$ & $\\dots$ & $\\dots$ &  \\\\\n",
       "\\end{tabular}\n"
      ],
      "text/plain": [
       "GroupedDataFrame with 1 group based on key: laimem_zero\n",
       "First Group (33573 rows): laimem_zero = true. Omitted printing of 8 columns\n",
       "│ Row   │ thread │ laimemory │ leafmass    │ treelai │ seasonal_decid │\n",
       "│       │ \u001b[90mInt64\u001b[39m  │ \u001b[90mFloat64\u001b[39m   │ \u001b[90mFloat64\u001b[39m     │ \u001b[90mFloat64\u001b[39m │ \u001b[90mFloat64\u001b[39m        │\n",
       "├───────┼────────┼───────────┼─────────────┼─────────┼────────────────┤\n",
       "│ 1     │ 1      │ 0.0       │ 0.157928    │ 9.45837 │ 1.0            │\n",
       "│ 2     │ 1      │ 0.0       │ 0.120101    │ 8.33951 │ 0.0            │\n",
       "│ 3     │ 1      │ 0.0       │ 0.101504    │ 5.77198 │ 1.0            │\n",
       "│ 4     │ 1      │ 0.0       │ 0.0887333   │ 5.08658 │ 1.0            │\n",
       "│ 5     │ 1      │ 0.0       │ 0.0887333   │ 5.08658 │ 0.0            │\n",
       "│ 6     │ 1      │ 0.0       │ 0.0384989   │ 6.43149 │ 1.0            │\n",
       "│ 7     │ 1      │ 0.0       │ 0.034717    │ 5.83557 │ 0.0            │\n",
       "│ 8     │ 1      │ 0.0       │ 0.0331458   │ 4.23131 │ 1.0            │\n",
       "│ 9     │ 1      │ 0.0       │ 0.0258199   │ 4.08344 │ 1.0            │\n",
       "│ 10    │ 1      │ 0.0       │ 0.0258199   │ 4.08344 │ 0.0            │\n",
       "⋮\n",
       "│ 33563 │ 71     │ 0.0       │ 0.00621575  │ 4.08365 │ 0.0            │\n",
       "│ 33564 │ 71     │ 0.0       │ 0.00511563  │ 4.08365 │ 0.0            │\n",
       "│ 33565 │ 71     │ 0.0       │ 0.00458956  │ 4.08365 │ 0.0            │\n",
       "│ 33566 │ 71     │ 0.0       │ 0.000231354 │ 4.08351 │ 0.0            │\n",
       "│ 33567 │ 71     │ 0.0       │ 0.000212029 │ 4.08357 │ 0.0            │\n",
       "│ 33568 │ 71     │ 0.0       │ 0.000188136 │ 4.08351 │ 0.0            │\n",
       "│ 33569 │ 71     │ 0.0       │ 0.000174964 │ 4.08357 │ 0.0            │\n",
       "│ 33570 │ 71     │ 0.0       │ 0.000153402 │ 4.08351 │ 0.0            │\n",
       "│ 33571 │ 71     │ 0.0       │ 0.000144692 │ 4.08357 │ 0.0            │\n",
       "│ 33572 │ 71     │ 0.0       │ 0.000129104 │ 4.08351 │ 0.0            │\n",
       "│ 33573 │ 71     │ 0.0       │ 0.000125806 │ 4.08357 │ 0.0            │"
      ]
     },
     "execution_count": 35,
     "metadata": {},
     "output_type": "execute_result"
    }
   ],
   "source": [
    "nnu_laimemzero_group = groupby(nnu_group[2],:laimem_zero)"
   ]
  },
  {
   "cell_type": "code",
   "execution_count": 36,
   "metadata": {},
   "outputs": [
    {
     "data": {
      "text/html": [
       "<table class=\"data-frame\"><thead><tr><th></th><th>variable</th><th>mean</th><th>min</th><th>median</th><th>max</th><th>nunique</th><th>nmissing</th></tr><tr><th></th><th>Symbol</th><th>Float64</th><th>Real</th><th>Float64</th><th>Real</th><th>Nothing</th><th>Nothing</th></tr></thead><tbody><p>13 rows × 8 columns (omitted printing of 1 columns)</p><tr><th>1</th><td>thread</td><td>33.3444</td><td>1</td><td>35.0</td><td>71</td><td></td><td></td></tr><tr><th>2</th><td>laimemory</td><td>0.0</td><td>0.0</td><td>0.0</td><td>0.0</td><td></td><td></td></tr><tr><th>3</th><td>leafmass</td><td>0.0242605</td><td>0.000108415</td><td>0.0118293</td><td>0.244952</td><td></td><td></td></tr><tr><th>4</th><td>treelai</td><td>4.591</td><td>3.56101</td><td>4.08367</td><td>15.4528</td><td></td><td></td></tr><tr><th>5</th><td>seasonal_decid</td><td>0.25032</td><td>0.0</td><td>0.0</td><td>1.0</td><td></td><td></td></tr><tr><th>6</th><td>stress_decid</td><td>0.711226</td><td>0.0</td><td>1.0</td><td>1.0</td><td></td><td></td></tr><tr><th>7</th><td>evergreen_decid</td><td>0.0384535</td><td>0.0</td><td>0.0</td><td>1.0</td><td></td><td></td></tr><tr><th>8</th><td>leafonoff</td><td>2.0</td><td>2</td><td>2.0</td><td>2</td><td></td><td></td></tr><tr><th>9</th><td>cold</td><td>1.23287</td><td>0</td><td>2.0</td><td>2</td><td></td><td></td></tr><tr><th>10</th><td>drought</td><td>2.41837</td><td>1</td><td>2.0</td><td>3</td><td></td><td></td></tr><tr><th>11</th><td>nnu</td><td>3.94579</td><td>2.0</td><td>4.0</td><td>4.0</td><td></td><td></td></tr><tr><th>12</th><td>laimem_zero</td><td>1.0</td><td>1</td><td>1.0</td><td>1</td><td></td><td></td></tr><tr><th>13</th><td>nnu_gtone</td><td>1.0</td><td>1</td><td>1.0</td><td>1</td><td></td><td></td></tr></tbody></table>"
      ],
      "text/latex": [
       "\\begin{tabular}{r|cccccccc}\n",
       "\t& variable & mean & min & median & max & nunique & nmissing & \\\\\n",
       "\t\\hline\n",
       "\t& Symbol & Float64 & Real & Float64 & Real & Nothing & Nothing & \\\\\n",
       "\t\\hline\n",
       "\t1 & thread & 33.3444 & 1 & 35.0 & 71 &  &  & $\\dots$ \\\\\n",
       "\t2 & laimemory & 0.0 & 0.0 & 0.0 & 0.0 &  &  & $\\dots$ \\\\\n",
       "\t3 & leafmass & 0.0242605 & 0.000108415 & 0.0118293 & 0.244952 &  &  & $\\dots$ \\\\\n",
       "\t4 & treelai & 4.591 & 3.56101 & 4.08367 & 15.4528 &  &  & $\\dots$ \\\\\n",
       "\t5 & seasonal\\_decid & 0.25032 & 0.0 & 0.0 & 1.0 &  &  & $\\dots$ \\\\\n",
       "\t6 & stress\\_decid & 0.711226 & 0.0 & 1.0 & 1.0 &  &  & $\\dots$ \\\\\n",
       "\t7 & evergreen\\_decid & 0.0384535 & 0.0 & 0.0 & 1.0 &  &  & $\\dots$ \\\\\n",
       "\t8 & leafonoff & 2.0 & 2 & 2.0 & 2 &  &  & $\\dots$ \\\\\n",
       "\t9 & cold & 1.23287 & 0 & 2.0 & 2 &  &  & $\\dots$ \\\\\n",
       "\t10 & drought & 2.41837 & 1 & 2.0 & 3 &  &  & $\\dots$ \\\\\n",
       "\t11 & nnu & 3.94579 & 2.0 & 4.0 & 4.0 &  &  & $\\dots$ \\\\\n",
       "\t12 & laimem\\_zero & 1.0 & 1 & 1.0 & 1 &  &  & $\\dots$ \\\\\n",
       "\t13 & nnu\\_gtone & 1.0 & 1 & 1.0 & 1 &  &  & $\\dots$ \\\\\n",
       "\\end{tabular}\n"
      ],
      "text/plain": [
       "13×8 DataFrame. Omitted printing of 3 columns\n",
       "│ Row │ variable        │ mean      │ min         │ median    │ max      │\n",
       "│     │ \u001b[90mSymbol\u001b[39m          │ \u001b[90mFloat64\u001b[39m   │ \u001b[90mReal\u001b[39m        │ \u001b[90mFloat64\u001b[39m   │ \u001b[90mReal\u001b[39m     │\n",
       "├─────┼─────────────────┼───────────┼─────────────┼───────────┼──────────┤\n",
       "│ 1   │ thread          │ 33.3444   │ 1           │ 35.0      │ 71       │\n",
       "│ 2   │ laimemory       │ 0.0       │ 0.0         │ 0.0       │ 0.0      │\n",
       "│ 3   │ leafmass        │ 0.0242605 │ 0.000108415 │ 0.0118293 │ 0.244952 │\n",
       "│ 4   │ treelai         │ 4.591     │ 3.56101     │ 4.08367   │ 15.4528  │\n",
       "│ 5   │ seasonal_decid  │ 0.25032   │ 0.0         │ 0.0       │ 1.0      │\n",
       "│ 6   │ stress_decid    │ 0.711226  │ 0.0         │ 1.0       │ 1.0      │\n",
       "│ 7   │ evergreen_decid │ 0.0384535 │ 0.0         │ 0.0       │ 1.0      │\n",
       "│ 8   │ leafonoff       │ 2.0       │ 2           │ 2.0       │ 2        │\n",
       "│ 9   │ cold            │ 1.23287   │ 0           │ 2.0       │ 2        │\n",
       "│ 10  │ drought         │ 2.41837   │ 1           │ 2.0       │ 3        │\n",
       "│ 11  │ nnu             │ 3.94579   │ 2.0         │ 4.0       │ 4.0      │\n",
       "│ 12  │ laimem_zero     │ 1.0       │ 1           │ 1.0       │ 1        │\n",
       "│ 13  │ nnu_gtone       │ 1.0       │ 1           │ 1.0       │ 1        │"
      ]
     },
     "execution_count": 36,
     "metadata": {},
     "output_type": "execute_result"
    }
   ],
   "source": [
    "describe(nnu_laimemzero_group[1])"
   ]
  },
  {
   "cell_type": "markdown",
   "metadata": {},
   "source": [
    "*From the above we see that there is only **one** grouping showing that all cohorts that have enough leaf layers to be optimized have `laimemory = 0`.*"
   ]
  }
 ],
 "metadata": {
  "kernelspec": {
   "display_name": "Julia 1.4.0",
   "language": "julia",
   "name": "julia-1.4"
  },
  "language_info": {
   "file_extension": ".jl",
   "mimetype": "application/julia",
   "name": "julia",
   "version": "1.4.0"
  }
 },
 "nbformat": 4,
 "nbformat_minor": 4
}

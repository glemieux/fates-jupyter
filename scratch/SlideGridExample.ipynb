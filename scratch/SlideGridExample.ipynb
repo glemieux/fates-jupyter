{
 "cells": [
  {
   "cell_type": "code",
   "execution_count": 2,
   "id": "57425e58-ee5f-4a36-9e54-86244a5df949",
   "metadata": {},
   "outputs": [],
   "source": [
    "using WGLMakie"
   ]
  },
  {
   "cell_type": "code",
   "execution_count": 3,
   "id": "0551bd20-b4b8-446c-8a12-ab53c72ef864",
   "metadata": {},
   "outputs": [
    {
     "data": {
      "text/html": [
       "<div data-jscall-id=\"2\"><script data-jscall-id=\"3\" type=\"text/javascript\">\n",
       "    function register_resize_handler(remote_origin) {\n",
       "        function resize_callback(event) {\n",
       "            if (event.origin !== remote_origin) {\n",
       "                return;\n",
       "            }\n",
       "            const uuid = event.data[0];\n",
       "            const width = event.data[1];\n",
       "            const height = event.data[2];\n",
       "            const iframe = document.getElementById('6587d74a-42ea-413a-9b3e-a99cb1420d8b');\n",
       "            if (iframe) {\n",
       "                iframe.style.width = width + \"px\";\n",
       "                iframe.style.height = height + \"px\";\n",
       "            }\n",
       "        }\n",
       "        if (window.addEventListener) {\n",
       "            window.addEventListener(\"message\", resize_callback, false);\n",
       "        } else if (window.attachEvent) {\n",
       "            window.attachEvent(\"onmessage\", resize_callback);\n",
       "        }\n",
       "    }\n",
       "    register_resize_handler('http://127.0.0.1:9284')\n",
       "\n",
       "</script><iframe scrolling=\"no\" id=\"6587d74a-42ea-413a-9b3e-a99cb1420d8b\" data-jscall-id=\"1\" src=\"http://127.0.0.1:9284/6587d74a-42ea-413a-9b3e-a99cb1420d8b\" style=\"position: relative; display: block; width: 100%; height: 100%; padding: 0; overflow: hidden; border: none\"></iframe></div>\n"
      ]
     },
     "execution_count": 3,
     "metadata": {},
     "output_type": "execute_result"
    }
   ],
   "source": [
    "fig = Figure()\n",
    "\n",
    "ax = Axis(fig[1, 1])\n",
    "\n",
    "sg = SliderGrid(\n",
    "    fig[1, 2],\n",
    "    (label = \"Voltage\", range = 0:0.1:10, format = \"{:.1f}V\", startvalue = 5.3),\n",
    "    (label = \"Current\", range = 0:0.1:20, format = \"{:.1f}A\", startvalue = 10.2),\n",
    "    (label = \"Resistance\", range = 0:0.1:30, format = \"{:.1f}Ω\", startvalue = 15.9),\n",
    "    width = 350,\n",
    "    tellheight = false)\n",
    "\n",
    "sliderobservables = [s.value for s in sg.sliders]\n",
    "bars = lift(sliderobservables...) do slvalues...\n",
    "    [slvalues...]\n",
    "end\n",
    "\n",
    "barplot!(ax, bars, color = [:yellow, :orange, :red])\n",
    "ylims!(ax, 0, 30)\n",
    "\n",
    "fig"
   ]
  },
  {
   "cell_type": "code",
   "execution_count": null,
   "id": "ff0936b9-b07d-4811-b9f9-cd5455a3eb4d",
   "metadata": {},
   "outputs": [],
   "source": []
  }
 ],
 "metadata": {
  "kernelspec": {
   "display_name": "Julia 1.8.3",
   "language": "julia",
   "name": "julia-1.8"
  },
  "language_info": {
   "file_extension": ".jl",
   "mimetype": "application/julia",
   "name": "julia",
   "version": "1.8.3"
  }
 },
 "nbformat": 4,
 "nbformat_minor": 5
}

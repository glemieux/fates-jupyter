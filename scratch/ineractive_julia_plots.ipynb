{
 "cells": [
  {
   "cell_type": "markdown",
   "id": "3f6fa013-f43c-4b27-a082-ccfe2d2a59d3",
   "metadata": {},
   "source": [
    "# Makie tutorial\n",
    "https://docs.makie.org/v0.19.0/tutorials/basic-tutorial/"
   ]
  },
  {
   "cell_type": "markdown",
   "id": "fde509d5-442d-4eeb-a60e-b05ebd1f18ac",
   "metadata": {},
   "source": [
    "## Basic tutorial"
   ]
  },
  {
   "cell_type": "code",
   "execution_count": 1,
   "id": "0e5674dc-c643-42cc-94f3-d12164d12b8b",
   "metadata": {},
   "outputs": [],
   "source": [
    "using Revise"
   ]
  },
  {
   "cell_type": "code",
   "execution_count": 2,
   "id": "a56e091c-c5d7-48f6-a292-fae4698a6eef",
   "metadata": {},
   "outputs": [],
   "source": [
    "using WGLMakie"
   ]
  },
  {
   "cell_type": "code",
   "execution_count": 3,
   "id": "6e8ee7cd-f5fe-440d-be64-ef09dc7db9a5",
   "metadata": {},
   "outputs": [
    {
     "name": "stdout",
     "output_type": "stream",
     "text": [
      "\u001b[32m\u001b[1mStatus\u001b[22m\u001b[39m `~/.julia/environments/v1.8/Project.toml`\n",
      " \u001b[90m [336ed68f] \u001b[39mCSV v0.10.8\n",
      " \u001b[90m [13f3f980] \u001b[39mCairoMakie v0.10.0\n",
      " \u001b[90m [5789e2e9] \u001b[39mFileIO v1.16.0\n",
      " \u001b[90m [db073c08] \u001b[39mGeoMakie v0.5.0\n",
      " \u001b[90m [7073ff75] \u001b[39mIJulia v1.23.3\n",
      " \u001b[90m [295af30f] \u001b[39mRevise v3.4.0\n",
      " \u001b[90m [276b4fcb] \u001b[39mWGLMakie v0.8.0\n"
     ]
    }
   ],
   "source": [
    "import Pkg; Pkg.status()"
   ]
  },
  {
   "cell_type": "code",
   "execution_count": 4,
   "id": "5d63f060-0034-4642-8fa9-d778513abf40",
   "metadata": {},
   "outputs": [
    {
     "data": {
      "text/html": [
       "<div data-jscall-id=\"2\"><script data-jscall-id=\"3\" type=\"text/javascript\">\n",
       "    function register_resize_handler(remote_origin) {\n",
       "        function resize_callback(event) {\n",
       "            if (event.origin !== remote_origin) {\n",
       "                return;\n",
       "            }\n",
       "            const uuid = event.data[0];\n",
       "            const width = event.data[1];\n",
       "            const height = event.data[2];\n",
       "            const iframe = document.getElementById('5cfeb327-17e2-4864-a9f1-a70855851819');\n",
       "            if (iframe) {\n",
       "                iframe.style.width = width + \"px\";\n",
       "                iframe.style.height = height + \"px\";\n",
       "            }\n",
       "        }\n",
       "        if (window.addEventListener) {\n",
       "            window.addEventListener(\"message\", resize_callback, false);\n",
       "        } else if (window.attachEvent) {\n",
       "            window.attachEvent(\"onmessage\", resize_callback);\n",
       "        }\n",
       "    }\n",
       "    register_resize_handler('http://127.0.0.1:9284')\n",
       "\n",
       "</script><iframe scrolling=\"no\" id=\"5cfeb327-17e2-4864-a9f1-a70855851819\" data-jscall-id=\"1\" src=\"http://127.0.0.1:9284/5cfeb327-17e2-4864-a9f1-a70855851819\" style=\"position: relative; display: block; width: 100%; height: 100%; padding: 0; overflow: hidden; border: none\"></iframe></div>\n"
      ]
     },
     "execution_count": 4,
     "metadata": {},
     "output_type": "execute_result"
    }
   ],
   "source": [
    "f = Figure(backgroundcolor = :tomato, resolution = (800,300))"
   ]
  },
  {
   "cell_type": "code",
   "execution_count": 5,
   "id": "a190146d-75fc-45ef-b1f7-700ecc34d267",
   "metadata": {},
   "outputs": [
    {
     "data": {
      "text/html": [
       "<div data-jscall-id=\"19\"><script data-jscall-id=\"20\" type=\"text/javascript\">\n",
       "    function register_resize_handler(remote_origin) {\n",
       "        function resize_callback(event) {\n",
       "            if (event.origin !== remote_origin) {\n",
       "                return;\n",
       "            }\n",
       "            const uuid = event.data[0];\n",
       "            const width = event.data[1];\n",
       "            const height = event.data[2];\n",
       "            const iframe = document.getElementById('07454422-6784-432e-9ff1-441a9216b784');\n",
       "            if (iframe) {\n",
       "                iframe.style.width = width + \"px\";\n",
       "                iframe.style.height = height + \"px\";\n",
       "            }\n",
       "        }\n",
       "        if (window.addEventListener) {\n",
       "            window.addEventListener(\"message\", resize_callback, false);\n",
       "        } else if (window.attachEvent) {\n",
       "            window.attachEvent(\"onmessage\", resize_callback);\n",
       "        }\n",
       "    }\n",
       "    register_resize_handler('http://127.0.0.1:9284')\n",
       "\n",
       "</script><iframe scrolling=\"no\" id=\"07454422-6784-432e-9ff1-441a9216b784\" data-jscall-id=\"18\" src=\"http://127.0.0.1:9284/07454422-6784-432e-9ff1-441a9216b784\" style=\"position: relative; display: block; width: 100%; height: 100%; padding: 0; overflow: hidden; border: none\"></iframe></div>\n"
      ]
     },
     "execution_count": 5,
     "metadata": {},
     "output_type": "execute_result"
    }
   ],
   "source": [
    "f = Figure(resolution = (800,300))\n",
    "ax = Axis(f[1,1],\n",
    "    title = \"A Makie Axis\",\n",
    "    xlabel = \"x axis\",\n",
    "    ylabel = \"y axis\")\n",
    "f"
   ]
  },
  {
   "cell_type": "code",
   "execution_count": 6,
   "id": "3c9aa419-0cc5-4980-96c6-ed9c90370750",
   "metadata": {},
   "outputs": [
    {
     "data": {
      "text/html": [
       "<div data-jscall-id=\"36\"><script data-jscall-id=\"37\" type=\"text/javascript\">\n",
       "    function register_resize_handler(remote_origin) {\n",
       "        function resize_callback(event) {\n",
       "            if (event.origin !== remote_origin) {\n",
       "                return;\n",
       "            }\n",
       "            const uuid = event.data[0];\n",
       "            const width = event.data[1];\n",
       "            const height = event.data[2];\n",
       "            const iframe = document.getElementById('9f5897f1-ddaa-4f6d-975b-75b9c51c0c5c');\n",
       "            if (iframe) {\n",
       "                iframe.style.width = width + \"px\";\n",
       "                iframe.style.height = height + \"px\";\n",
       "            }\n",
       "        }\n",
       "        if (window.addEventListener) {\n",
       "            window.addEventListener(\"message\", resize_callback, false);\n",
       "        } else if (window.attachEvent) {\n",
       "            window.attachEvent(\"onmessage\", resize_callback);\n",
       "        }\n",
       "    }\n",
       "    register_resize_handler('http://127.0.0.1:9284')\n",
       "\n",
       "</script><iframe scrolling=\"no\" id=\"9f5897f1-ddaa-4f6d-975b-75b9c51c0c5c\" data-jscall-id=\"35\" src=\"http://127.0.0.1:9284/9f5897f1-ddaa-4f6d-975b-75b9c51c0c5c\" style=\"position: relative; display: block; width: 100%; height: 100%; padding: 0; overflow: hidden; border: none\"></iframe></div>\n"
      ]
     },
     "execution_count": 6,
     "metadata": {},
     "output_type": "execute_result"
    }
   ],
   "source": [
    "f = Figure(resolution = (800,300))\n",
    "ax = Axis(f[1,1])\n",
    "x = range(0,10,length=100)\n",
    "y = sin.(x)\n",
    "# lines!(ax,x,y)\n",
    "scatter!(ax,x,y)\n",
    "f"
   ]
  },
  {
   "cell_type": "code",
   "execution_count": 7,
   "id": "74627550-5be5-43e7-9251-fa1bfa028f73",
   "metadata": {},
   "outputs": [
    {
     "data": {
      "text/html": [
       "<div data-jscall-id=\"53\"><script data-jscall-id=\"54\" type=\"text/javascript\">\n",
       "    function register_resize_handler(remote_origin) {\n",
       "        function resize_callback(event) {\n",
       "            if (event.origin !== remote_origin) {\n",
       "                return;\n",
       "            }\n",
       "            const uuid = event.data[0];\n",
       "            const width = event.data[1];\n",
       "            const height = event.data[2];\n",
       "            const iframe = document.getElementById('bb6d42f9-c6e8-45be-b0ce-001fb8dd1d80');\n",
       "            if (iframe) {\n",
       "                iframe.style.width = width + \"px\";\n",
       "                iframe.style.height = height + \"px\";\n",
       "            }\n",
       "        }\n",
       "        if (window.addEventListener) {\n",
       "            window.addEventListener(\"message\", resize_callback, false);\n",
       "        } else if (window.attachEvent) {\n",
       "            window.attachEvent(\"onmessage\", resize_callback);\n",
       "        }\n",
       "    }\n",
       "    register_resize_handler('http://127.0.0.1:9284')\n",
       "\n",
       "</script><iframe scrolling=\"no\" id=\"bb6d42f9-c6e8-45be-b0ce-001fb8dd1d80\" data-jscall-id=\"52\" src=\"http://127.0.0.1:9284/bb6d42f9-c6e8-45be-b0ce-001fb8dd1d80\" style=\"position: relative; display: block; width: 100%; height: 100%; padding: 0; overflow: hidden; border: none\"></iframe></div>\n"
      ]
     },
     "execution_count": 7,
     "metadata": {},
     "output_type": "execute_result"
    }
   ],
   "source": [
    "f,ax,lp = scatter(x,y; \n",
    "    figure = (; resolution  = (600,300)), axis = (; title = \"scatter plot\", xlabel = \"x axis\"))"
   ]
  },
  {
   "cell_type": "code",
   "execution_count": 8,
   "id": "ad6e5cf3-0750-4392-a959-3ff9277b5e17",
   "metadata": {},
   "outputs": [
    {
     "data": {
      "text/html": [
       "<div data-jscall-id=\"70\"><script data-jscall-id=\"71\" type=\"text/javascript\">\n",
       "    function register_resize_handler(remote_origin) {\n",
       "        function resize_callback(event) {\n",
       "            if (event.origin !== remote_origin) {\n",
       "                return;\n",
       "            }\n",
       "            const uuid = event.data[0];\n",
       "            const width = event.data[1];\n",
       "            const height = event.data[2];\n",
       "            const iframe = document.getElementById('50d23b4a-da8b-4390-b3a2-2ed45da6205a');\n",
       "            if (iframe) {\n",
       "                iframe.style.width = width + \"px\";\n",
       "                iframe.style.height = height + \"px\";\n",
       "            }\n",
       "        }\n",
       "        if (window.addEventListener) {\n",
       "            window.addEventListener(\"message\", resize_callback, false);\n",
       "        } else if (window.attachEvent) {\n",
       "            window.attachEvent(\"onmessage\", resize_callback);\n",
       "        }\n",
       "    }\n",
       "    register_resize_handler('http://127.0.0.1:9284')\n",
       "\n",
       "</script><iframe scrolling=\"no\" id=\"50d23b4a-da8b-4390-b3a2-2ed45da6205a\" data-jscall-id=\"69\" src=\"http://127.0.0.1:9284/50d23b4a-da8b-4390-b3a2-2ed45da6205a\" style=\"position: relative; display: block; width: 100%; height: 100%; padding: 0; overflow: hidden; border: none\"></iframe></div>\n"
      ]
     },
     "execution_count": 8,
     "metadata": {},
     "output_type": "execute_result"
    }
   ],
   "source": [
    "lines(0:1:10,sin)"
   ]
  },
  {
   "cell_type": "code",
   "execution_count": 9,
   "id": "1d962c84-cfa7-4134-83a0-274181c6e837",
   "metadata": {},
   "outputs": [
    {
     "data": {
      "text/html": [
       "<div data-jscall-id=\"87\"><script data-jscall-id=\"88\" type=\"text/javascript\">\n",
       "    function register_resize_handler(remote_origin) {\n",
       "        function resize_callback(event) {\n",
       "            if (event.origin !== remote_origin) {\n",
       "                return;\n",
       "            }\n",
       "            const uuid = event.data[0];\n",
       "            const width = event.data[1];\n",
       "            const height = event.data[2];\n",
       "            const iframe = document.getElementById('b90a1a7e-292a-4f5f-bc71-42c4ecceada5');\n",
       "            if (iframe) {\n",
       "                iframe.style.width = width + \"px\";\n",
       "                iframe.style.height = height + \"px\";\n",
       "            }\n",
       "        }\n",
       "        if (window.addEventListener) {\n",
       "            window.addEventListener(\"message\", resize_callback, false);\n",
       "        } else if (window.attachEvent) {\n",
       "            window.attachEvent(\"onmessage\", resize_callback);\n",
       "        }\n",
       "    }\n",
       "    register_resize_handler('http://127.0.0.1:9284')\n",
       "\n",
       "</script><iframe scrolling=\"no\" id=\"b90a1a7e-292a-4f5f-bc71-42c4ecceada5\" data-jscall-id=\"86\" src=\"http://127.0.0.1:9284/b90a1a7e-292a-4f5f-bc71-42c4ecceada5\" style=\"position: relative; display: block; width: 100%; height: 100%; padding: 0; overflow: hidden; border: none\"></iframe></div>\n"
      ]
     },
     "execution_count": 9,
     "metadata": {},
     "output_type": "execute_result"
    }
   ],
   "source": [
    "f, ax, l1 = lines(x, sin)\n",
    "l2 = lines!(ax, x, cos)\n",
    "f"
   ]
  },
  {
   "cell_type": "code",
   "execution_count": 10,
   "id": "ab4bfce9-cebc-46e4-aeb4-a9da894f40a9",
   "metadata": {},
   "outputs": [
    {
     "data": {
      "text/html": [
       "<div data-jscall-id=\"104\"><script data-jscall-id=\"105\" type=\"text/javascript\">\n",
       "    function register_resize_handler(remote_origin) {\n",
       "        function resize_callback(event) {\n",
       "            if (event.origin !== remote_origin) {\n",
       "                return;\n",
       "            }\n",
       "            const uuid = event.data[0];\n",
       "            const width = event.data[1];\n",
       "            const height = event.data[2];\n",
       "            const iframe = document.getElementById('574d7a02-dced-4c38-b4d9-6e96bfd4cfe8');\n",
       "            if (iframe) {\n",
       "                iframe.style.width = width + \"px\";\n",
       "                iframe.style.height = height + \"px\";\n",
       "            }\n",
       "        }\n",
       "        if (window.addEventListener) {\n",
       "            window.addEventListener(\"message\", resize_callback, false);\n",
       "        } else if (window.attachEvent) {\n",
       "            window.attachEvent(\"onmessage\", resize_callback);\n",
       "        }\n",
       "    }\n",
       "    register_resize_handler('http://127.0.0.1:9284')\n",
       "\n",
       "</script><iframe scrolling=\"no\" id=\"574d7a02-dced-4c38-b4d9-6e96bfd4cfe8\" data-jscall-id=\"103\" src=\"http://127.0.0.1:9284/574d7a02-dced-4c38-b4d9-6e96bfd4cfe8\" style=\"position: relative; display: block; width: 100%; height: 100%; padding: 0; overflow: hidden; border: none\"></iframe></div>\n"
      ]
     },
     "execution_count": 10,
     "metadata": {},
     "output_type": "execute_result"
    }
   ],
   "source": [
    "f, ax, l1 = lines(x, sin)\n",
    "l3 = lines!(x, cos, color = :purple)\n",
    "f"
   ]
  },
  {
   "cell_type": "code",
   "execution_count": 11,
   "id": "f3661ee4-2248-4272-9f8d-edc11fde9e38",
   "metadata": {},
   "outputs": [
    {
     "data": {
      "text/html": [
       "<div data-jscall-id=\"121\"><script data-jscall-id=\"122\" type=\"text/javascript\">\n",
       "    function register_resize_handler(remote_origin) {\n",
       "        function resize_callback(event) {\n",
       "            if (event.origin !== remote_origin) {\n",
       "                return;\n",
       "            }\n",
       "            const uuid = event.data[0];\n",
       "            const width = event.data[1];\n",
       "            const height = event.data[2];\n",
       "            const iframe = document.getElementById('d36fdf7b-203f-4bb3-a77c-066242edf95f');\n",
       "            if (iframe) {\n",
       "                iframe.style.width = width + \"px\";\n",
       "                iframe.style.height = height + \"px\";\n",
       "            }\n",
       "        }\n",
       "        if (window.addEventListener) {\n",
       "            window.addEventListener(\"message\", resize_callback, false);\n",
       "        } else if (window.attachEvent) {\n",
       "            window.attachEvent(\"onmessage\", resize_callback);\n",
       "        }\n",
       "    }\n",
       "    register_resize_handler('http://127.0.0.1:9284')\n",
       "\n",
       "</script><iframe scrolling=\"no\" id=\"d36fdf7b-203f-4bb3-a77c-066242edf95f\" data-jscall-id=\"120\" src=\"http://127.0.0.1:9284/d36fdf7b-203f-4bb3-a77c-066242edf95f\" style=\"position: relative; display: block; width: 100%; height: 100%; padding: 0; overflow: hidden; border: none\"></iframe></div>\n"
      ]
     },
     "execution_count": 11,
     "metadata": {},
     "output_type": "execute_result"
    }
   ],
   "source": [
    "fs,axs,sp1 = scatter(x, sin,\n",
    "    markersize = range(5, 25, length=100),\n",
    "    color = range(0, 1, length=100),\n",
    "    colormap = :thermal; \n",
    "    figure = (; resolution = (600,300)),\n",
    ")\n",
    "sp2 = scatter!(axs, x, cos,\n",
    "    markersize = range(25, 5, length=100),\n",
    "    color = range(0, 1, length=100),\n",
    "    colormap = :thermal,\n",
    "    colorrange = (0.25,0.75),\n",
    ")\n",
    "fs"
   ]
  },
  {
   "cell_type": "code",
   "execution_count": 12,
   "id": "6ef041e0-1531-463c-86a4-b7e645e00a96",
   "metadata": {},
   "outputs": [
    {
     "data": {
      "text/html": [
       "<div data-jscall-id=\"124\"><script data-jscall-id=\"125\" type=\"text/javascript\">\n",
       "    function register_resize_handler(remote_origin) {\n",
       "        function resize_callback(event) {\n",
       "            if (event.origin !== remote_origin) {\n",
       "                return;\n",
       "            }\n",
       "            const uuid = event.data[0];\n",
       "            const width = event.data[1];\n",
       "            const height = event.data[2];\n",
       "            const iframe = document.getElementById('cf3a650f-cfd8-4795-a8f0-024b5ed2ebf3');\n",
       "            if (iframe) {\n",
       "                iframe.style.width = width + \"px\";\n",
       "                iframe.style.height = height + \"px\";\n",
       "            }\n",
       "        }\n",
       "        if (window.addEventListener) {\n",
       "            window.addEventListener(\"message\", resize_callback, false);\n",
       "        } else if (window.attachEvent) {\n",
       "            window.attachEvent(\"onmessage\", resize_callback);\n",
       "        }\n",
       "    }\n",
       "    register_resize_handler('http://127.0.0.1:9284')\n",
       "\n",
       "</script><iframe scrolling=\"no\" id=\"cf3a650f-cfd8-4795-a8f0-024b5ed2ebf3\" data-jscall-id=\"123\" src=\"http://127.0.0.1:9284/cf3a650f-cfd8-4795-a8f0-024b5ed2ebf3\" style=\"position: relative; display: block; width: 100%; height: 100%; padding: 0; overflow: hidden; border: none\"></iframe></div>\n"
      ]
     },
     "execution_count": 12,
     "metadata": {},
     "output_type": "execute_result"
    }
   ],
   "source": [
    "x = LinRange(0,10,100)\n",
    "y = sin.(x)\n",
    "fig = Figure()\n",
    "lines(fig[1,1], x,y, color = :red)\n",
    "lines(fig[1,2],x,y, color = :blue)\n",
    "lines(fig[2,1:2],x,y, color = :purple)\n",
    "fig"
   ]
  },
  {
   "cell_type": "code",
   "execution_count": 13,
   "id": "d8749426-3989-48f3-b248-44db1b423fb8",
   "metadata": {},
   "outputs": [
    {
     "data": {
      "text/html": [
       "<div data-jscall-id=\"155\"><script data-jscall-id=\"156\" type=\"text/javascript\">\n",
       "    function register_resize_handler(remote_origin) {\n",
       "        function resize_callback(event) {\n",
       "            if (event.origin !== remote_origin) {\n",
       "                return;\n",
       "            }\n",
       "            const uuid = event.data[0];\n",
       "            const width = event.data[1];\n",
       "            const height = event.data[2];\n",
       "            const iframe = document.getElementById('482b17d6-3cd7-417d-a559-fafbe2a28ffa');\n",
       "            if (iframe) {\n",
       "                iframe.style.width = width + \"px\";\n",
       "                iframe.style.height = height + \"px\";\n",
       "            }\n",
       "        }\n",
       "        if (window.addEventListener) {\n",
       "            window.addEventListener(\"message\", resize_callback, false);\n",
       "        } else if (window.attachEvent) {\n",
       "            window.attachEvent(\"onmessage\", resize_callback);\n",
       "        }\n",
       "    }\n",
       "    register_resize_handler('http://127.0.0.1:9284')\n",
       "\n",
       "</script><iframe scrolling=\"no\" id=\"482b17d6-3cd7-417d-a559-fafbe2a28ffa\" data-jscall-id=\"154\" src=\"http://127.0.0.1:9284/482b17d6-3cd7-417d-a559-fafbe2a28ffa\" style=\"position: relative; display: block; width: 100%; height: 100%; padding: 0; overflow: hidden; border: none\"></iframe></div>\n"
      ]
     },
     "execution_count": 13,
     "metadata": {},
     "output_type": "execute_result"
    }
   ],
   "source": [
    "fig = Figure(resolution=(600,300))\n",
    "ax1, l1 = lines(fig[1, 1], 0..10, sin, color = :red)\n",
    "ax2, l2 = lines(fig[2, 1], 0..10, cos, color = :blue)\n",
    "Legend(fig[1:2, 2], [l1, l2], [\"sin\", \"cos\"])\n",
    "fig"
   ]
  },
  {
   "cell_type": "code",
   "execution_count": 61,
   "id": "051d3175-2ec3-4b03-aba2-609407d3e605",
   "metadata": {},
   "outputs": [
    {
     "data": {
      "text/html": [
       "<div data-jscall-id=\"2777081\"><script data-jscall-id=\"2777082\" type=\"text/javascript\">\n",
       "    function register_resize_handler(remote_origin) {\n",
       "        function resize_callback(event) {\n",
       "            if (event.origin !== remote_origin) {\n",
       "                return;\n",
       "            }\n",
       "            const uuid = event.data[0];\n",
       "            const width = event.data[1];\n",
       "            const height = event.data[2];\n",
       "            const iframe = document.getElementById('c4b2f81e-2f85-42fe-a32d-d0177b2a6a1a');\n",
       "            if (iframe) {\n",
       "                iframe.style.width = width + \"px\";\n",
       "                iframe.style.height = height + \"px\";\n",
       "            }\n",
       "        }\n",
       "        if (window.addEventListener) {\n",
       "            window.addEventListener(\"message\", resize_callback, false);\n",
       "        } else if (window.attachEvent) {\n",
       "            window.attachEvent(\"onmessage\", resize_callback);\n",
       "        }\n",
       "    }\n",
       "    register_resize_handler('http://127.0.0.1:9284')\n",
       "\n",
       "</script><iframe scrolling=\"no\" id=\"c4b2f81e-2f85-42fe-a32d-d0177b2a6a1a\" data-jscall-id=\"2777080\" src=\"http://127.0.0.1:9284/c4b2f81e-2f85-42fe-a32d-d0177b2a6a1a\" style=\"position: relative; display: block; width: 100%; height: 100%; padding: 0; overflow: hidden; border: none\"></iframe></div>\n"
      ]
     },
     "execution_count": 61,
     "metadata": {},
     "output_type": "execute_result"
    }
   ],
   "source": [
    "fig, ax, hm = heatmap(randn(20, 20); figure = (;resolution = (400,300)))\n",
    "Colorbar(fig[1, 2], hm)\n",
    "fig"
   ]
  },
  {
   "cell_type": "markdown",
   "id": "07e8fee1-11b1-426d-9a6c-3e5b2478a86f",
   "metadata": {},
   "source": [
    "## Layout tutorial"
   ]
  },
  {
   "cell_type": "code",
   "execution_count": 16,
   "id": "6957f6af-fc7e-4b51-aa40-f95dcc6e4ca1",
   "metadata": {},
   "outputs": [],
   "source": [
    "using FileIO"
   ]
  },
  {
   "cell_type": "code",
   "execution_count": 55,
   "id": "0c69af11-8177-4140-bed6-37f0a00e04e6",
   "metadata": {},
   "outputs": [
    {
     "data": {
      "text/plain": [
       "GridLayout[1:1, 1:1] with 0 children\n"
      ]
     },
     "execution_count": 55,
     "metadata": {},
     "output_type": "execute_result"
    }
   ],
   "source": [
    "f = Figure(backgroundcolor = RGBf(0.98, 0.98, 0.98),\n",
    "    resolution = (1000, 700))\n",
    "ga = f[1,1] = GridLayout()\n",
    "gb = f[2,1] = GridLayout()\n",
    "gcd = f[1:2,2] = GridLayout()\n",
    "gc = gcd[1,1] = GridLayout()\n",
    "gd = gcd[2,1] = GridLayout()"
   ]
  },
  {
   "cell_type": "code",
   "execution_count": 56,
   "id": "e78ba0a5-8e7a-4f5e-be44-dad528627d1f",
   "metadata": {},
   "outputs": [
    {
     "data": {
      "text/html": [
       "<div data-jscall-id=\"495\"><script data-jscall-id=\"496\" type=\"text/javascript\">\n",
       "    function register_resize_handler(remote_origin) {\n",
       "        function resize_callback(event) {\n",
       "            if (event.origin !== remote_origin) {\n",
       "                return;\n",
       "            }\n",
       "            const uuid = event.data[0];\n",
       "            const width = event.data[1];\n",
       "            const height = event.data[2];\n",
       "            const iframe = document.getElementById('93eb3765-93d1-4711-a15c-c6039a1015ad');\n",
       "            if (iframe) {\n",
       "                iframe.style.width = width + \"px\";\n",
       "                iframe.style.height = height + \"px\";\n",
       "            }\n",
       "        }\n",
       "        if (window.addEventListener) {\n",
       "            window.addEventListener(\"message\", resize_callback, false);\n",
       "        } else if (window.attachEvent) {\n",
       "            window.attachEvent(\"onmessage\", resize_callback);\n",
       "        }\n",
       "    }\n",
       "    register_resize_handler('http://127.0.0.1:9284')\n",
       "\n",
       "</script><iframe scrolling=\"no\" id=\"93eb3765-93d1-4711-a15c-c6039a1015ad\" data-jscall-id=\"494\" src=\"http://127.0.0.1:9284/93eb3765-93d1-4711-a15c-c6039a1015ad\" style=\"position: relative; display: block; width: 100%; height: 100%; padding: 0; overflow: hidden; border: none\"></iframe></div>\n"
      ]
     },
     "execution_count": 56,
     "metadata": {},
     "output_type": "execute_result"
    }
   ],
   "source": [
    "axtop = Axis(ga[1, 1])\n",
    "axmain = Axis(ga[2, 1], xlabel = \"before\", ylabel = \"after\")\n",
    "axright = Axis(ga[2, 2])\n",
    "\n",
    "linkyaxes!(axmain, axright)\n",
    "linkxaxes!(axmain, axtop)\n",
    "\n",
    "labels = [\"treatment\", \"placebo\", \"control\"]\n",
    "data = randn(3, 100, 2) .+ [1, 3, 5]\n",
    "\n",
    "for (label, col) in zip(labels, eachslice(data, dims = 1))\n",
    "    scatter!(axmain, col, label = label)\n",
    "    density!(axtop, col[:, 1])\n",
    "    density!(axright, col[:, 2], direction = :y)\n",
    "end\n",
    "\n",
    "# axmain.xticks = 0:3:9\n",
    "# axtop.xticks = 0:3:9\n",
    "\n",
    "leg = Legend(ga[1, 2], axmain)\n",
    "leg.tellheight = true\n",
    "hidexdecorations!(axtop, grid = false)\n",
    "hideydecorations!(axright, grid = false)\n",
    "\n",
    "colgap!(ga, 10)\n",
    "rowgap!(ga, 10)\n",
    "\n",
    "Label(ga[1, 1:2, Top()], \"Stimulus ratings\", valign = :bottom,\n",
    "    font = :bold,\n",
    "    padding = (0, 0, 5, 0))\n",
    "\n",
    "f"
   ]
  },
  {
   "cell_type": "markdown",
   "id": "508d5865-67e4-45a5-aeba-734dbdb8691a",
   "metadata": {},
   "source": [
    "## Data inspector example"
   ]
  },
  {
   "cell_type": "code",
   "execution_count": 62,
   "id": "b6789db5-7dd7-4e6b-b8da-eea20c95da19",
   "metadata": {},
   "outputs": [
    {
     "data": {
      "text/html": [
       "<div data-jscall-id=\"2777098\"><script data-jscall-id=\"2777099\" type=\"text/javascript\">\n",
       "    function register_resize_handler(remote_origin) {\n",
       "        function resize_callback(event) {\n",
       "            if (event.origin !== remote_origin) {\n",
       "                return;\n",
       "            }\n",
       "            const uuid = event.data[0];\n",
       "            const width = event.data[1];\n",
       "            const height = event.data[2];\n",
       "            const iframe = document.getElementById('6199ed2f-7572-4d65-a3d2-018239d2ac17');\n",
       "            if (iframe) {\n",
       "                iframe.style.width = width + \"px\";\n",
       "                iframe.style.height = height + \"px\";\n",
       "            }\n",
       "        }\n",
       "        if (window.addEventListener) {\n",
       "            window.addEventListener(\"message\", resize_callback, false);\n",
       "        } else if (window.attachEvent) {\n",
       "            window.attachEvent(\"onmessage\", resize_callback);\n",
       "        }\n",
       "    }\n",
       "    register_resize_handler('http://127.0.0.1:9284')\n",
       "\n",
       "</script><iframe scrolling=\"no\" id=\"6199ed2f-7572-4d65-a3d2-018239d2ac17\" data-jscall-id=\"2777097\" src=\"http://127.0.0.1:9284/6199ed2f-7572-4d65-a3d2-018239d2ac17\" style=\"position: relative; display: block; width: 100%; height: 100%; padding: 0; overflow: hidden; border: none\"></iframe></div>\n"
      ]
     },
     "execution_count": 62,
     "metadata": {},
     "output_type": "execute_result"
    }
   ],
   "source": [
    "fig = Figure()\n",
    "x = DataInspector(fig)\n",
    "heatmap(fig[1, 1], rand(20, 20))\n",
    "image(fig[1, 2], rand(20, 20))\n",
    "hist(fig[2, 1], rand(100))\n",
    "a = Axis(fig[2, 2])\n",
    "scatter!(a, rand(10))\n",
    "lines!(a, rand(10))\n",
    "fig"
   ]
  },
  {
   "cell_type": "code",
   "execution_count": null,
   "id": "2374d6b4-91c4-4145-8914-63cf8e8675b5",
   "metadata": {},
   "outputs": [],
   "source": []
  }
 ],
 "metadata": {
  "kernelspec": {
   "display_name": "Julia 1.8.3",
   "language": "julia",
   "name": "julia-1.8"
  },
  "language_info": {
   "file_extension": ".jl",
   "mimetype": "application/julia",
   "name": "julia",
   "version": "1.8.3"
  }
 },
 "nbformat": 4,
 "nbformat_minor": 5
}

{
 "cells": [
  {
   "cell_type": "markdown",
   "id": "c08e1081-5260-4775-be4a-64759ee3afc8",
   "metadata": {},
   "source": [
    "# Very simple refactor comparison for the seed distribution"
   ]
  },
  {
   "cell_type": "code",
   "execution_count": 1,
   "id": "82657da2-3311-4aed-906e-31752e513fed",
   "metadata": {},
   "outputs": [],
   "source": [
    "from cg import *"
   ]
  },
  {
   "cell_type": "code",
   "execution_count": 2,
   "id": "22d63496-0f3c-4b95-8d03-522f4e143a4b",
   "metadata": {},
   "outputs": [],
   "source": [
    "refactor_pre = '/home/glemieux/scratch/e3sm-cases/cross_grid_glemieux-koug.fates.lobata.E9f562b53ab-F8b0ed78c/run/lnd/'\n",
    "refactor_post = '/home/glemieux/scratch/e3sm-cases/cross_grid_seed-refac_koug.fates.lobata.Edd70a2833e-Ffda77af5/run/lnd/'"
   ]
  },
  {
   "cell_type": "code",
   "execution_count": 3,
   "id": "633d1e0d-cd28-40c1-9a99-a440841950be",
   "metadata": {},
   "outputs": [],
   "source": [
    "numsites = 2\n",
    "numsc = 13\n",
    "numpft = 12\n",
    "pftlist = [6,8,9]\n",
    "# pftlist = [1,2,3]\n",
    "pftname = ['Evergreen Shrub','Deciduous Shrub','Arctic C3 Grass']\n",
    "pftcolor=['g','gold','b']"
   ]
  },
  {
   "cell_type": "code",
   "execution_count": 4,
   "id": "e958b1b3-f3fb-485a-bbd7-ce7f9e44aabd",
   "metadata": {},
   "outputs": [],
   "source": [
    "flist_pre = glob(refactor_pre+'*.nc')\n",
    "flist_pre.sort()\n",
    "flist_post = glob(refactor_post+'*.nc')\n",
    "flist_post.sort()"
   ]
  },
  {
   "cell_type": "code",
   "execution_count": 6,
   "id": "3bb97774-c8a4-4d99-a399-854174ec6fd3",
   "metadata": {},
   "outputs": [],
   "source": [
    "FATES_VEGC_PF_pre = get_siteTS_pft(flist_pre,'FATES_VEGC_PF',pftlist,numsites)\n",
    "SEEDS_IN_LOCAL_pre = get_siteTS_all(flist_pre,'FATES_SEEDS_IN_LOCAL_EL',numsites)\n",
    "SEEDS_IN_EXTERN_pre = get_siteTS_all(flist_pre,'FATES_SEEDS_IN_EXTERN_EL',numsites)\n",
    "NPP_SEED_pre = get_siteTS_pft_scpf(flist_pre,'FATES_SEED_ALLOC_SZPF',pftlist,numsites,numsc)"
   ]
  },
  {
   "cell_type": "code",
   "execution_count": 7,
   "id": "db1be938-c2ed-4c63-8fc6-3c7cc14fc7a1",
   "metadata": {},
   "outputs": [],
   "source": [
    "FATES_VEGC_PF_post = get_siteTS_pft(flist_post,'FATES_VEGC_PF',pftlist,numsites)\n",
    "SEEDS_IN_LOCAL_post = get_siteTS_all(flist_post,'FATES_SEEDS_IN_LOCAL_EL',numsites)\n",
    "SEEDS_IN_EXTERN_post = get_siteTS_all(flist_post,'FATES_SEEDS_IN_EXTERN_EL',numsites)\n",
    "NPP_SEED_post = get_siteTS_pft_scpf(flist_post,'FATES_SEED_ALLOC_SZPF',pftlist,numsites,numsc)"
   ]
  },
  {
   "cell_type": "code",
   "execution_count": 8,
   "id": "23d83820-4464-480d-9c22-e2b022b5b507",
   "metadata": {},
   "outputs": [
    {
     "data": {
      "text/plain": [
       "[array([0., 0., 0., 0., 0., 0., 0., 0., 0., 0., 0., 0.]),\n",
       " array([0., 0., 0., 0., 0., 0., 0., 0., 0., 0., 0., 0.])]"
      ]
     },
     "execution_count": 8,
     "metadata": {},
     "output_type": "execute_result"
    }
   ],
   "source": [
    "SEEDS_IN_EXTERN_post"
   ]
  },
  {
   "cell_type": "code",
   "execution_count": 9,
   "id": "6018becc-b8e9-44f7-bb86-83182ceb519a",
   "metadata": {},
   "outputs": [
    {
     "data": {
      "text/plain": [
       "[array([0., 0., 0., 0., 0., 0., 0., 0., 0., 0., 0., 0.]),\n",
       " array([0., 0., 0., 0., 0., 0., 0., 0., 0., 0., 0., 0.])]"
      ]
     },
     "execution_count": 9,
     "metadata": {},
     "output_type": "execute_result"
    }
   ],
   "source": [
    "SEEDS_IN_EXTERN_pre"
   ]
  },
  {
   "cell_type": "code",
   "execution_count": 18,
   "id": "a4c957c3-8d5d-4c6c-8aee-7bf877aa8d27",
   "metadata": {},
   "outputs": [
    {
     "data": {
      "text/plain": [
       "array([[0.0000000e+00, 0.0000000e+00, 0.0000000e+00],\n",
       "       [0.0000000e+00, 0.0000000e+00, 0.0000000e+00],\n",
       "       [0.0000000e+00, 0.0000000e+00, 0.0000000e+00],\n",
       "       [0.0000000e+00, 0.0000000e+00, 0.0000000e+00],\n",
       "       [0.0000000e+00, 0.0000000e+00, 0.0000000e+00],\n",
       "       [0.0000000e+00, 0.0000000e+00, 0.0000000e+00],\n",
       "       [0.0000000e+00, 0.0000000e+00, 0.0000000e+00],\n",
       "       [0.0000000e+00, 0.0000000e+00, 0.0000000e+00],\n",
       "       [0.0000000e+00, 0.0000000e+00, 0.0000000e+00],\n",
       "       [0.0000000e+00, 0.0000000e+00, 0.0000000e+00],\n",
       "       [6.8862786e-22, 0.0000000e+00, 0.0000000e+00],\n",
       "       [0.0000000e+00, 0.0000000e+00, 0.0000000e+00]])"
      ]
     },
     "execution_count": 18,
     "metadata": {},
     "output_type": "execute_result"
    }
   ],
   "source": [
    "NPP_SEED_pre[0] - NPP_SEED_post[0]"
   ]
  },
  {
   "cell_type": "code",
   "execution_count": 13,
   "id": "738be9e2-6608-4267-b363-5dd914ffe8c6",
   "metadata": {},
   "outputs": [
    {
     "data": {
      "text/plain": [
       "[array([[0.00000000e+00, 0.00000000e+00, 0.00000000e+00],\n",
       "        [0.00000000e+00, 0.00000000e+00, 0.00000000e+00],\n",
       "        [0.00000000e+00, 0.00000000e+00, 0.00000000e+00],\n",
       "        [0.00000000e+00, 0.00000000e+00, 0.00000000e+00],\n",
       "        [1.49505896e-12, 0.00000000e+00, 0.00000000e+00],\n",
       "        [4.77780523e-11, 1.60423376e-11, 1.10026159e-12],\n",
       "        [5.48994322e-11, 1.02479657e-10, 4.78882255e-12],\n",
       "        [5.69782138e-11, 1.27365479e-10, 7.76062201e-12],\n",
       "        [4.58503305e-11, 2.23608337e-11, 1.60872411e-12],\n",
       "        [1.06815832e-11, 0.00000000e+00, 0.00000000e+00],\n",
       "        [6.87446687e-18, 0.00000000e+00, 0.00000000e+00],\n",
       "        [0.00000000e+00, 0.00000000e+00, 0.00000000e+00]]),\n",
       " array([[0.00000000e+00, 0.00000000e+00, 0.00000000e+00],\n",
       "        [0.00000000e+00, 0.00000000e+00, 0.00000000e+00],\n",
       "        [0.00000000e+00, 0.00000000e+00, 0.00000000e+00],\n",
       "        [0.00000000e+00, 0.00000000e+00, 0.00000000e+00],\n",
       "        [0.00000000e+00, 0.00000000e+00, 0.00000000e+00],\n",
       "        [5.74724400e-11, 2.40888334e-11, 1.42301752e-12],\n",
       "        [7.77463025e-11, 1.37375861e-10, 6.99226874e-12],\n",
       "        [7.94427787e-11, 1.75058593e-10, 1.24929216e-11],\n",
       "        [5.21647205e-11, 5.46655256e-11, 4.71058696e-12],\n",
       "        [1.08530702e-11, 0.00000000e+00, 0.00000000e+00],\n",
       "        [0.00000000e+00, 0.00000000e+00, 0.00000000e+00],\n",
       "        [0.00000000e+00, 0.00000000e+00, 0.00000000e+00]])]"
      ]
     },
     "execution_count": 13,
     "metadata": {},
     "output_type": "execute_result"
    }
   ],
   "source": [
    "NPP_SEED_post"
   ]
  },
  {
   "cell_type": "code",
   "execution_count": 31,
   "id": "0bc379dd-75a8-49ce-8f53-5a5daf815279",
   "metadata": {},
   "outputs": [
    {
     "data": {
      "text/plain": [
       "(12, 3)"
      ]
     },
     "execution_count": 31,
     "metadata": {},
     "output_type": "execute_result"
    }
   ],
   "source": [
    "np.shape(NPP_SEED_post[0])"
   ]
  },
  {
   "cell_type": "code",
   "execution_count": 27,
   "id": "a86e1b6f-76c0-4e48-9845-35789640acfe",
   "metadata": {},
   "outputs": [
    {
     "data": {
      "text/plain": [
       "(2, 12)"
      ]
     },
     "execution_count": 27,
     "metadata": {},
     "output_type": "execute_result"
    }
   ],
   "source": [
    "np.shape(SEEDS_IN_EXTERN_post)"
   ]
  },
  {
   "cell_type": "code",
   "execution_count": 28,
   "id": "b91103e8-48c9-460a-8b48-aaa0f08940ea",
   "metadata": {},
   "outputs": [
    {
     "data": {
      "text/plain": [
       "(2, 12)"
      ]
     },
     "execution_count": 28,
     "metadata": {},
     "output_type": "execute_result"
    }
   ],
   "source": [
    "np.shape(SEEDS_IN_LOCAL_post)"
   ]
  },
  {
   "cell_type": "code",
   "execution_count": 30,
   "id": "4043c3cd-47f0-4a68-b891-4e9b13131285",
   "metadata": {},
   "outputs": [
    {
     "data": {
      "text/plain": [
       "(12, 3)"
      ]
     },
     "execution_count": 30,
     "metadata": {},
     "output_type": "execute_result"
    }
   ],
   "source": [
    "np.shape(FATES_VEGC_PF_pre[0])"
   ]
  },
  {
   "cell_type": "code",
   "execution_count": 51,
   "id": "04fbe718-7ad5-4e09-bc5a-3ad63db578af",
   "metadata": {},
   "outputs": [
    {
     "name": "stdout",
     "output_type": "stream",
     "text": [
      "FATES_VEGC_PF match\n",
      "NPP_SEED match\n",
      "SEEDS_IN_EXTERN match\n",
      "SEEDS_IN_LOCAL match\n",
      "\n",
      "\n",
      "FATES_VEGC_PF match\n",
      "NPP_SEED match\n",
      "SEEDS_IN_EXTERN match\n",
      "i: 1, diff4:[0.00000000e+00 0.00000000e+00 0.00000000e+00 0.00000000e+00\n",
      " 0.00000000e+00 0.00000000e+00 0.00000000e+00 0.00000000e+00\n",
      " 0.00000000e+00 0.00000000e+00 1.38436947e-20 0.00000000e+00]\n",
      "\n",
      "\n"
     ]
    }
   ],
   "source": [
    "for i in range(2):\n",
    "    diff1 = FATES_VEGC_PF_post[i] - FATES_VEGC_PF_post[i]\n",
    "    diff2 = NPP_SEED_post[i] - NPP_SEED_pre[i]\n",
    "    diff3 = SEEDS_IN_EXTERN_post[i] - SEEDS_IN_EXTERN_pre[i]\n",
    "    diff4 = SEEDS_IN_LOCAL_post[i] - SEEDS_IN_LOCAL_pre[i]\n",
    "    if np.sum(diff1) > 0.0:\n",
    "        print(\"i: {}, diff1:{}\".format(i,diff1))\n",
    "    else:\n",
    "        print(\"FATES_VEGC_PF match\")\n",
    "    if np.sum(diff2) > 0.0:\n",
    "        print(\"i: {}, diff2:{}\".format(i,diff2))\n",
    "    else:\n",
    "        print(\"NPP_SEED match\")   \n",
    "    if np.sum(diff3) > 0.0:\n",
    "        print(\"i: {}, diff3:{}\".format(i,diff3))\n",
    "    else:\n",
    "        print(\"SEEDS_IN_EXTERN match\")   \n",
    "    if np.sum(diff4) > 0.0:\n",
    "        print(\"i: {}, diff4:{}\".format(i,diff4))\n",
    "    else:\n",
    "        print(\"SEEDS_IN_LOCAL match\")   \n",
    "    print(\"\\n\")"
   ]
  },
  {
   "cell_type": "code",
   "execution_count": null,
   "id": "977b6183-10f9-467d-8e18-61ab12eb7dfd",
   "metadata": {},
   "outputs": [],
   "source": []
  }
 ],
 "metadata": {
  "kernelspec": {
   "display_name": "Python 3 (ipykernel)",
   "language": "python",
   "name": "python3"
  },
  "language_info": {
   "codemirror_mode": {
    "name": "ipython",
    "version": 3
   },
   "file_extension": ".py",
   "mimetype": "text/x-python",
   "name": "python",
   "nbconvert_exporter": "python",
   "pygments_lexer": "ipython3",
   "version": "3.7.3"
  }
 },
 "nbformat": 4,
 "nbformat_minor": 5
}

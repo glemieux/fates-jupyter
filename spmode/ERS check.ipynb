{
 "cells": [
  {
   "cell_type": "markdown",
   "metadata": {},
   "source": [
    "# Exact Restart regression test output visualization"
   ]
  },
  {
   "cell_type": "markdown",
   "metadata": {},
   "source": [
    "This notebook simply lots the visualization for the ERS regression test comparison failure to see where the diffs are"
   ]
  },
  {
   "cell_type": "markdown",
   "metadata": {},
   "source": [
    "## Setup notebook"
   ]
  },
  {
   "cell_type": "code",
   "execution_count": null,
   "metadata": {},
   "outputs": [],
   "source": [
    "# https://alexander-barth.github.io/NCDatasets.jl/stable/\n",
    "using GeoData\n",
    "using NCDatasets\n",
    "using Plots"
   ]
  },
  {
   "cell_type": "markdown",
   "metadata": {},
   "source": [
    "## Import data"
   ]
  },
  {
   "cell_type": "code",
   "execution_count": null,
   "metadata": {},
   "outputs": [],
   "source": [
    "hdata = NCDarray(\"ERS_Ld30.f45_f45_mg37.I2000Clm50FatesCru.cheyenne_intel.clm-FatesReducedComplexSatellitePhenology.spmode-restartcarea-plantresp.clm2.h0.2000-01-01-00000.nc\");\n",
    "basedata = NCDarray(\"ERS_Ld30.f45_f45_mg37.I2000Clm50FatesCru.cheyenne_intel.clm-FatesReducedComplexSatellitePhenology.spmode-restartcarea-plantresp.clm2.h0.2000-01-01-00000.nc.base\");\n",
    "restdata = NCDarray(\"ERS_Ld30.f45_f45_mg37.I2000Clm50FatesCru.cheyenne_intel.clm-FatesReducedComplexSatellitePhenology.spmode-restartcarea-plantresp.clm2.h0.2000-01-01-00000.nc.rest\");"
   ]
  },
  {
   "cell_type": "code",
   "execution_count": null,
   "metadata": {},
   "outputs": [],
   "source": [
    "hdata"
   ]
  },
  {
   "cell_type": "markdown",
   "metadata": {},
   "source": [
    "## T_SCALAR"
   ]
  },
  {
   "cell_type": "code",
   "execution_count": 46,
   "metadata": {},
   "outputs": [
    {
     "ename": "LoadError",
     "evalue": "StackOverflowError:",
     "output_type": "error",
     "traceback": [
      "StackOverflowError:",
      "",
      "Stacktrace:",
      " [1] getindex(::NCDarray{Int32,1,String,Tuple{Dim{:fates_levscag,Base.OneTo{Int64},NoIndex,NoMetadata}},Tuple{},Symbol,Metadata{:NCD,Dict{Symbol,Any}},Missing,Tuple{Int64},String}, ::String) at /home/gregorylemieux/.julia/packages/DimensionalData/4PXYJ/src/indexing.jl:23 (repeats 79984 times)"
     ]
    }
   ],
   "source": [
    "tscalar_data = hdata[\"T_SCALAR\"]\n",
    "tscalar_base = basedata[\"T_SCALAR\"];\n",
    "tscalar_rest = restdata[\"T_SCALAR\"];"
   ]
  },
  {
   "cell_type": "code",
   "execution_count": 38,
   "metadata": {},
   "outputs": [],
   "source": [
    "tscalar_diff = tscalar_base - tscalar_rest;\n",
    "tscalar_diff_skip = skipmissing(tscalar_diff);"
   ]
  },
  {
   "cell_type": "code",
   "execution_count": 39,
   "metadata": {},
   "outputs": [
    {
     "data": {
      "text/plain": [
       "(lon = 72, lat = 46, levsoi = 20, time = 31)"
      ]
     },
     "execution_count": 39,
     "metadata": {},
     "output_type": "execute_result"
    }
   ],
   "source": [
    "dimsize(tscalar_rest)"
   ]
  },
  {
   "cell_type": "code",
   "execution_count": 40,
   "metadata": {},
   "outputs": [
    {
     "data": {
      "text/plain": [
       "0.022616625f0"
      ]
     },
     "execution_count": 40,
     "metadata": {},
     "output_type": "execute_result"
    }
   ],
   "source": [
    "maximum(tscalar_diff_skip)"
   ]
  },
  {
   "cell_type": "markdown",
   "metadata": {},
   "source": [
    "## BTRAN"
   ]
  },
  {
   "cell_type": "code",
   "execution_count": 21,
   "metadata": {},
   "outputs": [],
   "source": [
    "btran_data = hdata[\"BTRAN\"]\n",
    "btran_base = basedata[\"BTRAN\"];\n",
    "btran_rest = restdata[\"BTRAN\"];"
   ]
  },
  {
   "cell_type": "code",
   "execution_count": 33,
   "metadata": {},
   "outputs": [],
   "source": [
    "btran_diff = btran_base - btran_rest;\n",
    "btran_diff_skip = skipmissing(btran_diff);"
   ]
  },
  {
   "cell_type": "code",
   "execution_count": 36,
   "metadata": {},
   "outputs": [
    {
     "data": {
      "text/plain": [
       "(lon = 72, lat = 46, time = 31)"
      ]
     },
     "execution_count": 36,
     "metadata": {},
     "output_type": "execute_result"
    }
   ],
   "source": [
    "dimsize(btran_rest)"
   ]
  },
  {
   "cell_type": "code",
   "execution_count": 42,
   "metadata": {},
   "outputs": [
    {
     "data": {
      "text/plain": [
       "0.0046613216f0"
      ]
     },
     "execution_count": 42,
     "metadata": {},
     "output_type": "execute_result"
    }
   ],
   "source": [
    "maximum(btran_diff_skip)"
   ]
  },
  {
   "cell_type": "code",
   "execution_count": null,
   "metadata": {},
   "outputs": [],
   "source": [
    "plot(tscalar_rest)"
   ]
  }
 ],
 "metadata": {
  "kernelspec": {
   "display_name": "Julia 1.5.1",
   "language": "julia",
   "name": "julia-1.5"
  },
  "language_info": {
   "file_extension": ".jl",
   "mimetype": "application/julia",
   "name": "julia",
   "version": "1.5.1"
  }
 },
 "nbformat": 4,
 "nbformat_minor": 4
}
